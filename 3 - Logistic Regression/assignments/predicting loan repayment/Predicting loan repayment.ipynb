{
 "cells": [
  {
   "cell_type": "markdown",
   "metadata": {
    "heading_collapsed": false,
    "level": 7,
    "toc": "true"
   },
   "source": [
    "# Table of Contents\n",
    " <p><div class=\"lev1\"><a href=\"#PREDICTING-LOAN-REPAYMENT\"><span class=\"toc-item-num\">1&nbsp;&nbsp;</span>PREDICTING LOAN REPAYMENT</a></div><div class=\"lev2\"><a href=\"#Problem-1.1---Preparing-the-Dataset\"><span class=\"toc-item-num\">1.1&nbsp;&nbsp;</span>Problem 1.1 - Preparing the Dataset</a></div><div class=\"lev2\"><a href=\"#Problem-1.3---Preparing-the-Dataset\"><span class=\"toc-item-num\">1.2&nbsp;&nbsp;</span>Problem 1.3 - Preparing the Dataset</a></div><div class=\"lev3\"><a href=\"#Explanation\"><span class=\"toc-item-num\">1.2.1&nbsp;&nbsp;</span>Explanation</a></div><div class=\"lev2\"><a href=\"#Problem-1.4---Preparing-the-Dataset\"><span class=\"toc-item-num\">1.3&nbsp;&nbsp;</span>Problem 1.4 - Preparing the Dataset</a></div><div class=\"lev3\"><a href=\"#Explanation\"><span class=\"toc-item-num\">1.3.1&nbsp;&nbsp;</span>Explanation</a></div><div class=\"lev2\"><a href=\"#Problem-2.1---Prediction-Models\"><span class=\"toc-item-num\">1.4&nbsp;&nbsp;</span>Problem 2.1 - Prediction Models</a></div><div class=\"lev2\"><a href=\"#Problem-2.2---Prediction-Models\"><span class=\"toc-item-num\">1.5&nbsp;&nbsp;</span>Problem 2.2 - Prediction Models</a></div><div class=\"lev3\"><a href=\"#Explanation-1\"><span class=\"toc-item-num\">1.5.1&nbsp;&nbsp;</span>Explanation 1</a></div><div class=\"lev3\"><a href=\"#Explanation\"><span class=\"toc-item-num\">1.5.2&nbsp;&nbsp;</span>Explanation</a></div><div class=\"lev2\"><a href=\"#Problem-2.3---Prediction-Models\"><span class=\"toc-item-num\">1.6&nbsp;&nbsp;</span>Problem 2.3 - Prediction Models</a></div><div class=\"lev2\"><a href=\"#Problem-2.4---Prediction-Models\"><span class=\"toc-item-num\">1.7&nbsp;&nbsp;</span>Problem 2.4 - Prediction Models</a></div><div class=\"lev2\"><a href=\"#Problem-3.1---A-&quot;Smart-Baseline&quot;\"><span class=\"toc-item-num\">1.8&nbsp;&nbsp;</span>Problem 3.1 - A \"Smart Baseline\"</a></div><div class=\"lev2\"><a href=\"#Problem-3.2---A-&quot;Smart-Baseline&quot;\"><span class=\"toc-item-num\">1.9&nbsp;&nbsp;</span>Problem 3.2 - A \"Smart Baseline\"</a></div><div class=\"lev2\"><a href=\"#Problem-3.3---A-&quot;Smart-Baseline&quot;\"><span class=\"toc-item-num\">1.10&nbsp;&nbsp;</span>Problem 3.3 - A \"Smart Baseline\"</a></div><div class=\"lev2\"><a href=\"#Problem-4.1---Computing-the-Profitability-of-an-Investment\"><span class=\"toc-item-num\">1.11&nbsp;&nbsp;</span>Problem 4.1 - Computing the Profitability of an Investment</a></div><div class=\"lev2\"><a href=\"#Problem-4.2---Computing-the-Profitability-of-an-Investment\"><span class=\"toc-item-num\">1.12&nbsp;&nbsp;</span>Problem 4.2 - Computing the Profitability of an Investment</a></div><div class=\"lev2\"><a href=\"#Problem-4.3---Computing-the-Profitability-of-an-Investment\"><span class=\"toc-item-num\">1.13&nbsp;&nbsp;</span>Problem 4.3 - Computing the Profitability of an Investment</a></div><div class=\"lev2\"><a href=\"#Problem-5.1---A-Simple-Investment-Strategy\"><span class=\"toc-item-num\">1.14&nbsp;&nbsp;</span>Problem 5.1 - A Simple Investment Strategy</a></div>"
   ]
  },
  {
   "cell_type": "markdown",
   "metadata": {
    "level": 7
   },
   "source": [
    "PREDICTING LOAN REPAYMENT\n",
    "==========================\n",
    "\n",
    "In the lending industry, investors provide loans to borrowers in exchange for the promise of repayment with interest. If the borrower repays the loan, then the lender profits from the interest. However, if the borrower is unable to repay the loan, then the lender loses money. Therefore, lenders face the problem of predicting the risk of a borrower being unable to repay a loan.\n",
    "\n",
    "To address this problem, we will use publicly available data from LendingClub.com, a website that connects borrowers and investors over the Internet. This dataset represents 9,578 3-year loans that were funded through the LendingClub.com platform between May 2007 and February 2010. The binary dependent variable not_fully_paid indicates that the loan was not paid back in full (the borrower either defaulted or the loan was \"charged off,\" meaning the borrower was deemed unlikely to ever pay it back).\n",
    "\n",
    "To predict this dependent variable, we will use the following independent variables available to the investor when deciding whether to fund a loan:\n",
    "\n",
    "- credit.policy: 1 if the customer meets the credit underwriting criteria of LendingClub.com, and 0 otherwise.\n",
    "- purpose: The purpose of the loan (takes values \"credit_card\", \"debt_consolidation\", \"educational\", \"major_purchase\", \"small_business\", and \"all_other\").\n",
    "- int.rate: The interest rate of the loan, as a proportion (a rate of 11% would be stored as 0.11). Borrowers judged by LendingClub.com to be more risky are assigned higher interest rates.\n",
    "- installment: The monthly installments ($) owed by the borrower if the loan is funded.\n",
    "- log.annual.inc: The natural log of the self-reported annual income of the borrower.\n",
    "- dti: The debt-to-income ratio of the borrower (amount of debt divided by annual income).\n",
    "- fico: The FICO credit score of the borrower.\n",
    "- days.with.cr.line: The number of days the borrower has had a credit line.\n",
    "- revol.bal: The borrower's revolving balance (amount unpaid at the end of the credit card billing cycle).\n",
    "- revol.util: The borrower's revolving line utilization rate (the amount of the credit line used relative to total credit available).\n",
    "- inq.last.6mths: The borrower's number of inquiries by creditors in the last 6 months.\n",
    "- delinq.2yrs: The number of times the borrower had been 30+ days past due on a payment in the past 2 years.\n",
    "- pub.rec: The borrower's number of derogatory public records (bankruptcy filings, tax liens, or judgments)."
   ]
  },
  {
   "cell_type": "markdown",
   "metadata": {
    "heading_collapsed": false,
    "level": 2
   },
   "source": [
    "## Problem 1.1 - Preparing the Dataset\n",
    "\n",
    "Load the dataset loans.csv into a data frame called loans, and explore it using the str() and summary() functions.\n",
    "\n",
    "What proportion of the loans in the dataset were not paid in full? Please input a number between 0 and 1."
   ]
  },
  {
   "cell_type": "code",
   "execution_count": 1,
   "metadata": {
    "collapsed": false,
    "level": 7
   },
   "outputs": [
    {
     "name": "stdout",
     "output_type": "stream",
     "text": [
      "'data.frame':\t9578 obs. of  14 variables:\n",
      " $ credit.policy    : int  1 1 1 1 1 1 1 1 1 1 ...\n",
      " $ purpose          : Factor w/ 7 levels \"all_other\",\"credit_card\",..: 3 2 3 3 2 2 3 1 5 3 ...\n",
      " $ int.rate         : num  0.119 0.107 0.136 0.101 0.143 ...\n",
      " $ installment      : num  829 228 367 162 103 ...\n",
      " $ log.annual.inc   : num  11.4 11.1 10.4 11.4 11.3 ...\n",
      " $ dti              : num  19.5 14.3 11.6 8.1 15 ...\n",
      " $ fico             : int  737 707 682 712 667 727 667 722 682 707 ...\n",
      " $ days.with.cr.line: num  5640 2760 4710 2700 4066 ...\n",
      " $ revol.bal        : int  28854 33623 3511 33667 4740 50807 3839 24220 69909 5630 ...\n",
      " $ revol.util       : num  52.1 76.7 25.6 73.2 39.5 51 76.8 68.6 51.1 23 ...\n",
      " $ inq.last.6mths   : int  0 0 1 1 0 0 0 0 1 1 ...\n",
      " $ delinq.2yrs      : int  0 0 0 0 1 0 0 0 0 0 ...\n",
      " $ pub.rec          : int  0 0 0 0 0 0 1 0 0 0 ...\n",
      " $ not.fully.paid   : int  0 0 0 0 0 0 1 1 0 0 ...\n"
     ]
    },
    {
     "data": {
      "text/plain": [
       " credit.policy                 purpose        int.rate       installment    \n",
       " Min.   :0.000   all_other         :2331   Min.   :0.0600   Min.   : 15.67  \n",
       " 1st Qu.:1.000   credit_card       :1262   1st Qu.:0.1039   1st Qu.:163.77  \n",
       " Median :1.000   debt_consolidation:3957   Median :0.1221   Median :268.95  \n",
       " Mean   :0.805   educational       : 343   Mean   :0.1226   Mean   :319.09  \n",
       " 3rd Qu.:1.000   home_improvement  : 629   3rd Qu.:0.1407   3rd Qu.:432.76  \n",
       " Max.   :1.000   major_purchase    : 437   Max.   :0.2164   Max.   :940.14  \n",
       "                 small_business    : 619                                    \n",
       " log.annual.inc        dti              fico       days.with.cr.line\n",
       " Min.   : 7.548   Min.   : 0.000   Min.   :612.0   Min.   :  179    \n",
       " 1st Qu.:10.558   1st Qu.: 7.213   1st Qu.:682.0   1st Qu.: 2820    \n",
       " Median :10.928   Median :12.665   Median :707.0   Median : 4140    \n",
       " Mean   :10.932   Mean   :12.607   Mean   :710.8   Mean   : 4562    \n",
       " 3rd Qu.:11.290   3rd Qu.:17.950   3rd Qu.:737.0   3rd Qu.: 5730    \n",
       " Max.   :14.528   Max.   :29.960   Max.   :827.0   Max.   :17640    \n",
       " NA's   :4                                         NA's   :29       \n",
       "   revol.bal         revol.util     inq.last.6mths    delinq.2yrs     \n",
       " Min.   :      0   Min.   :  0.00   Min.   : 0.000   Min.   : 0.0000  \n",
       " 1st Qu.:   3187   1st Qu.: 22.70   1st Qu.: 0.000   1st Qu.: 0.0000  \n",
       " Median :   8596   Median : 46.40   Median : 1.000   Median : 0.0000  \n",
       " Mean   :  16914   Mean   : 46.87   Mean   : 1.572   Mean   : 0.1638  \n",
       " 3rd Qu.:  18250   3rd Qu.: 71.00   3rd Qu.: 2.000   3rd Qu.: 0.0000  \n",
       " Max.   :1207359   Max.   :119.00   Max.   :33.000   Max.   :13.0000  \n",
       "                   NA's   :62       NA's   :29       NA's   :29       \n",
       "    pub.rec       not.fully.paid  \n",
       " Min.   :0.0000   Min.   :0.0000  \n",
       " 1st Qu.:0.0000   1st Qu.:0.0000  \n",
       " Median :0.0000   Median :0.0000  \n",
       " Mean   :0.0621   Mean   :0.1601  \n",
       " 3rd Qu.:0.0000   3rd Qu.:0.0000  \n",
       " Max.   :5.0000   Max.   :1.0000  \n",
       " NA's   :29                       "
      ]
     },
     "metadata": {},
     "output_type": "display_data"
    }
   ],
   "source": [
    "loans<- read.csv(\"loans.csv\")\n",
    "str(loans)\n",
    "summary(loans)"
   ]
  },
  {
   "cell_type": "code",
   "execution_count": 2,
   "metadata": {
    "collapsed": false,
    "level": 7
   },
   "outputs": [
    {
     "data": {
      "text/plain": [
       "\n",
       "   0    1 \n",
       "8045 1533 "
      ]
     },
     "metadata": {},
     "output_type": "display_data"
    }
   ],
   "source": [
    "table(loans$not.fully.paid)"
   ]
  },
  {
   "cell_type": "code",
   "execution_count": 6,
   "metadata": {
    "collapsed": false,
    "level": 7
   },
   "outputs": [
    {
     "data": {
      "text/plain": [
       "\n",
       "        0         1 \n",
       "0.8399457 0.1600543 "
      ]
     },
     "metadata": {},
     "output_type": "display_data"
    }
   ],
   "source": [
    "table(loans$not.fully.paid)/nrow(loans)"
   ]
  },
  {
   "cell_type": "markdown",
   "metadata": {
    "level": 7
   },
   "source": [
    "The following variables present missing values: log.annual.inc , days.with.cr.line , revol.util, inq.last.6mths, delinq.2yrs, pub.rec ."
   ]
  },
  {
   "cell_type": "markdown",
   "metadata": {
    "heading_collapsed": false,
    "level": 2
   },
   "source": [
    "## Problem 1.3 - Preparing the Dataset\n",
    "\n",
    "Which of the following is the best reason to fill in the missing values for these variables instead of removing observations with missing data? \n",
    "\n",
    "(Hint: you can use the subset() function to build a data frame with the observations missing at least one value. To test if a variable, for example pub.rec, is missing a value, use is.na(pub.rec).)\n",
    "\n",
    "- If we remove the missing observations there will be too little remaining data, leading to overfitting in our models.\n",
    "- We want to be able to predict risk for all borrowers, instead of just the ones with all data reported.\n",
    "- In this dataset the observations with missing data have a much different rate of not paying in full, so removing them would bias subsequent models."
   ]
  },
  {
   "cell_type": "markdown",
   "metadata": {
    "heading_collapsed": false,
    "level": 3
   },
   "source": [
    "### Explanation\n",
    "\n",
    "Answering this question requires analyzing the loans with missing data. \n",
    "\n",
    "We can build a data frame limited to observations with some missing data with the following command:\n",
    "\n",
    "> missing = subset(loans, is.na(log.annual.inc) | is.na(days.with.cr.line) | is.na(revol.util) | is.na(inq.last.6mths) | is.na(delinq.2yrs) | is.na(pub.rec))\n",
    "\n",
    "From nrow(missing), we see that only 62 of 9578 loans have missing data; removing this small number of observations would not lead to overfitting. \n",
    "\n",
    "From table(missing$not.fully.paid), we see that 12 of 62 loans with missing data were not fully paid, or 19.35%. \n",
    "This rate is similar to the 16.01% across all loans, so the form of biasing described is not an issue. However, to predict risk for loans with missing data we need to fill in the missing values instead of removing the observations."
   ]
  },
  {
   "cell_type": "markdown",
   "metadata": {
    "heading_collapsed": false,
    "level": 2
   },
   "source": [
    "## Problem 1.4 - Preparing the Dataset\n",
    "\n",
    "For the rest of this problem, we'll be using a revised version of the dataset that has the missing values filled in with multiple imputation (which was discussed in the Recitation of this Unit). To ensure everybody has the same data frame going forward, you can either run the commands below in your R console (if you haven't already, run the command install.packages(\"mice\") first), or you can download and load into R the dataset we created after running the imputation: loans_imputed.csv.\n",
    "\n",
    "IMPORTANT NOTE: On certain operating systems, the imputation results are not the same even if you set the random seed. If you decide to do the imputation yourself, please still read the provided imputed dataset (loans_imputed.csv) into R and compare your results, using the summary function. If the results are different, please make sure to use the data in loans_imputed.csv for the rest of the problem.\n",
    "\n",
    "library(mice)\n",
    "\n",
    "set.seed(144)\n",
    "\n",
    "vars.for.imputation = setdiff(names(loans), \"not.fully.paid\")\n",
    "\n",
    "imputed = complete(mice(loans[vars.for.imputation]))\n",
    "\n",
    "loans[vars.for.imputation] = imputed\n",
    "\n",
    "Note that to do this imputation, we set vars.for.imputation to all variables in the data frame except for not.fully.paid, to impute the values using all of the other independent variables.\n",
    "\n",
    "What best describes the process we just used to handle missing values?\n",
    "\n",
    "\n",
    "- We removed all observations with a missing value.\n",
    "- We filled each missing value with the average of all other values for that variable.\n",
    "- We predicted missing variable values using the available independent variables for each observation.\n",
    "- We predicted missing variable values using the available independent and dependent variables for each observation."
   ]
  },
  {
   "cell_type": "code",
   "execution_count": 7,
   "metadata": {
    "collapsed": false,
    "level": 7
   },
   "outputs": [
    {
     "name": "stderr",
     "output_type": "stream",
     "text": [
      "Loading required package: Rcpp\n",
      "mice 2.25 2015-11-09\n"
     ]
    },
    {
     "name": "stdout",
     "output_type": "stream",
     "text": [
      "\n",
      " iter imp variable\n",
      "  1   1  log.annual.inc  days.with.cr.line  revol.util  inq.last.6mths  delinq.2yrs  pub.rec\n",
      "  1   2  log.annual.inc  days.with.cr.line  revol.util  inq.last.6mths  delinq.2yrs  pub.rec\n",
      "  1   3  log.annual.inc  days.with.cr.line  revol.util  inq.last.6mths  delinq.2yrs  pub.rec\n",
      "  1   4  log.annual.inc  days.with.cr.line  revol.util  inq.last.6mths  delinq.2yrs  pub.rec\n",
      "  1   5  log.annual.inc  days.with.cr.line  revol.util  inq.last.6mths  delinq.2yrs  pub.rec\n",
      "  2   1  log.annual.inc  days.with.cr.line  revol.util  inq.last.6mths  delinq.2yrs  pub.rec\n",
      "  2   2  log.annual.inc  days.with.cr.line  revol.util  inq.last.6mths  delinq.2yrs  pub.rec\n",
      "  2   3  log.annual.inc  days.with.cr.line  revol.util  inq.last.6mths  delinq.2yrs  pub.rec\n",
      "  2   4  log.annual.inc  days.with.cr.line  revol.util  inq.last.6mths  delinq.2yrs  pub.rec\n",
      "  2   5  log.annual.inc  days.with.cr.line  revol.util  inq.last.6mths  delinq.2yrs  pub.rec\n",
      "  3   1  log.annual.inc  days.with.cr.line  revol.util  inq.last.6mths  delinq.2yrs  pub.rec\n",
      "  3   2  log.annual.inc  days.with.cr.line  revol.util  inq.last.6mths  delinq.2yrs  pub.rec\n",
      "  3   3  log.annual.inc  days.with.cr.line  revol.util  inq.last.6mths  delinq.2yrs  pub.rec\n",
      "  3   4  log.annual.inc  days.with.cr.line  revol.util  inq.last.6mths  delinq.2yrs  pub.rec\n",
      "  3   5  log.annual.inc  days.with.cr.line  revol.util  inq.last.6mths  delinq.2yrs  pub.rec\n",
      "  4   1  log.annual.inc  days.with.cr.line  revol.util  inq.last.6mths  delinq.2yrs  pub.rec\n",
      "  4   2  log.annual.inc  days.with.cr.line  revol.util  inq.last.6mths  delinq.2yrs  pub.rec\n",
      "  4   3  log.annual.inc  days.with.cr.line  revol.util  inq.last.6mths  delinq.2yrs  pub.rec\n",
      "  4   4  log.annual.inc  days.with.cr.line  revol.util  inq.last.6mths  delinq.2yrs  pub.rec\n",
      "  4   5  log.annual.inc  days.with.cr.line  revol.util  inq.last.6mths  delinq.2yrs  pub.rec\n",
      "  5   1  log.annual.inc  days.with.cr.line  revol.util  inq.last.6mths  delinq.2yrs  pub.rec\n",
      "  5   2  log.annual.inc  days.with.cr.line  revol.util  inq.last.6mths  delinq.2yrs  pub.rec\n",
      "  5   3  log.annual.inc  days.with.cr.line  revol.util  inq.last.6mths  delinq.2yrs  pub.rec\n",
      "  5   4  log.annual.inc  days.with.cr.line  revol.util  inq.last.6mths  delinq.2yrs  pub.rec\n",
      "  5   5  log.annual.inc  days.with.cr.line  revol.util  inq.last.6mths  delinq.2yrs  pub.rec\n"
     ]
    }
   ],
   "source": [
    "library(mice)\n",
    "set.seed(144)\n",
    "vars.for.imputation = setdiff(names(loans), \"not.fully.paid\")\n",
    "imputed = complete(mice(loans[vars.for.imputation]))\n",
    "loans[vars.for.imputation] = imputed"
   ]
  },
  {
   "cell_type": "markdown",
   "metadata": {
    "heading_collapsed": false,
    "level": 3
   },
   "source": [
    "### Explanation\n",
    "\n",
    "Imputation predicts missing variable values for a given observation using the variable values that are reported. We called the imputation on a data frame with the dependent variable not.fully.paid removed, so we predicted the missing values using only other independent variables.\n",
    "\n",
    "So, we predicted missing variable values using the available independent variables for each observation."
   ]
  },
  {
   "cell_type": "markdown",
   "metadata": {
    "heading_collapsed": false,
    "level": 2
   },
   "source": [
    "## Problem 2.1 - Prediction Models\n",
    "\n",
    "Now that we have prepared the dataset, we need to split it into a training and testing set. To ensure everybody obtains the same split, set the random seed to 144 (even though you already did so earlier in the problem) and use the sample.split function to select the 70% of observations for the training set (the dependent variable for sample.split is not.fully.paid). Name the data frames train and test.\n",
    "\n",
    "Now, use logistic regression trained on the training set to predict the dependent variable not.fully.paid using all the independent variables.\n",
    "\n",
    "Which independent variables are significant in our model? (Significant variables have at least one star, or a Pr(>|z|) value less than 0.05.) Select all that apply."
   ]
  },
  {
   "cell_type": "code",
   "execution_count": 8,
   "metadata": {
    "collapsed": true,
    "level": 7
   },
   "outputs": [],
   "source": [
    "set.seed(144)\n",
    "library(caTools)"
   ]
  },
  {
   "cell_type": "code",
   "execution_count": 9,
   "metadata": {
    "collapsed": true,
    "level": 7
   },
   "outputs": [],
   "source": [
    "?sample.split"
   ]
  },
  {
   "cell_type": "code",
   "execution_count": 10,
   "metadata": {
    "collapsed": true,
    "level": 7
   },
   "outputs": [],
   "source": [
    "split <- sample.split(loans$not.fully.paid, SplitRatio=.7)"
   ]
  },
  {
   "cell_type": "code",
   "execution_count": 11,
   "metadata": {
    "collapsed": true,
    "level": 7
   },
   "outputs": [],
   "source": [
    "train <- subset(loans, split == TRUE)\n",
    "test <- subset(loans, split == FALSE)"
   ]
  },
  {
   "cell_type": "code",
   "execution_count": 12,
   "metadata": {
    "collapsed": false,
    "level": 7
   },
   "outputs": [
    {
     "data": {
      "text/html": [
       "0.700041762372103"
      ],
      "text/latex": [
       "0.700041762372103"
      ],
      "text/markdown": [
       "0.700041762372103"
      ],
      "text/plain": [
       "[1] 0.7000418"
      ]
     },
     "metadata": {},
     "output_type": "display_data"
    },
    {
     "data": {
      "text/html": [
       "0.299958237627897"
      ],
      "text/latex": [
       "0.299958237627897"
      ],
      "text/markdown": [
       "0.299958237627897"
      ],
      "text/plain": [
       "[1] 0.2999582"
      ]
     },
     "metadata": {},
     "output_type": "display_data"
    }
   ],
   "source": [
    "nrow(train)/nrow(loans)\n",
    "nrow(test)/nrow(loans)"
   ]
  },
  {
   "cell_type": "code",
   "execution_count": 13,
   "metadata": {
    "collapsed": true,
    "level": 7
   },
   "outputs": [],
   "source": [
    "?glm"
   ]
  },
  {
   "cell_type": "code",
   "execution_count": 14,
   "metadata": {
    "collapsed": false,
    "level": 7
   },
   "outputs": [
    {
     "data": {
      "text/plain": [
       "\n",
       "Call:\n",
       "glm(formula = not.fully.paid ~ ., family = binomial, data = train)\n",
       "\n",
       "Deviance Residuals: \n",
       "    Min       1Q   Median       3Q      Max  \n",
       "-2.2097  -0.6214  -0.4950  -0.3601   2.6414  \n",
       "\n",
       "Coefficients:\n",
       "                    Estimate Std. Error z value Pr(>|z|)    \n",
       "(Intercept)        9.260e+00  1.554e+00   5.958 2.55e-09 ***\n",
       "credit.policy     -3.327e-01  1.011e-01  -3.292 0.000995 ***\n",
       "purpose2          -6.100e-01  1.344e-01  -4.538 5.67e-06 ***\n",
       "purpose3          -3.181e-01  9.185e-02  -3.463 0.000534 ***\n",
       "purpose4           1.386e-01  1.753e-01   0.791 0.429074    \n",
       "purpose5           1.774e-01  1.479e-01   1.199 0.230496    \n",
       "purpose6          -4.783e-01  2.009e-01  -2.381 0.017260 *  \n",
       "purpose7           4.159e-01  1.419e-01   2.932 0.003373 ** \n",
       "int.rate           6.202e-01  2.085e+00   0.297 0.766111    \n",
       "installment        1.279e-03  2.093e-04   6.110 9.96e-10 ***\n",
       "log.annual.inc    -4.357e-01  7.151e-02  -6.093 1.11e-09 ***\n",
       "dti                4.733e-03  5.501e-03   0.861 0.389508    \n",
       "fico              -9.406e-03  1.707e-03  -5.510 3.60e-08 ***\n",
       "days.with.cr.line  3.174e-06  1.587e-05   0.200 0.841463    \n",
       "revol.bal          3.103e-06  1.169e-06   2.653 0.007966 ** \n",
       "revol.util         1.796e-03  1.532e-03   1.172 0.241022    \n",
       "inq.last.6mths     8.386e-02  1.577e-02   5.317 1.06e-07 ***\n",
       "delinq.2yrs       -7.794e-02  6.532e-02  -1.193 0.232814    \n",
       "pub.rec            3.191e-01  1.134e-01   2.814 0.004899 ** \n",
       "---\n",
       "Signif. codes:  0 '***' 0.001 '**' 0.01 '*' 0.05 '.' 0.1 ' ' 1\n",
       "\n",
       "(Dispersion parameter for binomial family taken to be 1)\n",
       "\n",
       "    Null deviance: 5896.6  on 6704  degrees of freedom\n",
       "Residual deviance: 5485.7  on 6686  degrees of freedom\n",
       "AIC: 5523.7\n",
       "\n",
       "Number of Fisher Scoring iterations: 5\n"
      ]
     },
     "metadata": {},
     "output_type": "display_data"
    }
   ],
   "source": [
    "mod <- glm(not.fully.paid ~ ., data=train, family=binomial)\n",
    "summary(mod)"
   ]
  },
  {
   "cell_type": "code",
   "execution_count": 21,
   "metadata": {
    "collapsed": false,
    "level": 7
   },
   "outputs": [
    {
     "data": {
      "text/html": [
       "<dl class=dl-horizontal>\n",
       "\t<dt>(Intercept)</dt>\n",
       "\t\t<dd>2.55065993627392e-09</dd>\n",
       "\t<dt>credit.policy</dt>\n",
       "\t\t<dd>0.000994861702404241</dd>\n",
       "\t<dt>purpose2</dt>\n",
       "\t\t<dd>5.66605657927299e-06</dd>\n",
       "\t<dt>purpose3</dt>\n",
       "\t\t<dd>0.000534278290396648</dd>\n",
       "\t<dt>purpose6</dt>\n",
       "\t\t<dd>0.0172600527140381</dd>\n",
       "\t<dt>purpose7</dt>\n",
       "\t\t<dd>0.00337261279756727</dd>\n",
       "\t<dt>installment</dt>\n",
       "\t\t<dd>9.95993373474504e-10</dd>\n",
       "\t<dt>log.annual.inc</dt>\n",
       "\t\t<dd>1.11072393050688e-09</dd>\n",
       "\t<dt>fico</dt>\n",
       "\t\t<dd>3.59834471579283e-08</dd>\n",
       "\t<dt>revol.bal</dt>\n",
       "\t\t<dd>0.00796642229363438</dd>\n",
       "\t<dt>inq.last.6mths</dt>\n",
       "\t\t<dd>1.05540694564702e-07</dd>\n",
       "\t<dt>pub.rec</dt>\n",
       "\t\t<dd>0.00489875637416171</dd>\n",
       "</dl>\n"
      ],
      "text/latex": [
       "\\begin{description*}\n",
       "\\item[(Intercept)] 2.55065993627392e-09\n",
       "\\item[credit.policy] 0.000994861702404241\n",
       "\\item[purpose2] 5.66605657927299e-06\n",
       "\\item[purpose3] 0.000534278290396648\n",
       "\\item[purpose6] 0.0172600527140381\n",
       "\\item[purpose7] 0.00337261279756727\n",
       "\\item[installment] 9.95993373474504e-10\n",
       "\\item[log.annual.inc] 1.11072393050688e-09\n",
       "\\item[fico] 3.59834471579283e-08\n",
       "\\item[revol.bal] 0.00796642229363438\n",
       "\\item[inq.last.6mths] 1.05540694564702e-07\n",
       "\\item[pub.rec] 0.00489875637416171\n",
       "\\end{description*}\n"
      ],
      "text/markdown": [
       "(Intercept)\n",
       ":   2.55065993627392e-09credit.policy\n",
       ":   0.000994861702404241purpose2\n",
       ":   5.66605657927299e-06purpose3\n",
       ":   0.000534278290396648purpose6\n",
       ":   0.0172600527140381purpose7\n",
       ":   0.00337261279756727installment\n",
       ":   9.95993373474504e-10log.annual.inc\n",
       ":   1.11072393050688e-09fico\n",
       ":   3.59834471579283e-08revol.bal\n",
       ":   0.00796642229363438inq.last.6mths\n",
       ":   1.05540694564702e-07pub.rec\n",
       ":   0.00489875637416171\n",
       "\n"
      ],
      "text/plain": [
       "   (Intercept)  credit.policy       purpose2       purpose3       purpose6 \n",
       "  2.550660e-09   9.948617e-04   5.666057e-06   5.342783e-04   1.726005e-02 \n",
       "      purpose7    installment log.annual.inc           fico      revol.bal \n",
       "  3.372613e-03   9.959934e-10   1.110724e-09   3.598345e-08   7.966422e-03 \n",
       "inq.last.6mths        pub.rec \n",
       "  1.055407e-07   4.898756e-03 "
      ]
     },
     "metadata": {},
     "output_type": "display_data"
    }
   ],
   "source": [
    "subset(summary(mod)$coefficients[,\"Pr(>|z|)\"], summary(mod)$coefficients[,\"Pr(>|z|)\"] < .05)"
   ]
  },
  {
   "cell_type": "markdown",
   "metadata": {
    "heading_collapsed": false,
    "level": 2
   },
   "source": [
    "## Problem 2.2 - Prediction Models\n",
    "\n",
    "Consider two loan applications, which are identical other than the fact that the borrower in Application A has FICO credit score 700 while the borrower in Application B has FICO credit score 710.\n",
    "\n",
    "Let Logit(A) be the log odds of loan A not being paid back in full, according to our logistic regression model, and define Logit(B) similarly for loan B. What is the value of Logit(A) - Logit(B)?"
   ]
  },
  {
   "cell_type": "code",
   "execution_count": 27,
   "metadata": {
    "collapsed": false,
    "level": 7
   },
   "outputs": [
    {
     "data": {
      "text/html": [
       "0.0940562757604813"
      ],
      "text/latex": [
       "0.0940562757604813"
      ],
      "text/markdown": [
       "0.0940562757604813"
      ],
      "text/plain": [
       "[1] 0.09405628"
      ]
     },
     "metadata": {},
     "output_type": "display_data"
    }
   ],
   "source": [
    "summary(mod)$coefficients[\"fico\",\"Estimate\"] * -10"
   ]
  },
  {
   "cell_type": "markdown",
   "metadata": {
    "heading_collapsed": false,
    "level": 3
   },
   "source": [
    "### Explanation 1\n",
    "Because Application A is identical to Application B other than having a FICO score 10 lower, its predicted log odds differ by $-0.009317 * -10 = 0.09317$ from the predicted log odds of Application B.\n",
    "\n",
    "\n",
    "--------------"
   ]
  },
  {
   "cell_type": "markdown",
   "metadata": {
    "level": 7
   },
   "source": [
    "Now, let O(A) be the odds of loan A not being paid back in full, according to our logistic regression model, and define O(B) similarly for loan B. What is the value of O(A)/O(B)? (HINT: Use the mathematical rule that exp(A + B + C) = exp(A)*exp(B)*exp(C). Also, remember that exp() is the exponential function in R.)"
   ]
  },
  {
   "cell_type": "code",
   "execution_count": 28,
   "metadata": {
    "collapsed": false
   },
   "outputs": [
    {
     "data": {
      "text/html": [
       "1.09862156994189"
      ],
      "text/latex": [
       "1.09862156994189"
      ],
      "text/markdown": [
       "1.09862156994189"
      ],
      "text/plain": [
       "[1] 1.098622"
      ]
     },
     "metadata": {},
     "output_type": "display_data"
    }
   ],
   "source": [
    "exp(summary(mod)$coefficients[\"fico\",\"Estimate\"] * -10)"
   ]
  },
  {
   "cell_type": "markdown",
   "metadata": {
    "heading_collapsed": false,
    "level": 3
   },
   "source": [
    "### Explanation\n",
    "\n",
    "Using the answer from the previous question, the predicted odds of loan A not being paid back in full are exp(0.09317) = 1.0976 times larger than the predicted odds for loan B. Intuitively, it makes sense that loan A should have higher odds of non-payment than loan B, since the borrower has a worse credit score."
   ]
  },
  {
   "cell_type": "markdown",
   "metadata": {
    "heading_collapsed": false,
    "level": 2
   },
   "source": [
    "## Problem 2.3 - Prediction Models\n",
    "\n",
    "Predict the probability of the test set loans not being paid back in full (remember type=\"response\" for the predict function). Store these predicted probabilities in a variable named predicted.risk and add it to your test set (we will use this variable in later parts of the problem). Compute the confusion matrix using a threshold of 0.5.\n",
    "\n",
    "What is the accuracy of the logistic regression model? Input the accuracy as a number between 0 and 1."
   ]
  },
  {
   "cell_type": "code",
   "execution_count": 29,
   "metadata": {
    "collapsed": true
   },
   "outputs": [],
   "source": [
    "?predict"
   ]
  },
  {
   "cell_type": "code",
   "execution_count": 31,
   "metadata": {
    "collapsed": false
   },
   "outputs": [
    {
     "name": "stderr",
     "output_type": "stream",
     "text": [
      "Warning message:\n",
      "\"contrasts dropped from factor purpose\""
     ]
    }
   ],
   "source": [
    "test$predicted.risk <- predict(mod, newdata=test, type=\"response\")"
   ]
  },
  {
   "cell_type": "code",
   "execution_count": 32,
   "metadata": {
    "collapsed": false
   },
   "outputs": [
    {
     "data": {
      "text/plain": [
       "   \n",
       "    FALSE TRUE\n",
       "  0  2400   13\n",
       "  1   457    3"
      ]
     },
     "metadata": {},
     "output_type": "display_data"
    }
   ],
   "source": [
    "thresh <- .5\n",
    "table(test$not.fully.paid, test$predicted.risk > thresh)"
   ]
  },
  {
   "cell_type": "code",
   "execution_count": 34,
   "metadata": {
    "collapsed": false
   },
   "outputs": [
    {
     "data": {
      "text/html": [
       "0.836407935955447"
      ],
      "text/latex": [
       "0.836407935955447"
      ],
      "text/markdown": [
       "0.836407935955447"
      ],
      "text/plain": [
       "[1] 0.8364079"
      ]
     },
     "metadata": {},
     "output_type": "display_data"
    }
   ],
   "source": [
    "accuracy <- (2400 + 3) / (2400 + 13 + 457 +3)\n",
    "accuracy"
   ]
  },
  {
   "cell_type": "markdown",
   "metadata": {
    "level": 7
   },
   "source": [
    "What is the accuracy of the baseline model? Input the accuracy as a number between 0 and 1."
   ]
  },
  {
   "cell_type": "code",
   "execution_count": 35,
   "metadata": {
    "collapsed": false
   },
   "outputs": [
    {
     "data": {
      "text/plain": [
       "\n",
       "   0    1 \n",
       "2413  460 "
      ]
     },
     "metadata": {},
     "output_type": "display_data"
    }
   ],
   "source": [
    "table(test$not.fully.paid)"
   ]
  },
  {
   "cell_type": "code",
   "execution_count": 37,
   "metadata": {
    "collapsed": false
   },
   "outputs": [
    {
     "data": {
      "text/html": [
       "0.839888618169161"
      ],
      "text/latex": [
       "0.839888618169161"
      ],
      "text/markdown": [
       "0.839888618169161"
      ],
      "text/plain": [
       "[1] 0.8398886"
      ]
     },
     "metadata": {},
     "output_type": "display_data"
    }
   ],
   "source": [
    "baseline_accuracy <- 2413/(2413+460)\n",
    "baseline_accuracy"
   ]
  },
  {
   "cell_type": "markdown",
   "metadata": {
    "heading_collapsed": false,
    "level": 2
   },
   "source": [
    "## Problem 2.4 - Prediction Models\n",
    "\n",
    "Use the ROCR package to compute the test set AUC."
   ]
  },
  {
   "cell_type": "code",
   "execution_count": 38,
   "metadata": {
    "collapsed": false
   },
   "outputs": [
    {
     "name": "stderr",
     "output_type": "stream",
     "text": [
      "Loading required package: gplots\n",
      "\n",
      "Attaching package: 'gplots'\n",
      "\n",
      "The following object is masked from 'package:stats':\n",
      "\n",
      "    lowess\n",
      "\n"
     ]
    }
   ],
   "source": [
    "library(ROCR)"
   ]
  },
  {
   "cell_type": "code",
   "execution_count": 39,
   "metadata": {
    "collapsed": false
   },
   "outputs": [
    {
     "data": {
      "text/html": [
       "0.67213373213932"
      ],
      "text/latex": [
       "0.67213373213932"
      ],
      "text/markdown": [
       "0.67213373213932"
      ],
      "text/plain": [
       "[1] 0.6721337"
      ]
     },
     "metadata": {},
     "output_type": "display_data"
    }
   ],
   "source": [
    "pred = prediction(test$predicted.risk, test$not.fully.paid)\n",
    "as.numeric(performance(pred, \"auc\")@y.values)"
   ]
  },
  {
   "cell_type": "markdown",
   "metadata": {
    "heading_collapsed": false,
    "level": 2
   },
   "source": [
    "## Problem 3.1 - A \"Smart Baseline\"\n",
    "\n",
    "In the previous problem, we built a logistic regression model that has an AUC significantly higher than the AUC of 0.5 that would be obtained by randomly ordering observations.\n",
    "\n",
    "However, LendingClub.com assigns the interest rate to a loan based on their estimate of that loan's risk. This variable, int.rate, is an independent variable in our dataset. In this part, we will investigate using the loan's interest rate as a \"smart baseline\" to order the loans according to risk.\n",
    "\n",
    "Using the training set, build a bivariate logistic regression model (aka a logistic regression model with a single independent variable) that predicts the dependent variable not.fully.paid using only the variable int.rate.\n",
    "\n",
    "The variable int.rate is highly significant in the bivariate model, but it is not significant at the 0.05 level in the model trained with all the independent variables. What is the most likely explanation for this difference?\n",
    "\n",
    "- int.rate is correlated with other risk-related variables, and therefore does not incrementally improve the model when those other variables are included.\n",
    "- This effect is likely due to the training/testing set split we used. In other splits, we could see the opposite effect.\n",
    "- These models are trained on a different set of observations, so the coefficients are not comparable."
   ]
  },
  {
   "cell_type": "code",
   "execution_count": 40,
   "metadata": {
    "collapsed": true
   },
   "outputs": [],
   "source": [
    "mod_biv <- glm(not.fully.paid ~ int.rate, data=train, family=binomial)"
   ]
  },
  {
   "cell_type": "code",
   "execution_count": 41,
   "metadata": {
    "collapsed": false
   },
   "outputs": [
    {
     "data": {
      "text/plain": [
       "\n",
       "Call:\n",
       "glm(formula = not.fully.paid ~ int.rate, family = binomial, data = train)\n",
       "\n",
       "Deviance Residuals: \n",
       "    Min       1Q   Median       3Q      Max  \n",
       "-1.0547  -0.6271  -0.5442  -0.4361   2.2914  \n",
       "\n",
       "Coefficients:\n",
       "            Estimate Std. Error z value Pr(>|z|)    \n",
       "(Intercept)  -3.6726     0.1688  -21.76   <2e-16 ***\n",
       "int.rate     15.9214     1.2702   12.54   <2e-16 ***\n",
       "---\n",
       "Signif. codes:  0 '***' 0.001 '**' 0.01 '*' 0.05 '.' 0.1 ' ' 1\n",
       "\n",
       "(Dispersion parameter for binomial family taken to be 1)\n",
       "\n",
       "    Null deviance: 5896.6  on 6704  degrees of freedom\n",
       "Residual deviance: 5734.8  on 6703  degrees of freedom\n",
       "AIC: 5738.8\n",
       "\n",
       "Number of Fisher Scoring iterations: 4\n"
      ]
     },
     "metadata": {},
     "output_type": "display_data"
    }
   ],
   "source": [
    "summary(mod_biv)"
   ]
  },
  {
   "cell_type": "markdown",
   "metadata": {
    "level": 7
   },
   "source": [
    "Decreased significance between a bivariate and multivariate model is typically due to correlation.\n",
    "\n",
    "From cor(train\\$int.rate, train\\$fico), we can see that the interest rate is moderately well correlated with a borrower's credit score.\n",
    "\n",
    "Training/testing set split rarely has a large effect on the significance of variables (this can be verified in this case by trying out a few other training/testing splits), and the models were trained on the same observations."
   ]
  },
  {
   "cell_type": "code",
   "execution_count": 42,
   "metadata": {
    "collapsed": false
   },
   "outputs": [
    {
     "data": {
      "text/html": [
       "-0.71165904975925"
      ],
      "text/latex": [
       "-0.71165904975925"
      ],
      "text/markdown": [
       "-0.71165904975925"
      ],
      "text/plain": [
       "[1] -0.711659"
      ]
     },
     "metadata": {},
     "output_type": "display_data"
    }
   ],
   "source": [
    "cor(train$int.rate, train$fico)"
   ]
  },
  {
   "cell_type": "markdown",
   "metadata": {
    "heading_collapsed": false,
    "level": 2
   },
   "source": [
    "## Problem 3.2 - A \"Smart Baseline\"\n",
    "\n",
    "Make test set predictions for the bivariate model. What is the highest predicted probability of a loan not being paid in full on the testing set?"
   ]
  },
  {
   "cell_type": "code",
   "execution_count": 43,
   "metadata": {
    "collapsed": false
   },
   "outputs": [
    {
     "data": {
      "text/plain": [
       "   Min. 1st Qu.  Median    Mean 3rd Qu.    Max. \n",
       "0.06196 0.11550 0.15080 0.15960 0.18930 0.42660 "
      ]
     },
     "metadata": {},
     "output_type": "display_data"
    }
   ],
   "source": [
    "pred_biv <- predict(mod_biv, newdata=test, type=\"response\")\n",
    "summary(pred_biv)"
   ]
  },
  {
   "cell_type": "markdown",
   "metadata": {
    "level": 7
   },
   "source": [
    "With a logistic regression cutoff of 0.5, how many loans would be predicted as not being paid in full on the testing set?"
   ]
  },
  {
   "cell_type": "markdown",
   "metadata": {
    "level": 7
   },
   "source": [
    "$\\Rightarrow$ According to the summary function, the maximum predicted probability of the loan not being paid back is 0.4266, which means no loans would be flagged at a logistic regression cutoff of 0.5."
   ]
  },
  {
   "cell_type": "markdown",
   "metadata": {
    "heading_collapsed": false,
    "level": 2
   },
   "source": [
    "## Problem 3.3 - A \"Smart Baseline\"\n",
    "\n",
    "What is the test set AUC of the bivariate model?"
   ]
  },
  {
   "cell_type": "code",
   "execution_count": 45,
   "metadata": {
    "collapsed": false
   },
   "outputs": [
    {
     "data": {
      "text/html": [
       "0.623908088434026"
      ],
      "text/latex": [
       "0.623908088434026"
      ],
      "text/markdown": [
       "0.623908088434026"
      ],
      "text/plain": [
       "[1] 0.6239081"
      ]
     },
     "metadata": {},
     "output_type": "display_data"
    }
   ],
   "source": [
    "pred = prediction(pred_biv, test$not.fully.paid)\n",
    "as.numeric(performance(pred, \"auc\")@y.values)"
   ]
  },
  {
   "cell_type": "markdown",
   "metadata": {
    "heading_collapsed": false,
    "level": 2
   },
   "source": [
    "## Problem 4.1 - Computing the Profitability of an Investment\n",
    "\n",
    "While thus far we have predicted if a loan will be paid back or not, an investor needs to identify loans that are expected to be profitable.\n",
    "\n",
    "If the loan is paid back in full, then the investor makes interest on the loan. However, if the loan is not paid back, the investor loses the money invested. Therefore, the investor should seek loans that best balance this risk and reward.\n",
    "\n",
    "To compute interest revenue, consider a \\$c investment in a loan that has an annual interest rate r over a period of t years. Using continuous compounding of interest, this investment pays back $c * exp(rt)$ dollars by the end of the t years, where exp(rt) is e raised to the r*t power.\n",
    "\n",
    "How much does a \\$10 investment with an annual interest rate of 6% pay back after 3 years, using continuous compounding of interest? Hint: remember to convert the percentage to a proportion before doing the math. Enter the number of dollars, without the $ sign."
   ]
  },
  {
   "cell_type": "code",
   "execution_count": 53,
   "metadata": {
    "collapsed": false
   },
   "outputs": [
    {
     "data": {
      "text/html": [
       "11.9721736312181"
      ],
      "text/latex": [
       "11.9721736312181"
      ],
      "text/markdown": [
       "11.9721736312181"
      ],
      "text/plain": [
       "[1] 11.97217"
      ]
     },
     "metadata": {},
     "output_type": "display_data"
    }
   ],
   "source": [
    "10*exp(0.06*3)"
   ]
  },
  {
   "cell_type": "markdown",
   "metadata": {
    "heading_collapsed": false,
    "level": 2
   },
   "source": [
    "## Problem 4.2 - Computing the Profitability of an Investment\n",
    "\n",
    "While the investment has value c * exp(rt) dollars after collecting interest, the investor had to pay $c for the investment. What is the profit to the investor if the investment is paid back in full?\n",
    "\n",
    "- $c * exp(rt) - c$\n",
    "- $c * exp(rt)$\n",
    "- $c * exp(rt) + c$\n",
    "- $-c$\n",
    "- $0$\n",
    "- $c$"
   ]
  },
  {
   "cell_type": "markdown",
   "metadata": {
    "level": 7
   },
   "source": [
    "A person's profit is what they get minus what they paid for it. In this case, the investor gets c * exp(rt) but paid c, yielding a profit of $c * exp(rt) - c$."
   ]
  },
  {
   "cell_type": "markdown",
   "metadata": {
    "heading_collapsed": false,
    "level": 2
   },
   "source": [
    "## Problem 4.3 - Computing the Profitability of an Investment\n",
    "\n",
    "Now, consider the case where the investor made a $c investment, but it was not paid back in full. Assume, conservatively, that no money was received from the borrower (often a lender will receive some but not all of the value of the loan, making this a pessimistic assumption of how much is received). What is the profit to the investor in this scenario?\n",
    "\n",
    "- $c * exp(rt) - c$\n",
    "- $c * exp(rt)$\n",
    "- $c * exp(rt) + c$\n",
    "- $-c$\n",
    "- $0$\n",
    "- $c$"
   ]
  },
  {
   "cell_type": "markdown",
   "metadata": {
    "level": 7
   },
   "source": [
    "Explanation\n",
    "A person's profit is what they get minus what they paid for it. In this case, the investor gets no money but paid c dollars, yielding a profit of $-c$ dollars."
   ]
  },
  {
   "cell_type": "markdown",
   "metadata": {
    "heading_collapsed": true,
    "level": 2
   },
   "source": [
    "## Problem 5.1 - A Simple Investment Strategy\n",
    "\n",
    "In the previous subproblem, we concluded that an investor who invested c dollars in a loan with interest rate r for t years makes c * (exp(rt) - 1) dollars of profit if the loan is paid back in full and -c dollars of profit if the loan is not paid back in full (pessimistically).\n",
    "\n",
    "In order to evaluate the quality of an investment strategy, we need to compute this profit for each loan in the test set. For this variable, we will assume a $1 investment (aka c=1). To create the variable, we first assign to the profit for a fully paid loan, exp(rt)-1, to every observation, and we then replace this value with -1 in the cases where the loan was not paid in full. All the loans in our dataset are 3-year loans, meaning t=3 in our calculations. Enter the following commands in your R console to create this new variable:\n",
    "\n",
    "test\\$profit = exp(test$int.rate*3) - 1\n",
    "\n",
    "test\\$profit[test$not.fully.paid == 1] = -1\n",
    "\n",
    "What is the maximum profit of a $10 investment in any loan in the testing set (do not include the $ sign in your answer)?"
   ]
  },
  {
   "cell_type": "code",
   "execution_count": null,
   "metadata": {
    "collapsed": true,
    "level": 7
   },
   "outputs": [],
   "source": []
  }
 ],
 "metadata": {
  "anaconda-cloud": {},
  "kernelspec": {
   "display_name": "R",
   "language": "R",
   "name": "ir"
  },
  "language_info": {
   "codemirror_mode": "r",
   "file_extension": ".r",
   "mimetype": "text/x-r-source",
   "name": "R",
   "pygments_lexer": "r",
   "version": "3.3.1"
  },
  "latex_envs": {
   "bibliofile": "biblio.bib",
   "cite_by": "apalike",
   "current_citInitial": 1,
   "eqLabelWithNumbers": true,
   "eqNumInitial": 0
  },
  "toc": {
   "toc_cell": true,
   "toc_number_sections": true,
   "toc_threshold": 6,
   "toc_window_display": false
  }
 },
 "nbformat": 4,
 "nbformat_minor": 1
}
