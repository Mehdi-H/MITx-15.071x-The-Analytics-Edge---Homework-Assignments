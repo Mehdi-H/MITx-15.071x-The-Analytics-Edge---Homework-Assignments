{
 "cells": [
  {
   "cell_type": "markdown",
   "metadata": {
    "heading_collapsed": false,
    "level": 7,
    "toc": "true"
   },
   "source": [
    "# Table of Contents\n",
    " <p><div class=\"lev1\"><a href=\"#Popularity-of-Music-Records\"><span class=\"toc-item-num\">1&nbsp;&nbsp;</span>Popularity of Music Records</a></div><div class=\"lev2\"><a href=\"#Problem-1.1---Understanding-the-Data\"><span class=\"toc-item-num\">1.1&nbsp;&nbsp;</span>Problem 1.1 - Understanding the Data</a></div><div class=\"lev2\"><a href=\"#Problem-1.2---Understanding-the-Data\"><span class=\"toc-item-num\">1.2&nbsp;&nbsp;</span>Problem 1.2 - Understanding the Data</a></div><div class=\"lev2\"><a href=\"#Problem-1.4---Understanding-the-Data\"><span class=\"toc-item-num\">1.3&nbsp;&nbsp;</span>Problem 1.4 - Understanding the Data</a></div><div class=\"lev2\"><a href=\"#Problem-1.5---Understanding-the-Data\"><span class=\"toc-item-num\">1.4&nbsp;&nbsp;</span>Problem 1.5 - Understanding the Data</a></div><div class=\"lev2\"><a href=\"#Problem-2.1---Creating-Our-Prediction-Model\"><span class=\"toc-item-num\">1.5&nbsp;&nbsp;</span>Problem 2.1 - Creating Our Prediction Model</a></div>"
   ]
  },
  {
   "cell_type": "markdown",
   "metadata": {
    "level": 7
   },
   "source": [
    "Popularity of Music Records\n",
    "==========================="
   ]
  },
  {
   "cell_type": "markdown",
   "metadata": {
    "level": 7
   },
   "source": [
    "The music industry has a well-developed market with a global annual revenue around $15 billion. \n",
    "The recording industry is highly competitive and is dominated by three big production companies \n",
    "which make up nearly 82% of the total annual album sales. \n",
    "\n",
    "Artists are at the core of the music industry and record labels provide them with the necessary resources\n",
    "to sell their music on a large scale. A record label incurs numerous costs\n",
    "(studio recording, marketing, distribution, and touring) in exchange for a percentage of the profits from album sales, singles and concert tickets.\n",
    "\n",
    "Unfortunately, the success of an artist's release is highly uncertain: a single may be extremely popular, resulting in widespread radio play and digital downloads, while another single may turn out quite unpopular, and therefore unprofitable. \n",
    "\n",
    "Knowing the competitive nature of the recording industry, record labels face the fundamental decision problem of which musical releases to support to maximize their financial success. \n",
    "\n",
    "How can we use analytics to predict the popularity of a song? In this assignment, we challenge ourselves to predict whether a song will reach a spot in the Top 10 of the Billboard Hot 100 Chart.\n",
    "\n",
    "Taking an analytics approach, we aim to use information about a song's properties to predict its popularity. The dataset songs.csv consists of all songs which made it to the Top 10 of the Billboard Hot 100 Chart from 1990-2010 plus a sample of additional songs that didn't make the Top 10. This data comes from three sources: Wikipedia, Billboard.com, and EchoNest.\n",
    "\n",
    "The variables included in the dataset either describe the artist or the song, or they are associated with the following song attributes: time signature, loudness, key, pitch, tempo, and timbre.\n",
    "\n",
    "Here's a detailed description of the variables:\n",
    "\n",
    "- year = the year the song was released\n",
    "- songtitle = the title of the song\n",
    "- artistname = the name of the artist of the song\n",
    "- songID and artistID = identifying variables for the song and artist\n",
    "- timesignature and timesignature_confidence = a variable estimating the time signature of the song, and the confidence in the estimate\n",
    "- loudness = a continuous variable indicating the average amplitude of the audio in decibels\n",
    "- tempo and tempo_confidence = a variable indicating the estimated beats per minute of the song, and the confidence in the estimate\n",
    "- key and key_confidence = a variable with twelve levels indicating the estimated key of the song (C, C#, . . ., B), and the confidence in the estimate\n",
    "- energy = a variable that represents the overall acoustic energy of the song, using a mix of features such as loudness\n",
    "- pitch = a continuous variable that indicates the pitch of the song\n",
    "- timbre_0_min, timbre_0_max, timbre_1_min, timbre_1_max, . . . , timbre_11_min, and timbre_11_max = variables that indicate the - minimum/maximum values over all segments for each of the twelve values in the timbre vector (resulting in 24 continuous variables)\n",
    "- Top10 = a binary variable indicating whether or not the song made it to the Top 10 of the Billboard Hot 100 Chart (1 if it was in the top 10, and 0 if it was not)"
   ]
  },
  {
   "cell_type": "markdown",
   "metadata": {
    "heading_collapsed": false,
    "level": 2
   },
   "source": [
    "## Problem 1.1 - Understanding the Data\n",
    "\n",
    "Use the read.csv function to load the dataset \"songs.csv\" into R.\n",
    "\n",
    "How many observations (songs) are from the year 2010?"
   ]
  },
  {
   "cell_type": "code",
   "execution_count": 1,
   "metadata": {
    "collapsed": false,
    "level": 7
   },
   "outputs": [
    {
     "name": "stdout",
     "output_type": "stream",
     "text": [
      "'data.frame':\t7574 obs. of  39 variables:\n",
      " $ year                    : int  2010 2010 2010 2010 2010 2010 2010 2010 2010 2010 ...\n",
      " $ songtitle               : Factor w/ 7141 levels \"'03 Bonnie & Clyde\",..: 6204 5522 241 3098 47 607 254 4419 2887 6756 ...\n",
      " $ artistname              : Factor w/ 1032 levels \"50 Cent\",\"98 Degrees\",..: 3 3 3 3 3 3 3 3 3 12 ...\n",
      " $ songID                  : Factor w/ 7549 levels \"SOAACNI1315CD4AC42\",..: 595 5439 5252 1716 3431 1020 1831 3964 6904 2473 ...\n",
      " $ artistID                : Factor w/ 1047 levels \"AR00B1I1187FB433EB\",..: 671 671 671 671 671 671 671 671 671 507 ...\n",
      " $ timesignature           : int  3 4 4 4 4 4 4 4 4 4 ...\n",
      " $ timesignature_confidence: num  0.853 1 1 1 0.788 1 0.968 0.861 0.622 0.938 ...\n",
      " $ loudness                : num  -4.26 -4.05 -3.57 -3.81 -4.71 ...\n",
      " $ tempo                   : num  91.5 140 160.5 97.5 140.1 ...\n",
      " $ tempo_confidence        : num  0.953 0.921 0.489 0.794 0.286 0.347 0.273 0.83 0.018 0.929 ...\n",
      " $ key                     : int  11 10 2 1 6 4 10 5 9 11 ...\n",
      " $ key_confidence          : num  0.453 0.469 0.209 0.632 0.483 0.627 0.715 0.423 0.751 0.602 ...\n",
      " $ energy                  : num  0.967 0.985 0.99 0.939 0.988 ...\n",
      " $ pitch                   : num  0.024 0.025 0.026 0.013 0.063 0.038 0.026 0.033 0.027 0.004 ...\n",
      " $ timbre_0_min            : num  0.002 0 0.003 0 0 ...\n",
      " $ timbre_0_max            : num  57.3 57.4 57.4 57.8 56.9 ...\n",
      " $ timbre_1_min            : num  -6.5 -37.4 -17.2 -32.1 -223.9 ...\n",
      " $ timbre_1_max            : num  171 171 171 221 171 ...\n",
      " $ timbre_2_min            : num  -81.7 -149.6 -72.9 -138.6 -147.2 ...\n",
      " $ timbre_2_max            : num  95.1 180.3 157.9 173.4 166 ...\n",
      " $ timbre_3_min            : num  -285 -380.1 -204 -73.5 -128.1 ...\n",
      " $ timbre_3_max            : num  259 384 251 373 389 ...\n",
      " $ timbre_4_min            : num  -40.4 -48.7 -66 -55.6 -43.9 ...\n",
      " $ timbre_4_max            : num  73.6 100.4 152.1 119.2 99.3 ...\n",
      " $ timbre_5_min            : num  -104.7 -87.3 -98.7 -77.5 -96.1 ...\n",
      " $ timbre_5_max            : num  183.1 42.8 141.4 141.2 38.3 ...\n",
      " $ timbre_6_min            : num  -88.8 -86.9 -88.9 -70.8 -110.8 ...\n",
      " $ timbre_6_max            : num  73.5 75.5 66.5 64.5 72.4 ...\n",
      " $ timbre_7_min            : num  -71.1 -65.8 -67.4 -63.7 -55.9 ...\n",
      " $ timbre_7_max            : num  82.5 106.9 80.6 96.7 110.3 ...\n",
      " $ timbre_8_min            : num  -52 -61.3 -59.8 -78.7 -56.5 ...\n",
      " $ timbre_8_max            : num  39.1 35.4 46 41.1 37.6 ...\n",
      " $ timbre_9_min            : num  -35.4 -81.9 -46.3 -49.2 -48.6 ...\n",
      " $ timbre_9_max            : num  71.6 74.6 59.9 95.4 67.6 ...\n",
      " $ timbre_10_min           : num  -126.4 -103.8 -108.3 -102.7 -52.8 ...\n",
      " $ timbre_10_max           : num  18.7 121.9 33.3 46.4 22.9 ...\n",
      " $ timbre_11_min           : num  -44.8 -38.9 -43.7 -59.4 -50.4 ...\n",
      " $ timbre_11_max           : num  26 22.5 25.7 37.1 32.8 ...\n",
      " $ Top10                   : int  0 0 0 0 0 0 0 0 0 1 ...\n"
     ]
    }
   ],
   "source": [
    "songs <- read.csv(\"songs.csv\")\n",
    "str(songs)"
   ]
  },
  {
   "cell_type": "markdown",
   "metadata": {
    "level": 7
   },
   "source": [
    "The songs dataset consists of 7574 observations."
   ]
  },
  {
   "cell_type": "code",
   "execution_count": 3,
   "metadata": {
    "collapsed": false,
    "level": 7
   },
   "outputs": [
    {
     "data": {
      "text/html": [
       "<strong>2010:</strong> 373"
      ],
      "text/latex": [
       "\\textbf{2010:} 373"
      ],
      "text/markdown": [
       "**2010:** 373"
      ],
      "text/plain": [
       "2010 \n",
       " 373 "
      ]
     },
     "metadata": {},
     "output_type": "display_data"
    }
   ],
   "source": [
    "table(songs$year)[\"2010\"]"
   ]
  },
  {
   "cell_type": "markdown",
   "metadata": {
    "level": 7
   },
   "source": [
    "From these 7574 observations, 373 are from the year 2010."
   ]
  },
  {
   "cell_type": "markdown",
   "metadata": {
    "heading_collapsed": false,
    "level": 2
   },
   "source": [
    "## Problem 1.2 - Understanding the Data\n",
    "\n",
    "How many songs does the dataset include for which the artist name is \"Michael Jackson\"?"
   ]
  },
  {
   "cell_type": "code",
   "execution_count": 5,
   "metadata": {
    "collapsed": false,
    "level": 7
   },
   "outputs": [
    {
     "data": {
      "text/html": [
       "<strong>Michael Jackson:</strong> 18"
      ],
      "text/latex": [
       "\\textbf{Michael Jackson:} 18"
      ],
      "text/markdown": [
       "**Michael Jackson:** 18"
      ],
      "text/plain": [
       "Michael Jackson \n",
       "             18 "
      ]
     },
     "metadata": {},
     "output_type": "display_data"
    }
   ],
   "source": [
    "table(songs$artistname)[\"Michael Jackson\"]"
   ]
  },
  {
   "cell_type": "markdown",
   "metadata": {
    "level": 7
   },
   "source": [
    "Problem 1.3 - Understanding the Data\n",
    "\n",
    "Which of these songs by Michael Jackson made it to the Top 10? Select all that apply.\n",
    "\n",
    "- Beat It\n",
    "- You Rock My World\n",
    "- Billie Jean\n",
    "- You Are Not Alone"
   ]
  },
  {
   "cell_type": "code",
   "execution_count": 6,
   "metadata": {
    "collapsed": true,
    "level": 7
   },
   "outputs": [],
   "source": [
    "MJ <- subset(songs, artistname == \"Michael Jackson\")"
   ]
  },
  {
   "cell_type": "code",
   "execution_count": 22,
   "metadata": {
    "collapsed": false,
    "level": 7
   },
   "outputs": [
    {
     "data": {
      "text/html": [
       "<table>\n",
       "<thead><tr><th></th><th scope=col>songtitle</th><th scope=col>Top10</th></tr></thead>\n",
       "<tbody>\n",
       "\t<tr><th scope=row>4329</th><td>You Rock My World</td><td>1                </td></tr>\n",
       "\t<tr><th scope=row>6207</th><td>You Are Not Alone</td><td>1                </td></tr>\n",
       "\t<tr><th scope=row>6210</th><td>Black or White</td><td>1             </td></tr>\n",
       "\t<tr><th scope=row>6218</th><td>Remember the Time</td><td>1                </td></tr>\n",
       "\t<tr><th scope=row>6915</th><td>In The Closet</td><td>1            </td></tr>\n",
       "</tbody>\n",
       "</table>\n"
      ],
      "text/latex": [
       "\\begin{tabular}{r|ll}\n",
       "  & songtitle & Top10\\\\\n",
       "\\hline\n",
       "\t4329 & You Rock My World & 1                \\\\\n",
       "\t6207 & You Are Not Alone & 1                \\\\\n",
       "\t6210 & Black or White & 1             \\\\\n",
       "\t6218 & Remember the Time & 1                \\\\\n",
       "\t6915 & In The Closet & 1            \\\\\n",
       "\\end{tabular}\n"
      ],
      "text/plain": [
       "             songtitle Top10\n",
       "4329 You Rock My World     1\n",
       "6207 You Are Not Alone     1\n",
       "6210    Black or White     1\n",
       "6218 Remember the Time     1\n",
       "6915     In The Closet     1"
      ]
     },
     "metadata": {},
     "output_type": "display_data"
    }
   ],
   "source": [
    "MJ_songs <- MJ[c(\"songtitle\", \"Top10\")]\n",
    "subset(MJ_songs, MJ_songs$Top10 == 1)"
   ]
  },
  {
   "cell_type": "markdown",
   "metadata": {
    "level": 7
   },
   "source": [
    "You Rock My World and You Are Not Alone made it to the top10."
   ]
  },
  {
   "cell_type": "markdown",
   "metadata": {
    "heading_collapsed": false,
    "level": 2
   },
   "source": [
    "## Problem 1.4 - Understanding the Data\n",
    "\n",
    "The variable corresponding to the estimated time signature (timesignature) is discrete, meaning that \n",
    "it only takes integer values (0, 1, 2, 3, . . . ). \n",
    "\n",
    "What are the values of this variable that occur in our dataset?"
   ]
  },
  {
   "cell_type": "code",
   "execution_count": 23,
   "metadata": {
    "collapsed": false,
    "level": 7
   },
   "outputs": [
    {
     "data": {
      "text/plain": [
       "\n",
       "   0    1    3    4    5    7 \n",
       "  10  143  503 6787  112   19 "
      ]
     },
     "metadata": {},
     "output_type": "display_data"
    }
   ],
   "source": [
    "table(songs$timesignature)"
   ]
  },
  {
   "cell_type": "markdown",
   "metadata": {
    "level": 7
   },
   "source": [
    "Which timesignature value is the most frequent among songs in our dataset? --> 4"
   ]
  },
  {
   "cell_type": "markdown",
   "metadata": {
    "heading_collapsed": false,
    "level": 2
   },
   "source": [
    "## Problem 1.5 - Understanding the Data\n",
    "\n",
    "Out of all of the songs in our dataset, the song with the highest tempo is one of the following songs. Which one is it?\n",
    "\n",
    "- Until The Day I Die\n",
    "- Wanna Be Startin' Somethin'\n",
    "- My Happy Ending\n",
    "- You Make Me Wanna..."
   ]
  },
  {
   "cell_type": "code",
   "execution_count": 32,
   "metadata": {
    "collapsed": false,
    "level": 7
   },
   "outputs": [
    {
     "data": {
      "text/html": [
       "Wanna Be Startin' Somethin'"
      ],
      "text/latex": [
       "Wanna Be Startin' Somethin'"
      ],
      "text/markdown": [
       "Wanna Be Startin' Somethin'"
      ],
      "text/plain": [
       "[1] Wanna Be Startin' Somethin'\n",
       "7141 Levels: '03 Bonnie & Clyde '69 ... Zumbi"
      ]
     },
     "metadata": {},
     "output_type": "display_data"
    }
   ],
   "source": [
    "songs$songtitle[which.max(songs$tempo)]"
   ]
  },
  {
   "cell_type": "markdown",
   "metadata": {
    "heading_collapsed": false,
    "level": 2
   },
   "source": [
    "## Problem 2.1 - Creating Our Prediction Model\n",
    "\n",
    "We wish to predict whether or not a song will make it to the Top 10.\n",
    "\n",
    "To do this, first use the subset function to split the data into a training set \"SongsTrain\" consisting of all the observations up to and including 2009 song releases, and a testing set \"SongsTest\", consisting of the 2010 song releases.\n",
    "\n",
    "How many observations (songs) are in the training set?"
   ]
  },
  {
   "cell_type": "code",
   "execution_count": null,
   "metadata": {
    "collapsed": true
   },
   "outputs": [],
   "source": [
    "SongsTrain <- subset(songs, songs$year <= 2009)\n",
    "SongsTest <- subset(songs, songs$)"
   ]
  }
 ],
 "metadata": {
  "anaconda-cloud": {},
  "kernelspec": {
   "display_name": "R",
   "language": "R",
   "name": "ir"
  },
  "language_info": {
   "codemirror_mode": "r",
   "file_extension": ".r",
   "mimetype": "text/x-r-source",
   "name": "R",
   "pygments_lexer": "r",
   "version": "3.3.1"
  },
  "latex_envs": {
   "bibliofile": "biblio.bib",
   "cite_by": "apalike",
   "current_citInitial": 1,
   "eqLabelWithNumbers": true,
   "eqNumInitial": 0
  },
  "toc": {
   "toc_cell": true,
   "toc_number_sections": true,
   "toc_threshold": 6,
   "toc_window_display": false
  }
 },
 "nbformat": 4,
 "nbformat_minor": 1
}
