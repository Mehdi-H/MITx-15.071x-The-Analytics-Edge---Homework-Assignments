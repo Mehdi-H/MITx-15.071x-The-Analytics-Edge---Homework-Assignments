{
 "cells": [
  {
   "cell_type": "markdown",
   "metadata": {
    "heading_collapsed": false,
    "level": 1,
    "toc": "true"
   },
   "source": [
    "# Table of Contents\n",
    " <p><div class=\"lev1\"><a href=\"#Popularity-of-Music-Records\"><span class=\"toc-item-num\">1&nbsp;&nbsp;</span>Popularity of Music Records</a></div><div class=\"lev2\"><a href=\"#Problem-1.1---Understanding-the-Data\"><span class=\"toc-item-num\">1.1&nbsp;&nbsp;</span>Problem 1.1 - Understanding the Data</a></div><div class=\"lev2\"><a href=\"#Problem-1.2---Understanding-the-Data\"><span class=\"toc-item-num\">1.2&nbsp;&nbsp;</span>Problem 1.2 - Understanding the Data</a></div><div class=\"lev2\"><a href=\"#Problem-1.4---Understanding-the-Data\"><span class=\"toc-item-num\">1.3&nbsp;&nbsp;</span>Problem 1.4 - Understanding the Data</a></div><div class=\"lev2\"><a href=\"#Problem-1.5---Understanding-the-Data\"><span class=\"toc-item-num\">1.4&nbsp;&nbsp;</span>Problem 1.5 - Understanding the Data</a></div><div class=\"lev2\"><a href=\"#Problem-2.1---Creating-Our-Prediction-Model\"><span class=\"toc-item-num\">1.5&nbsp;&nbsp;</span>Problem 2.1 - Creating Our Prediction Model</a></div><div class=\"lev2\"><a href=\"#Problem-2.2---Creating-our-Prediction-Model\"><span class=\"toc-item-num\">1.6&nbsp;&nbsp;</span>Problem 2.2 - Creating our Prediction Model</a></div><div class=\"lev2\"><a href=\"#Problem-2.3---Creating-Our-Prediction-Model\"><span class=\"toc-item-num\">1.7&nbsp;&nbsp;</span>Problem 2.3 - Creating Our Prediction Model</a></div><div class=\"lev2\"><a href=\"#Problem-2.4---Creating-Our-Prediction-Model\"><span class=\"toc-item-num\">1.8&nbsp;&nbsp;</span>Problem 2.4 - Creating Our Prediction Model</a></div><div class=\"lev2\"><a href=\"#Problem-2.5---Creating-Our-Prediction-Model\"><span class=\"toc-item-num\">1.9&nbsp;&nbsp;</span>Problem 2.5 - Creating Our Prediction Model</a></div><div class=\"lev2\"><a href=\"#Problem-3.1---Beware-of-Multicollinearity-Issues!\"><span class=\"toc-item-num\">1.10&nbsp;&nbsp;</span>Problem 3.1 - Beware of Multicollinearity Issues!</a></div><div class=\"lev2\"><a href=\"#Problem-3.2---Beware-of-Multicollinearity-Issues!\"><span class=\"toc-item-num\">1.11&nbsp;&nbsp;</span>Problem 3.2 - Beware of Multicollinearity Issues!</a></div><div class=\"lev2\"><a href=\"#Problem-3.3---Beware-of-Multicollinearity-Issues!\"><span class=\"toc-item-num\">1.12&nbsp;&nbsp;</span>Problem 3.3 - Beware of Multicollinearity Issues!</a></div><div class=\"lev2\"><a href=\"#Problem-4.1---Validating-Our-Model\"><span class=\"toc-item-num\">1.13&nbsp;&nbsp;</span>Problem 4.1 - Validating Our Model</a></div><div class=\"lev2\"><a href=\"#Problem-4.2---Validating-Our-Model\"><span class=\"toc-item-num\">1.14&nbsp;&nbsp;</span>Problem 4.2 - Validating Our Model</a></div><div class=\"lev2\"><a href=\"#Problem-4.3---Validating-Our-Model\"><span class=\"toc-item-num\">1.15&nbsp;&nbsp;</span>Problem 4.3 - Validating Our Model</a></div><div class=\"lev2\"><a href=\"#Problem-4.4---Validating-Our-Model\"><span class=\"toc-item-num\">1.16&nbsp;&nbsp;</span>Problem 4.4 - Validating Our Model</a></div><div class=\"lev2\"><a href=\"#Problem-4.5---Validating-Our-Model\"><span class=\"toc-item-num\">1.17&nbsp;&nbsp;</span>Problem 4.5 - Validating Our Model</a></div>"
   ]
  },
  {
   "cell_type": "markdown",
   "metadata": {
    "level": 7
   },
   "source": [
    "Popularity of Music Records\n",
    "==========================="
   ]
  },
  {
   "cell_type": "markdown",
   "metadata": {
    "level": 7
   },
   "source": [
    "The music industry has a well-developed market with a global annual revenue around $15 billion. \n",
    "The recording industry is highly competitive and is dominated by three big production companies \n",
    "which make up nearly 82% of the total annual album sales. \n",
    "\n",
    "Artists are at the core of the music industry and record labels provide them with the necessary resources\n",
    "to sell their music on a large scale. A record label incurs numerous costs\n",
    "(studio recording, marketing, distribution, and touring) in exchange for a percentage of the profits from album sales, singles and concert tickets.\n",
    "\n",
    "Unfortunately, the success of an artist's release is highly uncertain: a single may be extremely popular, resulting in widespread radio play and digital downloads, while another single may turn out quite unpopular, and therefore unprofitable. \n",
    "\n",
    "Knowing the competitive nature of the recording industry, record labels face the fundamental decision problem of which musical releases to support to maximize their financial success. \n",
    "\n",
    "How can we use analytics to predict the popularity of a song? In this assignment, we challenge ourselves to predict whether a song will reach a spot in the Top 10 of the Billboard Hot 100 Chart.\n",
    "\n",
    "Taking an analytics approach, we aim to use information about a song's properties to predict its popularity. The dataset songs.csv consists of all songs which made it to the Top 10 of the Billboard Hot 100 Chart from 1990-2010 plus a sample of additional songs that didn't make the Top 10. This data comes from three sources: Wikipedia, Billboard.com, and EchoNest.\n",
    "\n",
    "The variables included in the dataset either describe the artist or the song, or they are associated with the following song attributes: time signature, loudness, key, pitch, tempo, and timbre.\n",
    "\n",
    "Here's a detailed description of the variables:\n",
    "\n",
    "- year = the year the song was released\n",
    "- songtitle = the title of the song\n",
    "- artistname = the name of the artist of the song\n",
    "- songID and artistID = identifying variables for the song and artist\n",
    "- timesignature and timesignature_confidence = a variable estimating the time signature of the song, and the confidence in the estimate\n",
    "- loudness = a continuous variable indicating the average amplitude of the audio in decibels\n",
    "- tempo and tempo_confidence = a variable indicating the estimated beats per minute of the song, and the confidence in the estimate\n",
    "- key and key_confidence = a variable with twelve levels indicating the estimated key of the song (C, C#, . . ., B), and the confidence in the estimate\n",
    "- energy = a variable that represents the overall acoustic energy of the song, using a mix of features such as loudness\n",
    "- pitch = a continuous variable that indicates the pitch of the song\n",
    "- timbre_0_min, timbre_0_max, timbre_1_min, timbre_1_max, . . . , timbre_11_min, and timbre_11_max = variables that indicate the - minimum/maximum values over all segments for each of the twelve values in the timbre vector (resulting in 24 continuous variables)\n",
    "- Top10 = a binary variable indicating whether or not the song made it to the Top 10 of the Billboard Hot 100 Chart (1 if it was in the top 10, and 0 if it was not)"
   ]
  },
  {
   "cell_type": "markdown",
   "metadata": {
    "heading_collapsed": false,
    "level": 2
   },
   "source": [
    "## Problem 1.1 - Understanding the Data\n",
    "\n",
    "Use the read.csv function to load the dataset \"songs.csv\" into R.\n",
    "\n",
    "How many observations (songs) are from the year 2010?"
   ]
  },
  {
   "cell_type": "code",
   "execution_count": 1,
   "metadata": {
    "collapsed": false,
    "level": 7
   },
   "outputs": [
    {
     "name": "stdout",
     "output_type": "stream",
     "text": [
      "'data.frame':\t7574 obs. of  39 variables:\n",
      " $ year                    : int  2010 2010 2010 2010 2010 2010 2010 2010 2010 2010 ...\n",
      " $ songtitle               : Factor w/ 7141 levels \"'03 Bonnie & Clyde\",..: 6204 5522 241 3098 47 607 254 4419 2887 6756 ...\n",
      " $ artistname              : Factor w/ 1032 levels \"50 Cent\",\"98 Degrees\",..: 3 3 3 3 3 3 3 3 3 12 ...\n",
      " $ songID                  : Factor w/ 7549 levels \"SOAACNI1315CD4AC42\",..: 595 5439 5252 1716 3431 1020 1831 3964 6904 2473 ...\n",
      " $ artistID                : Factor w/ 1047 levels \"AR00B1I1187FB433EB\",..: 671 671 671 671 671 671 671 671 671 507 ...\n",
      " $ timesignature           : int  3 4 4 4 4 4 4 4 4 4 ...\n",
      " $ timesignature_confidence: num  0.853 1 1 1 0.788 1 0.968 0.861 0.622 0.938 ...\n",
      " $ loudness                : num  -4.26 -4.05 -3.57 -3.81 -4.71 ...\n",
      " $ tempo                   : num  91.5 140 160.5 97.5 140.1 ...\n",
      " $ tempo_confidence        : num  0.953 0.921 0.489 0.794 0.286 0.347 0.273 0.83 0.018 0.929 ...\n",
      " $ key                     : int  11 10 2 1 6 4 10 5 9 11 ...\n",
      " $ key_confidence          : num  0.453 0.469 0.209 0.632 0.483 0.627 0.715 0.423 0.751 0.602 ...\n",
      " $ energy                  : num  0.967 0.985 0.99 0.939 0.988 ...\n",
      " $ pitch                   : num  0.024 0.025 0.026 0.013 0.063 0.038 0.026 0.033 0.027 0.004 ...\n",
      " $ timbre_0_min            : num  0.002 0 0.003 0 0 ...\n",
      " $ timbre_0_max            : num  57.3 57.4 57.4 57.8 56.9 ...\n",
      " $ timbre_1_min            : num  -6.5 -37.4 -17.2 -32.1 -223.9 ...\n",
      " $ timbre_1_max            : num  171 171 171 221 171 ...\n",
      " $ timbre_2_min            : num  -81.7 -149.6 -72.9 -138.6 -147.2 ...\n",
      " $ timbre_2_max            : num  95.1 180.3 157.9 173.4 166 ...\n",
      " $ timbre_3_min            : num  -285 -380.1 -204 -73.5 -128.1 ...\n",
      " $ timbre_3_max            : num  259 384 251 373 389 ...\n",
      " $ timbre_4_min            : num  -40.4 -48.7 -66 -55.6 -43.9 ...\n",
      " $ timbre_4_max            : num  73.6 100.4 152.1 119.2 99.3 ...\n",
      " $ timbre_5_min            : num  -104.7 -87.3 -98.7 -77.5 -96.1 ...\n",
      " $ timbre_5_max            : num  183.1 42.8 141.4 141.2 38.3 ...\n",
      " $ timbre_6_min            : num  -88.8 -86.9 -88.9 -70.8 -110.8 ...\n",
      " $ timbre_6_max            : num  73.5 75.5 66.5 64.5 72.4 ...\n",
      " $ timbre_7_min            : num  -71.1 -65.8 -67.4 -63.7 -55.9 ...\n",
      " $ timbre_7_max            : num  82.5 106.9 80.6 96.7 110.3 ...\n",
      " $ timbre_8_min            : num  -52 -61.3 -59.8 -78.7 -56.5 ...\n",
      " $ timbre_8_max            : num  39.1 35.4 46 41.1 37.6 ...\n",
      " $ timbre_9_min            : num  -35.4 -81.9 -46.3 -49.2 -48.6 ...\n",
      " $ timbre_9_max            : num  71.6 74.6 59.9 95.4 67.6 ...\n",
      " $ timbre_10_min           : num  -126.4 -103.8 -108.3 -102.7 -52.8 ...\n",
      " $ timbre_10_max           : num  18.7 121.9 33.3 46.4 22.9 ...\n",
      " $ timbre_11_min           : num  -44.8 -38.9 -43.7 -59.4 -50.4 ...\n",
      " $ timbre_11_max           : num  26 22.5 25.7 37.1 32.8 ...\n",
      " $ Top10                   : int  0 0 0 0 0 0 0 0 0 1 ...\n"
     ]
    }
   ],
   "source": [
    "songs <- read.csv(\"songs.csv\")\n",
    "str(songs)"
   ]
  },
  {
   "cell_type": "markdown",
   "metadata": {
    "level": 7
   },
   "source": [
    "The songs dataset consists of 7574 observations."
   ]
  },
  {
   "cell_type": "code",
   "execution_count": 2,
   "metadata": {
    "collapsed": false,
    "level": 7
   },
   "outputs": [
    {
     "data": {
      "text/html": [
       "<strong>2010:</strong> 373"
      ],
      "text/latex": [
       "\\textbf{2010:} 373"
      ],
      "text/markdown": [
       "**2010:** 373"
      ],
      "text/plain": [
       "2010 \n",
       " 373 "
      ]
     },
     "metadata": {},
     "output_type": "display_data"
    }
   ],
   "source": [
    "table(songs$year)[\"2010\"]"
   ]
  },
  {
   "cell_type": "markdown",
   "metadata": {
    "level": 7
   },
   "source": [
    "From these 7574 observations, 373 are from the year 2010."
   ]
  },
  {
   "cell_type": "markdown",
   "metadata": {
    "heading_collapsed": false,
    "level": 2
   },
   "source": [
    "## Problem 1.2 - Understanding the Data\n",
    "\n",
    "How many songs does the dataset include for which the artist name is \"Michael Jackson\"?"
   ]
  },
  {
   "cell_type": "code",
   "execution_count": 3,
   "metadata": {
    "collapsed": false,
    "level": 7
   },
   "outputs": [
    {
     "data": {
      "text/html": [
       "<strong>Michael Jackson:</strong> 18"
      ],
      "text/latex": [
       "\\textbf{Michael Jackson:} 18"
      ],
      "text/markdown": [
       "**Michael Jackson:** 18"
      ],
      "text/plain": [
       "Michael Jackson \n",
       "             18 "
      ]
     },
     "metadata": {},
     "output_type": "display_data"
    }
   ],
   "source": [
    "table(songs$artistname)[\"Michael Jackson\"]"
   ]
  },
  {
   "cell_type": "markdown",
   "metadata": {
    "level": 7
   },
   "source": [
    "Problem 1.3 - Understanding the Data\n",
    "\n",
    "Which of these songs by Michael Jackson made it to the Top 10? Select all that apply.\n",
    "\n",
    "- Beat It\n",
    "- You Rock My World\n",
    "- Billie Jean\n",
    "- You Are Not Alone"
   ]
  },
  {
   "cell_type": "code",
   "execution_count": 4,
   "metadata": {
    "collapsed": true,
    "level": 7
   },
   "outputs": [],
   "source": [
    "MJ <- subset(songs, artistname == \"Michael Jackson\")"
   ]
  },
  {
   "cell_type": "code",
   "execution_count": 5,
   "metadata": {
    "collapsed": false,
    "level": 7
   },
   "outputs": [
    {
     "data": {
      "text/html": [
       "<table>\n",
       "<thead><tr><th></th><th scope=col>songtitle</th><th scope=col>Top10</th></tr></thead>\n",
       "<tbody>\n",
       "\t<tr><th scope=row>4329</th><td>You Rock My World</td><td>1                </td></tr>\n",
       "\t<tr><th scope=row>6207</th><td>You Are Not Alone</td><td>1                </td></tr>\n",
       "\t<tr><th scope=row>6210</th><td>Black or White</td><td>1             </td></tr>\n",
       "\t<tr><th scope=row>6218</th><td>Remember the Time</td><td>1                </td></tr>\n",
       "\t<tr><th scope=row>6915</th><td>In The Closet</td><td>1            </td></tr>\n",
       "</tbody>\n",
       "</table>\n"
      ],
      "text/latex": [
       "\\begin{tabular}{r|ll}\n",
       "  & songtitle & Top10\\\\\n",
       "\\hline\n",
       "\t4329 & You Rock My World & 1                \\\\\n",
       "\t6207 & You Are Not Alone & 1                \\\\\n",
       "\t6210 & Black or White & 1             \\\\\n",
       "\t6218 & Remember the Time & 1                \\\\\n",
       "\t6915 & In The Closet & 1            \\\\\n",
       "\\end{tabular}\n"
      ],
      "text/plain": [
       "             songtitle Top10\n",
       "4329 You Rock My World     1\n",
       "6207 You Are Not Alone     1\n",
       "6210    Black or White     1\n",
       "6218 Remember the Time     1\n",
       "6915     In The Closet     1"
      ]
     },
     "metadata": {},
     "output_type": "display_data"
    }
   ],
   "source": [
    "MJ_songs <- MJ[c(\"songtitle\", \"Top10\")]\n",
    "subset(MJ_songs, MJ_songs$Top10 == 1)"
   ]
  },
  {
   "cell_type": "markdown",
   "metadata": {
    "level": 7
   },
   "source": [
    "You Rock My World and You Are Not Alone made it to the top10."
   ]
  },
  {
   "cell_type": "markdown",
   "metadata": {
    "heading_collapsed": false,
    "level": 2
   },
   "source": [
    "## Problem 1.4 - Understanding the Data\n",
    "\n",
    "The variable corresponding to the estimated time signature (timesignature) is discrete, meaning that \n",
    "it only takes integer values (0, 1, 2, 3, . . . ). \n",
    "\n",
    "What are the values of this variable that occur in our dataset?"
   ]
  },
  {
   "cell_type": "code",
   "execution_count": 6,
   "metadata": {
    "collapsed": false,
    "level": 7
   },
   "outputs": [
    {
     "data": {
      "text/plain": [
       "\n",
       "   0    1    3    4    5    7 \n",
       "  10  143  503 6787  112   19 "
      ]
     },
     "metadata": {},
     "output_type": "display_data"
    }
   ],
   "source": [
    "table(songs$timesignature)"
   ]
  },
  {
   "cell_type": "markdown",
   "metadata": {
    "level": 7
   },
   "source": [
    "Which timesignature value is the most frequent among songs in our dataset? --> 4"
   ]
  },
  {
   "cell_type": "markdown",
   "metadata": {
    "heading_collapsed": false,
    "level": 2
   },
   "source": [
    "## Problem 1.5 - Understanding the Data\n",
    "\n",
    "Out of all of the songs in our dataset, the song with the highest tempo is one of the following songs. Which one is it?\n",
    "\n",
    "- Until The Day I Die\n",
    "- Wanna Be Startin' Somethin'\n",
    "- My Happy Ending\n",
    "- You Make Me Wanna..."
   ]
  },
  {
   "cell_type": "code",
   "execution_count": 7,
   "metadata": {
    "collapsed": false,
    "level": 7
   },
   "outputs": [
    {
     "data": {
      "text/html": [
       "Wanna Be Startin' Somethin'"
      ],
      "text/latex": [
       "Wanna Be Startin' Somethin'"
      ],
      "text/markdown": [
       "Wanna Be Startin' Somethin'"
      ],
      "text/plain": [
       "[1] Wanna Be Startin' Somethin'\n",
       "7141 Levels: '03 Bonnie & Clyde '69 ... Zumbi"
      ]
     },
     "metadata": {},
     "output_type": "display_data"
    }
   ],
   "source": [
    "songs$songtitle[which.max(songs$tempo)]"
   ]
  },
  {
   "cell_type": "markdown",
   "metadata": {
    "heading_collapsed": false,
    "level": 2
   },
   "source": [
    "## Problem 2.1 - Creating Our Prediction Model\n",
    "\n",
    "We wish to predict whether or not a song will make it to the Top 10.\n",
    "\n",
    "To do this, first use the subset function to split the data into a training set \"SongsTrain\" consisting of all the observations up to and including 2009 song releases, and a testing set \"SongsTest\", consisting of the 2010 song releases.\n",
    "\n",
    "How many observations (songs) are in the training set?"
   ]
  },
  {
   "cell_type": "code",
   "execution_count": 8,
   "metadata": {
    "collapsed": true,
    "level": 7
   },
   "outputs": [],
   "source": [
    "SongsTrain <- subset(songs, songs$year <= 2009)\n",
    "SongsTest <- subset(songs, songs$year > 2009)"
   ]
  },
  {
   "cell_type": "code",
   "execution_count": 9,
   "metadata": {
    "collapsed": false,
    "level": 7
   },
   "outputs": [
    {
     "data": {
      "text/html": [
       "7201"
      ],
      "text/latex": [
       "7201"
      ],
      "text/markdown": [
       "7201"
      ],
      "text/plain": [
       "[1] 7201"
      ]
     },
     "metadata": {},
     "output_type": "display_data"
    }
   ],
   "source": [
    "nrow(SongsTrain)"
   ]
  },
  {
   "cell_type": "markdown",
   "metadata": {
    "heading_collapsed": false,
    "level": 2
   },
   "source": [
    "## Problem 2.2 - Creating our Prediction Model\n",
    "\n",
    "In this problem, our outcome variable is \"Top10\" - we are trying to predict whether or not a song will make it to the Top 10 of the Billboard Hot 100 Chart. \n",
    "\n",
    "Since the outcome variable is binary, we will build a logistic regression model. We'll start by using all song attributes as our independent variables, which we'll call Model 1.\n",
    "\n",
    "We will only use the variables in our dataset that describe the numerical attributes of the song in our logistic regression model. So we won't use the variables \"year\", \"songtitle\", \"artistname\", \"songID\" or \"artistID\".\n",
    "\n",
    "Use the glm function to build a logistic regression model to predict Top10 using all of the other variables as the independent variables. You should use SongsTrain to build the model.\n",
    "\n",
    "Looking at the summary of your model, what is the value of the Akaike Information Criterion (AIC)?"
   ]
  },
  {
   "cell_type": "code",
   "execution_count": 10,
   "metadata": {
    "collapsed": false,
    "level": 7
   },
   "outputs": [],
   "source": [
    "nonvars = c(\"year\", \"songtitle\", \"artistname\", \"songID\", \"artistID\")\n",
    "\n",
    "SongsTrain = SongsTrain[ , !(names(SongsTrain) %in% nonvars) ]\n",
    "SongsTest = SongsTest[ , !(names(SongsTest) %in% nonvars) ]"
   ]
  },
  {
   "cell_type": "code",
   "execution_count": 11,
   "metadata": {
    "collapsed": true,
    "level": 7
   },
   "outputs": [],
   "source": [
    "SongsLog1 = glm(Top10 ~ ., data=SongsTrain, family=binomial)"
   ]
  },
  {
   "cell_type": "code",
   "execution_count": 17,
   "metadata": {
    "collapsed": false,
    "level": 7
   },
   "outputs": [
    {
     "data": {
      "text/plain": [
       "\n",
       "Call:\n",
       "glm(formula = Top10 ~ ., family = binomial, data = SongsTrain)\n",
       "\n",
       "Deviance Residuals: \n",
       "    Min       1Q   Median       3Q      Max  \n",
       "-1.9220  -0.5399  -0.3459  -0.1845   3.0770  \n",
       "\n",
       "Coefficients:\n",
       "                           Estimate Std. Error z value Pr(>|z|)    \n",
       "(Intercept)               1.470e+01  1.806e+00   8.138 4.03e-16 ***\n",
       "timesignature             1.264e-01  8.674e-02   1.457 0.145050    \n",
       "timesignature_confidence  7.450e-01  1.953e-01   3.815 0.000136 ***\n",
       "loudness                  2.999e-01  2.917e-02  10.282  < 2e-16 ***\n",
       "tempo                     3.634e-04  1.691e-03   0.215 0.829889    \n",
       "tempo_confidence          4.732e-01  1.422e-01   3.329 0.000873 ***\n",
       "key                       1.588e-02  1.039e-02   1.529 0.126349    \n",
       "key_confidence            3.087e-01  1.412e-01   2.187 0.028760 *  \n",
       "energy                   -1.502e+00  3.099e-01  -4.847 1.25e-06 ***\n",
       "pitch                    -4.491e+01  6.835e+00  -6.570 5.02e-11 ***\n",
       "timbre_0_min              2.316e-02  4.256e-03   5.441 5.29e-08 ***\n",
       "timbre_0_max             -3.310e-01  2.569e-02 -12.882  < 2e-16 ***\n",
       "timbre_1_min              5.881e-03  7.798e-04   7.542 4.64e-14 ***\n",
       "timbre_1_max             -2.449e-04  7.152e-04  -0.342 0.732087    \n",
       "timbre_2_min             -2.127e-03  1.126e-03  -1.889 0.058843 .  \n",
       "timbre_2_max              6.586e-04  9.066e-04   0.726 0.467571    \n",
       "timbre_3_min              6.920e-04  5.985e-04   1.156 0.247583    \n",
       "timbre_3_max             -2.967e-03  5.815e-04  -5.103 3.34e-07 ***\n",
       "timbre_4_min              1.040e-02  1.985e-03   5.237 1.63e-07 ***\n",
       "timbre_4_max              6.110e-03  1.550e-03   3.942 8.10e-05 ***\n",
       "timbre_5_min             -5.598e-03  1.277e-03  -4.385 1.16e-05 ***\n",
       "timbre_5_max              7.736e-05  7.935e-04   0.097 0.922337    \n",
       "timbre_6_min             -1.686e-02  2.264e-03  -7.445 9.66e-14 ***\n",
       "timbre_6_max              3.668e-03  2.190e-03   1.675 0.093875 .  \n",
       "timbre_7_min             -4.549e-03  1.781e-03  -2.554 0.010661 *  \n",
       "timbre_7_max             -3.774e-03  1.832e-03  -2.060 0.039408 *  \n",
       "timbre_8_min              3.911e-03  2.851e-03   1.372 0.170123    \n",
       "timbre_8_max              4.011e-03  3.003e-03   1.336 0.181620    \n",
       "timbre_9_min              1.367e-03  2.998e-03   0.456 0.648356    \n",
       "timbre_9_max              1.603e-03  2.434e-03   0.659 0.510188    \n",
       "timbre_10_min             4.126e-03  1.839e-03   2.244 0.024852 *  \n",
       "timbre_10_max             5.825e-03  1.769e-03   3.292 0.000995 ***\n",
       "timbre_11_min            -2.625e-02  3.693e-03  -7.108 1.18e-12 ***\n",
       "timbre_11_max             1.967e-02  3.385e-03   5.811 6.21e-09 ***\n",
       "---\n",
       "Signif. codes:  0 '***' 0.001 '**' 0.01 '*' 0.05 '.' 0.1 ' ' 1\n",
       "\n",
       "(Dispersion parameter for binomial family taken to be 1)\n",
       "\n",
       "    Null deviance: 6017.5  on 7200  degrees of freedom\n",
       "Residual deviance: 4759.2  on 7167  degrees of freedom\n",
       "AIC: 4827.2\n",
       "\n",
       "Number of Fisher Scoring iterations: 6\n"
      ]
     },
     "metadata": {},
     "output_type": "display_data"
    }
   ],
   "source": [
    "summary(SongsLog1)"
   ]
  },
  {
   "cell_type": "markdown",
   "metadata": {
    "level": 7
   },
   "source": [
    "Looking at the bottom of the summary(SongsLog1) output, we can see that the AIC value is 4827.2."
   ]
  },
  {
   "cell_type": "markdown",
   "metadata": {
    "collapsed": true,
    "heading_collapsed": false,
    "level": 2
   },
   "source": [
    "## Problem 2.3 - Creating Our Prediction Model\n",
    "\n",
    "Let's now think about the variables in our dataset related to the confidence of the time signature, key and tempo (timesignature_confidence, key_confidence, and tempo_confidence). Our model seems to indicate that these confidence variables are significant (rather than the variables timesignature, key and tempo themselves). What does the model suggest?\n",
    "\n",
    "\n",
    "- The lower our confidence about time signature, key and tempo, the more likely the song is to be in the Top 10\n",
    "- The higher our confidence about time signature, key and tempo, the more likely the song is to be in the Top 10"
   ]
  },
  {
   "cell_type": "code",
   "execution_count": 25,
   "metadata": {
    "collapsed": false,
    "level": 7
   },
   "outputs": [
    {
     "data": {
      "text/html": [
       "<dl class=dl-horizontal>\n",
       "\t<dt>timesignature_confidence</dt>\n",
       "\t\t<dd>TRUE</dd>\n",
       "\t<dt>key_confidence</dt>\n",
       "\t\t<dd>TRUE</dd>\n",
       "\t<dt>tempo_confidence</dt>\n",
       "\t\t<dd>TRUE</dd>\n",
       "</dl>\n"
      ],
      "text/latex": [
       "\\begin{description*}\n",
       "\\item[timesignature\\textbackslash{}\\_confidence] TRUE\n",
       "\\item[key\\textbackslash{}\\_confidence] TRUE\n",
       "\\item[tempo\\textbackslash{}\\_confidence] TRUE\n",
       "\\end{description*}\n"
      ],
      "text/markdown": [
       "timesignature_confidence\n",
       ":   TRUEkey_confidence\n",
       ":   TRUEtempo_confidence\n",
       ":   TRUE\n",
       "\n"
      ],
      "text/plain": [
       "timesignature_confidence           key_confidence         tempo_confidence \n",
       "                    TRUE                     TRUE                     TRUE "
      ]
     },
     "metadata": {},
     "output_type": "display_data"
    }
   ],
   "source": [
    "summary(SongsLog1)$coefficients[c(\"timesignature_confidence\", \"key_confidence\", \"tempo_confidence\"),\"Estimate\"] > 0"
   ]
  },
  {
   "cell_type": "markdown",
   "metadata": {
    "level": 7
   },
   "source": [
    "Their coefficients are positive, this means that higher confidence leads to a higher predicted probability of a Top 10 hit."
   ]
  },
  {
   "cell_type": "markdown",
   "metadata": {
    "heading_collapsed": false,
    "level": 2
   },
   "source": [
    "## Problem 2.4 - Creating Our Prediction Model\n",
    "\n",
    "In general, if the confidence is low for the time signature, tempo, and key, then the song is more likely to be complex. What does Model 1 suggest in terms of complexity?\n",
    "\n",
    "- Mainstream listeners tend to prefer more complex songs.\n",
    "- Mainstream listeners tend to prefer less complex songs."
   ]
  },
  {
   "cell_type": "markdown",
   "metadata": {
    "level": 7
   },
   "source": [
    "Since the coefficient values for timesignature_confidence, tempo_confidence, and key_confidence are all positive, lower confidence leads to a lower predicted probability of a song being a hit. So mainstream listeners tend to prefer less complex songs."
   ]
  },
  {
   "cell_type": "markdown",
   "metadata": {
    "heading_collapsed": false,
    "level": 2
   },
   "source": [
    "## Problem 2.5 - Creating Our Prediction Model\n",
    "\n",
    "Songs with heavier instrumentation tend to be louder (have higher values in the variable \"loudness\") and more energetic (have higher values in the variable \"energy\").\n",
    "\n",
    "By inspecting the coefficient of the variable \"loudness\", what does Model 1 suggest?\n",
    "\n",
    "\n",
    "- Mainstream listeners prefer songs with heavy instrumentation.\n",
    "- Mainstream listeners prefer songs with light instrumentation."
   ]
  },
  {
   "cell_type": "code",
   "execution_count": 26,
   "metadata": {
    "collapsed": false,
    "level": 7
   },
   "outputs": [
    {
     "data": {
      "text/html": [
       "<dl class=dl-horizontal>\n",
       "\t<dt>energy</dt>\n",
       "\t\t<dd>-1.5021444682317</dd>\n",
       "\t<dt>loudness</dt>\n",
       "\t\t<dd>0.299879403426672</dd>\n",
       "</dl>\n"
      ],
      "text/latex": [
       "\\begin{description*}\n",
       "\\item[energy] -1.5021444682317\n",
       "\\item[loudness] 0.299879403426672\n",
       "\\end{description*}\n"
      ],
      "text/markdown": [
       "energy\n",
       ":   -1.5021444682317loudness\n",
       ":   0.299879403426672\n",
       "\n"
      ],
      "text/plain": [
       "    energy   loudness \n",
       "-1.5021445  0.2998794 "
      ]
     },
     "metadata": {},
     "output_type": "display_data"
    }
   ],
   "source": [
    "summary(SongsLog1)$coefficients[c(\"energy\",\"loudness\"),\"Estimate\"]"
   ]
  },
  {
   "cell_type": "markdown",
   "metadata": {
    "level": 7
   },
   "source": [
    "The coefficient estimate for loudness is positive, meaning that mainstream listeners prefer louder songs, which are those with heavier instrumentation.\n",
    "\n",
    "However, the coefficient estimate for energy is negative, meaning that mainstream listeners prefer songs that are less energetic, which are those with light instrumentation.\n",
    "\n",
    "These coefficients lead us to different conclusions."
   ]
  },
  {
   "cell_type": "markdown",
   "metadata": {
    "heading_collapsed": false,
    "level": 2
   },
   "source": [
    "## Problem 3.1 - Beware of Multicollinearity Issues!\n",
    "\n",
    "What is the correlation between the variables \"loudness\" and \"energy\" in the training set?"
   ]
  },
  {
   "cell_type": "code",
   "execution_count": 30,
   "metadata": {
    "collapsed": false,
    "level": 7
   },
   "outputs": [
    {
     "data": {
      "text/html": [
       "<table>\n",
       "<thead><tr><th></th><th scope=col>energy</th><th scope=col>loudness</th></tr></thead>\n",
       "<tbody>\n",
       "\t<tr><th scope=row>energy</th><td>1.0000000</td><td>0.7399067</td></tr>\n",
       "\t<tr><th scope=row>loudness</th><td>0.7399067</td><td>1.0000000</td></tr>\n",
       "</tbody>\n",
       "</table>\n"
      ],
      "text/latex": [
       "\\begin{tabular}{r|ll}\n",
       "  & energy & loudness\\\\\n",
       "\\hline\n",
       "\tenergy & 1.0000000 & 0.7399067\\\\\n",
       "\tloudness & 0.7399067 & 1.0000000\\\\\n",
       "\\end{tabular}\n"
      ],
      "text/markdown": [
       "1. 1\n",
       "2. 0.739906708455806\n",
       "3. 0.739906708455806\n",
       "4. 1\n",
       "\n",
       "\n"
      ],
      "text/plain": [
       "            energy  loudness\n",
       "energy   1.0000000 0.7399067\n",
       "loudness 0.7399067 1.0000000"
      ]
     },
     "metadata": {},
     "output_type": "display_data"
    }
   ],
   "source": [
    "cor(SongsTrain[c(\"energy\",\"loudness\")])"
   ]
  },
  {
   "cell_type": "markdown",
   "metadata": {
    "level": 7
   },
   "source": [
    "Given that these two variables are highly correlated, Model 1 suffers from multicollinearity.\n",
    "\n",
    "To avoid this issue, we will omit one of these two variables and rerun the logistic regression.\n",
    "\n",
    "In the rest of this problem, we'll build two variations of our original model: Model 2, in which we keep \"energy\" and omit \"loudness\", and Model 3, in which we keep \"loudness\" and omit \"energy\"."
   ]
  },
  {
   "cell_type": "markdown",
   "metadata": {
    "heading_collapsed": false,
    "level": 2
   },
   "source": [
    "## Problem 3.2 - Beware of Multicollinearity Issues!\n",
    "\n",
    "Create Model 2, which is Model 1 without the independent variable \"loudness\".\n",
    "\n",
    "Look at the summary, and inspect the coefficient of the variable \"energy\". What do you observe?\n",
    "\n",
    "\n",
    "- Model 2 suggests that songs with high energy levels tend to be more popular. This contradicts our observation in Model 1.\n",
    "- Model 2 suggests that, similarly to Model 1, songs with low energy levels tend to be more popular."
   ]
  },
  {
   "cell_type": "code",
   "execution_count": 31,
   "metadata": {
    "collapsed": false,
    "level": 7
   },
   "outputs": [
    {
     "data": {
      "text/plain": [
       "\n",
       "Call:\n",
       "glm(formula = Top10 ~ . - loudness, family = binomial, data = SongsTrain)\n",
       "\n",
       "Deviance Residuals: \n",
       "    Min       1Q   Median       3Q      Max  \n",
       "-2.0983  -0.5607  -0.3602  -0.1902   3.3107  \n",
       "\n",
       "Coefficients:\n",
       "                           Estimate Std. Error z value Pr(>|z|)    \n",
       "(Intercept)              -2.241e+00  7.465e-01  -3.002 0.002686 ** \n",
       "timesignature             1.625e-01  8.734e-02   1.860 0.062873 .  \n",
       "timesignature_confidence  6.885e-01  1.924e-01   3.578 0.000346 ***\n",
       "tempo                     5.521e-04  1.665e-03   0.332 0.740226    \n",
       "tempo_confidence          5.497e-01  1.407e-01   3.906 9.40e-05 ***\n",
       "key                       1.740e-02  1.026e-02   1.697 0.089740 .  \n",
       "key_confidence            2.954e-01  1.394e-01   2.118 0.034163 *  \n",
       "energy                    1.813e-01  2.608e-01   0.695 0.486991    \n",
       "pitch                    -5.150e+01  6.857e+00  -7.511 5.87e-14 ***\n",
       "timbre_0_min              2.479e-02  4.240e-03   5.847 5.01e-09 ***\n",
       "timbre_0_max             -1.007e-01  1.178e-02  -8.551  < 2e-16 ***\n",
       "timbre_1_min              7.143e-03  7.710e-04   9.265  < 2e-16 ***\n",
       "timbre_1_max             -7.830e-04  7.064e-04  -1.108 0.267650    \n",
       "timbre_2_min             -1.579e-03  1.109e-03  -1.424 0.154531    \n",
       "timbre_2_max              3.889e-04  8.964e-04   0.434 0.664427    \n",
       "timbre_3_min              6.500e-04  5.949e-04   1.093 0.274524    \n",
       "timbre_3_max             -2.462e-03  5.674e-04  -4.339 1.43e-05 ***\n",
       "timbre_4_min              9.115e-03  1.952e-03   4.670 3.02e-06 ***\n",
       "timbre_4_max              6.306e-03  1.532e-03   4.115 3.87e-05 ***\n",
       "timbre_5_min             -5.641e-03  1.255e-03  -4.495 6.95e-06 ***\n",
       "timbre_5_max              6.937e-04  7.807e-04   0.889 0.374256    \n",
       "timbre_6_min             -1.612e-02  2.235e-03  -7.214 5.45e-13 ***\n",
       "timbre_6_max              3.814e-03  2.157e-03   1.768 0.076982 .  \n",
       "timbre_7_min             -5.102e-03  1.755e-03  -2.907 0.003644 ** \n",
       "timbre_7_max             -3.158e-03  1.811e-03  -1.744 0.081090 .  \n",
       "timbre_8_min              4.488e-03  2.810e-03   1.597 0.110254    \n",
       "timbre_8_max              6.423e-03  2.950e-03   2.177 0.029497 *  \n",
       "timbre_9_min             -4.282e-04  2.955e-03  -0.145 0.884792    \n",
       "timbre_9_max              3.525e-03  2.377e-03   1.483 0.138017    \n",
       "timbre_10_min             2.993e-03  1.804e-03   1.660 0.097004 .  \n",
       "timbre_10_max             7.367e-03  1.731e-03   4.255 2.09e-05 ***\n",
       "timbre_11_min            -2.837e-02  3.630e-03  -7.815 5.48e-15 ***\n",
       "timbre_11_max             1.829e-02  3.341e-03   5.476 4.34e-08 ***\n",
       "---\n",
       "Signif. codes:  0 '***' 0.001 '**' 0.01 '*' 0.05 '.' 0.1 ' ' 1\n",
       "\n",
       "(Dispersion parameter for binomial family taken to be 1)\n",
       "\n",
       "    Null deviance: 6017.5  on 7200  degrees of freedom\n",
       "Residual deviance: 4871.8  on 7168  degrees of freedom\n",
       "AIC: 4937.8\n",
       "\n",
       "Number of Fisher Scoring iterations: 6\n"
      ]
     },
     "metadata": {},
     "output_type": "display_data"
    }
   ],
   "source": [
    "SongsLog2 <- glm(Top10 ~. -loudness, data=SongsTrain, family=binomial)\n",
    "summary(SongsLog2)"
   ]
  },
  {
   "cell_type": "code",
   "execution_count": 35,
   "metadata": {
    "collapsed": false,
    "level": 7
   },
   "outputs": [
    {
     "data": {
      "text/html": [
       "0.181260336943835"
      ],
      "text/latex": [
       "0.181260336943835"
      ],
      "text/markdown": [
       "0.181260336943835"
      ],
      "text/plain": [
       "[1] 0.1812603"
      ]
     },
     "metadata": {},
     "output_type": "display_data"
    },
    {
     "data": {
      "text/html": [
       "TRUE"
      ],
      "text/latex": [
       "TRUE"
      ],
      "text/markdown": [
       "TRUE"
      ],
      "text/plain": [
       "[1] TRUE"
      ]
     },
     "metadata": {},
     "output_type": "display_data"
    }
   ],
   "source": [
    "summary(SongsLog2)$coefficients[\"energy\", \"Estimate\"]\n",
    "summary(SongsLog2)$coefficients[\"energy\", \"Estimate\"] > 0"
   ]
  },
  {
   "cell_type": "markdown",
   "metadata": {
    "level": 7
   },
   "source": [
    "The coefficient estimate for energy is positive in Model 2, suggesting that songs with higher energy levels tend to be more popular. However, the variable energy is not significant in this model."
   ]
  },
  {
   "cell_type": "markdown",
   "metadata": {
    "heading_collapsed": false,
    "level": 2
   },
   "source": [
    "## Problem 3.3 - Beware of Multicollinearity Issues!\n",
    "\n",
    "Now, create Model 3, which should be exactly like Model 1, but without the variable \"energy\".\n",
    "\n",
    "Look at the summary of Model 3 and inspect the coefficient of the variable \"loudness\". Remembering that higher loudness and energy both occur in songs with heavier instrumentation, do we make the same observation about the popularity of heavy instrumentation as we did with Model 2?"
   ]
  },
  {
   "cell_type": "code",
   "execution_count": 36,
   "metadata": {
    "collapsed": false,
    "level": 7
   },
   "outputs": [
    {
     "data": {
      "text/plain": [
       "\n",
       "Call:\n",
       "glm(formula = Top10 ~ . - energy, family = binomial, data = SongsTrain)\n",
       "\n",
       "Deviance Residuals: \n",
       "    Min       1Q   Median       3Q      Max  \n",
       "-1.9182  -0.5417  -0.3481  -0.1874   3.4171  \n",
       "\n",
       "Coefficients:\n",
       "                           Estimate Std. Error z value Pr(>|z|)    \n",
       "(Intercept)               1.196e+01  1.714e+00   6.977 3.01e-12 ***\n",
       "timesignature             1.151e-01  8.726e-02   1.319 0.187183    \n",
       "timesignature_confidence  7.143e-01  1.946e-01   3.670 0.000242 ***\n",
       "loudness                  2.306e-01  2.528e-02   9.120  < 2e-16 ***\n",
       "tempo                    -6.460e-04  1.665e-03  -0.388 0.698107    \n",
       "tempo_confidence          3.841e-01  1.398e-01   2.747 0.006019 ** \n",
       "key                       1.649e-02  1.035e-02   1.593 0.111056    \n",
       "key_confidence            3.394e-01  1.409e-01   2.409 0.015984 *  \n",
       "pitch                    -5.328e+01  6.733e+00  -7.914 2.49e-15 ***\n",
       "timbre_0_min              2.205e-02  4.239e-03   5.200 1.99e-07 ***\n",
       "timbre_0_max             -3.105e-01  2.537e-02 -12.240  < 2e-16 ***\n",
       "timbre_1_min              5.416e-03  7.643e-04   7.086 1.38e-12 ***\n",
       "timbre_1_max             -5.115e-04  7.110e-04  -0.719 0.471928    \n",
       "timbre_2_min             -2.254e-03  1.120e-03  -2.012 0.044190 *  \n",
       "timbre_2_max              4.119e-04  9.020e-04   0.457 0.647915    \n",
       "timbre_3_min              3.179e-04  5.869e-04   0.542 0.588083    \n",
       "timbre_3_max             -2.964e-03  5.758e-04  -5.147 2.64e-07 ***\n",
       "timbre_4_min              1.105e-02  1.978e-03   5.585 2.34e-08 ***\n",
       "timbre_4_max              6.467e-03  1.541e-03   4.196 2.72e-05 ***\n",
       "timbre_5_min             -5.135e-03  1.269e-03  -4.046 5.21e-05 ***\n",
       "timbre_5_max              2.979e-04  7.855e-04   0.379 0.704526    \n",
       "timbre_6_min             -1.784e-02  2.246e-03  -7.945 1.94e-15 ***\n",
       "timbre_6_max              3.447e-03  2.182e-03   1.580 0.114203    \n",
       "timbre_7_min             -5.128e-03  1.768e-03  -2.900 0.003733 ** \n",
       "timbre_7_max             -3.394e-03  1.820e-03  -1.865 0.062208 .  \n",
       "timbre_8_min              3.686e-03  2.833e-03   1.301 0.193229    \n",
       "timbre_8_max              4.658e-03  2.988e-03   1.559 0.119022    \n",
       "timbre_9_min             -9.318e-05  2.957e-03  -0.032 0.974859    \n",
       "timbre_9_max              1.342e-03  2.424e-03   0.554 0.579900    \n",
       "timbre_10_min             4.050e-03  1.827e-03   2.217 0.026637 *  \n",
       "timbre_10_max             5.793e-03  1.759e-03   3.294 0.000988 ***\n",
       "timbre_11_min            -2.638e-02  3.683e-03  -7.162 7.96e-13 ***\n",
       "timbre_11_max             1.984e-02  3.365e-03   5.896 3.74e-09 ***\n",
       "---\n",
       "Signif. codes:  0 '***' 0.001 '**' 0.01 '*' 0.05 '.' 0.1 ' ' 1\n",
       "\n",
       "(Dispersion parameter for binomial family taken to be 1)\n",
       "\n",
       "    Null deviance: 6017.5  on 7200  degrees of freedom\n",
       "Residual deviance: 4782.7  on 7168  degrees of freedom\n",
       "AIC: 4848.7\n",
       "\n",
       "Number of Fisher Scoring iterations: 6\n"
      ]
     },
     "metadata": {},
     "output_type": "display_data"
    }
   ],
   "source": [
    "SongsLog3 <- glm(Top10 ~. -energy, data=SongsTrain, family=binomial)\n",
    "summary(SongsLog3)"
   ]
  },
  {
   "cell_type": "code",
   "execution_count": 38,
   "metadata": {
    "collapsed": false,
    "level": 7
   },
   "outputs": [
    {
     "data": {
      "text/html": [
       "0.230556517094688"
      ],
      "text/latex": [
       "0.230556517094688"
      ],
      "text/markdown": [
       "0.230556517094688"
      ],
      "text/plain": [
       "[1] 0.2305565"
      ]
     },
     "metadata": {},
     "output_type": "display_data"
    },
    {
     "data": {
      "text/html": [
       "TRUE"
      ],
      "text/latex": [
       "TRUE"
      ],
      "text/markdown": [
       "TRUE"
      ],
      "text/plain": [
       "[1] TRUE"
      ]
     },
     "metadata": {},
     "output_type": "display_data"
    }
   ],
   "source": [
    "summary(SongsLog3)$coefficients[\"loudness\", \"Estimate\"]\n",
    "summary(SongsLog3)$coefficients[\"loudness\", \"Estimate\"] > 0"
   ]
  },
  {
   "cell_type": "markdown",
   "metadata": {
    "level": 7
   },
   "source": [
    "Looking at the output of summary(SongsLog3), we can see that loudness has a positive coefficient estimate, meaning that our model predicts that songs with heavier instrumentation tend to be more popular.\n",
    "\n",
    "This is the same conclusion we got from Model 2.\n",
    "\n",
    "In the remainder of this problem, we'll just use Model 3."
   ]
  },
  {
   "cell_type": "markdown",
   "metadata": {
    "heading_collapsed": false,
    "level": 2
   },
   "source": [
    "## Problem 4.1 - Validating Our Model\n",
    "\n",
    "Make predictions on the test set using Model 3. What is the accuracy of Model 3 on the test set, using a threshold of 0.45? (Compute the accuracy as a number between 0 and 1.)"
   ]
  },
  {
   "cell_type": "code",
   "execution_count": 41,
   "metadata": {
    "collapsed": false,
    "level": 7
   },
   "outputs": [
    {
     "data": {
      "text/plain": [
       "   \n",
       "    FALSE TRUE\n",
       "  0   309    5\n",
       "  1    40   19"
      ]
     },
     "metadata": {},
     "output_type": "display_data"
    }
   ],
   "source": [
    "predMod3 <- predict(SongsLog3, newdata=SongsTest, type=\"response\")\n",
    "thresh <- .45\n",
    "table(SongsTest$Top10, predMod3 >= thresh)"
   ]
  },
  {
   "cell_type": "code",
   "execution_count": 44,
   "metadata": {
    "collapsed": false,
    "level": 7
   },
   "outputs": [
    {
     "name": "stdout",
     "output_type": "stream",
     "text": [
      "[1] 0.8793566\n"
     ]
    }
   ],
   "source": [
    "accuracy_predMod3 <- (309 + 19) / (309 + 19 + 40 + 5)\n",
    "print(accuracy_predMod3)"
   ]
  },
  {
   "cell_type": "markdown",
   "metadata": {
    "heading_collapsed": false,
    "level": 2
   },
   "source": [
    "## Problem 4.2 - Validating Our Model\n",
    "\n",
    "Let's check if there's any incremental benefit in using Model 3 instead of a baseline model.\n",
    "\n",
    "Given the difficulty of guessing which song is going to be a hit, an easier model would be to pick the most frequent outcome (a song is not a Top 10 hit) for all songs.\n",
    "\n",
    "What would the accuracy of the baseline model be on the test set? (Give your answer as a number between 0 and 1.)"
   ]
  },
  {
   "cell_type": "code",
   "execution_count": 43,
   "metadata": {
    "collapsed": false,
    "level": 7
   },
   "outputs": [
    {
     "data": {
      "text/plain": [
       "\n",
       "  0   1 \n",
       "314  59 "
      ]
     },
     "metadata": {},
     "output_type": "display_data"
    }
   ],
   "source": [
    "table(SongsTest$Top10)"
   ]
  },
  {
   "cell_type": "markdown",
   "metadata": {
    "level": 7
   },
   "source": [
    "The baseline model would get 314 observations correct, and 59 wrong."
   ]
  },
  {
   "cell_type": "code",
   "execution_count": 45,
   "metadata": {
    "collapsed": false,
    "level": 7
   },
   "outputs": [
    {
     "name": "stdout",
     "output_type": "stream",
     "text": [
      "[1] 0.8418231\n"
     ]
    }
   ],
   "source": [
    "accuracy_baseline <- 314/(314+59)\n",
    "print(accuracy_baseline)"
   ]
  },
  {
   "cell_type": "markdown",
   "metadata": {
    "heading_collapsed": false,
    "level": 2
   },
   "source": [
    "## Problem 4.3 - Validating Our Model\n",
    "\n",
    "It seems that Model 3 gives us a small improvement over the baseline model. Still, does it create an edge?\n",
    "\n",
    "Let's view the two models from an investment perspective. A production company is interested in investing in songs that are highly likely to make it to the Top 10. The company's objective is to minimize its risk of financial losses attributed to investing in songs that end up unpopular.\n",
    "\n",
    "A competitive edge can therefore be achieved if we can provide the production company a list of songs that are highly likely to end up in the Top 10. We note that the baseline model does not prove useful, as it simply does not label any song as a hit. Let us see what our model has to offer.\n",
    "\n",
    "How many songs does Model 3 correctly predict as Top 10 hits in 2010 (remember that all songs in 2010 went into our test set), using a threshold of 0.45?"
   ]
  },
  {
   "cell_type": "code",
   "execution_count": 47,
   "metadata": {
    "collapsed": false,
    "level": 7
   },
   "outputs": [
    {
     "data": {
      "text/plain": [
       "   \n",
       "    FALSE TRUE\n",
       "  0   309    5\n",
       "  1    40   19"
      ]
     },
     "metadata": {},
     "output_type": "display_data"
    }
   ],
   "source": [
    "table(SongsTest$Top10, predMod3 >= thresh)"
   ]
  },
  {
   "cell_type": "markdown",
   "metadata": {
    "level": 7
   },
   "source": [
    "The model correctly predicts 19 songs to be in the top 10."
   ]
  },
  {
   "cell_type": "markdown",
   "metadata": {
    "level": 7
   },
   "source": [
    "How many non-hit songs does Model 3 predict will be Top 10 hits (again, looking at the test set), using a threshold of 0.45?"
   ]
  },
  {
   "cell_type": "markdown",
   "metadata": {
    "level": 7
   },
   "source": [
    "The model falsely predicts 5 songs to be in the top 10."
   ]
  },
  {
   "cell_type": "markdown",
   "metadata": {
    "heading_collapsed": false,
    "level": 2
   },
   "source": [
    "## Problem 4.4 - Validating Our Model\n",
    "\n",
    "What is the sensitivity of Model 3 on the test set, using a threshold of 0.45?"
   ]
  },
  {
   "cell_type": "code",
   "execution_count": 50,
   "metadata": {
    "collapsed": false,
    "level": 7
   },
   "outputs": [
    {
     "name": "stdout",
     "output_type": "stream",
     "text": [
      "[1] 0.3220339\n"
     ]
    }
   ],
   "source": [
    "sensitivity_mod3 <- 19/(40+19)\n",
    "print(sensitivity_mod3)"
   ]
  },
  {
   "cell_type": "markdown",
   "metadata": {
    "level": 7
   },
   "source": [
    "What is the specificity of Model 3 on the test set, using a threshold of 0.45?"
   ]
  },
  {
   "cell_type": "code",
   "execution_count": 51,
   "metadata": {
    "collapsed": false,
    "level": 7
   },
   "outputs": [
    {
     "name": "stdout",
     "output_type": "stream",
     "text": [
      "[1] 0.9840764\n"
     ]
    }
   ],
   "source": [
    "specificity_mod3 <- 309/(309+5)\n",
    "print(specificity_mod3)"
   ]
  },
  {
   "cell_type": "markdown",
   "metadata": {
    "heading_collapsed": false,
    "level": 2
   },
   "source": [
    "## Problem 4.5 - Validating Our Model\n",
    "\n",
    "What conclusions can you make about our model? (Select all that apply.)\n",
    "\n",
    "- Model 3 favors specificity over sensitivity.\n",
    "- Model 3 favors sensitivity over specificity.\n",
    "- Model 3 captures less than half of Top 10 songs in 2010. Model 3 therefore does not provide a useful list of candidate songs to investors, and hence offers no competitive edge.\n",
    "- Model 3 provides conservative predictions, and predicts that a song will make it to the Top 10 very rarely. So while it detects less than half of the Top 10 songs, we can be very confident in the songs that it does predict to be Top 10 hits."
   ]
  },
  {
   "cell_type": "code",
   "execution_count": 55,
   "metadata": {
    "collapsed": false,
    "level": 7
   },
   "outputs": [
    {
     "data": {
      "text/plain": [
       "   \n",
       "    FALSE TRUE\n",
       "  0   309    5\n",
       "  1    40   19"
      ]
     },
     "metadata": {},
     "output_type": "display_data"
    },
    {
     "name": "stdout",
     "output_type": "stream",
     "text": [
      "[1] \"sensitivity:  0.322033898305085\"\n",
      "[1] \"specificity:  0.984076433121019\"\n"
     ]
    }
   ],
   "source": [
    "table(SongsTest$Top10, predMod3 >= thresh)\n",
    "print(paste(\"sensitivity: \", sensitivity_mod3))\n",
    "print(paste(\"specificity: \", specificity_mod3))"
   ]
  },
  {
   "cell_type": "markdown",
   "metadata": {
    "level": 7
   },
   "source": [
    "Model 3 favors specificity over sensitivity."
   ]
  },
  {
   "cell_type": "markdown",
   "metadata": {
    "level": 7
   },
   "source": [
    "While Model 3 only captures less than half of the Top 10 songs, it still can offer a competitive edge, since it is very conservative in its predictions."
   ]
  }
 ],
 "metadata": {
  "anaconda-cloud": {},
  "kernelspec": {
   "display_name": "R",
   "language": "R",
   "name": "ir"
  },
  "language_info": {
   "codemirror_mode": "r",
   "file_extension": ".r",
   "mimetype": "text/x-r-source",
   "name": "R",
   "pygments_lexer": "r",
   "version": "3.3.1"
  },
  "latex_envs": {
   "bibliofile": "biblio.bib",
   "cite_by": "apalike",
   "current_citInitial": 1,
   "eqLabelWithNumbers": true,
   "eqNumInitial": 0
  },
  "toc": {
   "toc_cell": true,
   "toc_number_sections": true,
   "toc_threshold": 6,
   "toc_window_display": false
  }
 },
 "nbformat": 4,
 "nbformat_minor": 1
}
