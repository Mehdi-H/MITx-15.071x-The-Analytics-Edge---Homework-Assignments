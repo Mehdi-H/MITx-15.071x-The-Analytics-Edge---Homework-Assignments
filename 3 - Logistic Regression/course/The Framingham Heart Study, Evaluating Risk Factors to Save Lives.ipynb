{
 "cells": [
  {
   "cell_type": "markdown",
   "metadata": {
    "heading_collapsed": false,
    "level": 7,
    "toc": "true"
   },
   "source": [
    "# Table of Contents\n",
    " <p><div class=\"lev1\"><a href=\"#The-Framingham-Heart-Study\"><span class=\"toc-item-num\">1&nbsp;&nbsp;</span>The Framingham Heart Study</a></div><div class=\"lev2\"><a href=\"#Quick-Question\"><span class=\"toc-item-num\">1.1&nbsp;&nbsp;</span>Quick Question</a></div>"
   ]
  },
  {
   "cell_type": "markdown",
   "metadata": {
    "level": 7
   },
   "source": [
    "The Framingham Heart Study\n",
    "=========================="
   ]
  },
  {
   "cell_type": "markdown",
   "metadata": {
    "level": 7
   },
   "source": [
    "The city of Framingham in the US was chosen to perform a study on its population to learn more about heart diseases.\n",
    "\n",
    "It was chosen because of its appropriate size, for its stable population over time and the cooperation of its population and doctors that were willing to participate in this study in 1948."
   ]
  },
  {
   "cell_type": "markdown",
   "metadata": {
    "level": 7
   },
   "source": [
    "We'll use logistic regression\n",
    "to predict whether or not a patient experienced CHD\n",
    "within 10 years of the first examination"
   ]
  },
  {
   "cell_type": "code",
   "execution_count": 1,
   "metadata": {
    "collapsed": true,
    "level": 7
   },
   "outputs": [],
   "source": [
    "framingham <- read.csv(\"framingham.csv\")"
   ]
  },
  {
   "cell_type": "code",
   "execution_count": 2,
   "metadata": {
    "collapsed": false,
    "level": 7
   },
   "outputs": [
    {
     "name": "stdout",
     "output_type": "stream",
     "text": [
      "'data.frame':\t4240 obs. of  16 variables:\n",
      " $ male           : int  1 0 1 0 0 0 0 0 1 1 ...\n",
      " $ age            : int  39 46 48 61 46 43 63 45 52 43 ...\n",
      " $ education      : int  4 2 1 3 3 2 1 2 1 1 ...\n",
      " $ currentSmoker  : int  0 0 1 1 1 0 0 1 0 1 ...\n",
      " $ cigsPerDay     : int  0 0 20 30 23 0 0 20 0 30 ...\n",
      " $ BPMeds         : int  0 0 0 0 0 0 0 0 0 0 ...\n",
      " $ prevalentStroke: int  0 0 0 0 0 0 0 0 0 0 ...\n",
      " $ prevalentHyp   : int  0 0 0 1 0 1 0 0 1 1 ...\n",
      " $ diabetes       : int  0 0 0 0 0 0 0 0 0 0 ...\n",
      " $ totChol        : int  195 250 245 225 285 228 205 313 260 225 ...\n",
      " $ sysBP          : num  106 121 128 150 130 ...\n",
      " $ diaBP          : num  70 81 80 95 84 110 71 71 89 107 ...\n",
      " $ BMI            : num  27 28.7 25.3 28.6 23.1 ...\n",
      " $ heartRate      : int  80 95 75 65 85 77 60 79 76 93 ...\n",
      " $ glucose        : int  77 76 70 103 85 99 85 78 79 88 ...\n",
      " $ TenYearCHD     : int  0 0 0 1 0 0 1 0 0 0 ...\n"
     ]
    }
   ],
   "source": [
    "str(framingham)"
   ]
  },
  {
   "cell_type": "markdown",
   "metadata": {
    "level": 7
   },
   "source": [
    "We have 4240 patients and 16 variables."
   ]
  },
  {
   "cell_type": "markdown",
   "metadata": {
    "level": 7
   },
   "source": [
    "We intend to perform a modelization, so we need to build first a training set and a testing set."
   ]
  },
  {
   "cell_type": "code",
   "execution_count": 3,
   "metadata": {
    "collapsed": true,
    "level": 7
   },
   "outputs": [],
   "source": [
    "library(caTools)"
   ]
  },
  {
   "cell_type": "code",
   "execution_count": 4,
   "metadata": {
    "collapsed": true,
    "level": 7
   },
   "outputs": [],
   "source": [
    "set.seed(1000)\n",
    "split = sample.split(framingham$TenYearCHD, SplitRatio=.65)  # We will put 65% of the data in the training set"
   ]
  },
  {
   "cell_type": "code",
   "execution_count": 5,
   "metadata": {
    "collapsed": true,
    "level": 7
   },
   "outputs": [],
   "source": [
    "train <- subset(framingham, split == TRUE)\n",
    "test <- subset(framingham, split == FALSE)"
   ]
  },
  {
   "cell_type": "markdown",
   "metadata": {
    "level": 7
   },
   "source": [
    "We can now build a first logistic regressison model using the training set."
   ]
  },
  {
   "cell_type": "code",
   "execution_count": 11,
   "metadata": {
    "collapsed": false
   },
   "outputs": [
    {
     "data": {
      "text/plain": [
       "\n",
       "Call:\n",
       "glm(formula = TenYearCHD ~ ., family = binomial, data = train)\n",
       "\n",
       "Deviance Residuals: \n",
       "    Min       1Q   Median       3Q      Max  \n",
       "-1.8487  -0.6007  -0.4257  -0.2842   2.8369  \n",
       "\n",
       "Coefficients:\n",
       "                 Estimate Std. Error z value Pr(>|z|)    \n",
       "(Intercept)     -7.886574   0.890729  -8.854  < 2e-16 ***\n",
       "male             0.528457   0.135443   3.902 9.55e-05 ***\n",
       "age              0.062055   0.008343   7.438 1.02e-13 ***\n",
       "education       -0.058923   0.062430  -0.944  0.34525    \n",
       "currentSmoker    0.093240   0.194008   0.481  0.63080    \n",
       "cigsPerDay       0.015008   0.007826   1.918  0.05514 .  \n",
       "BPMeds           0.311221   0.287408   1.083  0.27887    \n",
       "prevalentStroke  1.165794   0.571215   2.041  0.04126 *  \n",
       "prevalentHyp     0.315818   0.171765   1.839  0.06596 .  \n",
       "diabetes        -0.421494   0.407990  -1.033  0.30156    \n",
       "totChol          0.003835   0.001377   2.786  0.00533 ** \n",
       "sysBP            0.011344   0.004566   2.485  0.01297 *  \n",
       "diaBP           -0.004740   0.008001  -0.592  0.55353    \n",
       "BMI              0.010723   0.016157   0.664  0.50689    \n",
       "heartRate       -0.008099   0.005313  -1.524  0.12739    \n",
       "glucose          0.008935   0.002836   3.150  0.00163 ** \n",
       "---\n",
       "Signif. codes:  0 '***' 0.001 '**' 0.01 '*' 0.05 '.' 0.1 ' ' 1\n",
       "\n",
       "(Dispersion parameter for binomial family taken to be 1)\n",
       "\n",
       "    Null deviance: 2020.7  on 2384  degrees of freedom\n",
       "Residual deviance: 1792.3  on 2369  degrees of freedom\n",
       "  (371 observations deleted due to missingness)\n",
       "AIC: 1824.3\n",
       "\n",
       "Number of Fisher Scoring iterations: 5\n"
      ]
     },
     "metadata": {},
     "output_type": "display_data"
    }
   ],
   "source": [
    "framinghamLog <- glm(TenYearCHD ~ ., data=train, family=binomial)\n",
    "summary(framinghamLog)"
   ]
  },
  {
   "cell_type": "markdown",
   "metadata": {
    "level": 7
   },
   "source": [
    "It looks like male, age, prevalent stroke, total cholesterol, systolic blood pressure and glucose are significant in our model.\n",
    "\n",
    "Cigarettes per day and prevalent hypertension are almost significant.\n",
    "\n",
    "All the significant variables have positive coefficients, meaning that higher values for theses variables contribute to a higher probabilityof 10-year coronary heart disease."
   ]
  },
  {
   "cell_type": "markdown",
   "metadata": {
    "level": 7
   },
   "source": [
    "Let's try to make some predictions on the test set now :"
   ]
  },
  {
   "cell_type": "code",
   "execution_count": 12,
   "metadata": {
    "collapsed": true
   },
   "outputs": [],
   "source": [
    "predictTest <- predict(framinghamLog, type=\"response\", newdata=test)"
   ]
  },
  {
   "cell_type": "markdown",
   "metadata": {
    "level": 7
   },
   "source": [
    "We will also compute a confusion matrix with a threshold of $0.5$."
   ]
  },
  {
   "cell_type": "code",
   "execution_count": 13,
   "metadata": {
    "collapsed": false
   },
   "outputs": [
    {
     "data": {
      "text/plain": [
       "   \n",
       "    FALSE TRUE\n",
       "  0  1069    6\n",
       "  1   187   11"
      ]
     },
     "metadata": {},
     "output_type": "display_data"
    }
   ],
   "source": [
    "thresh <- .5\n",
    "table(test$TenYearCHD, predictTest > thresh)"
   ]
  },
  {
   "cell_type": "markdown",
   "metadata": {
    "level": 7
   },
   "source": [
    "We can immediately notice that our model rarely predicts true values.\n",
    "\n",
    "This means that our model rarely predicts a 10-year CHD risk above 50%.\n",
    "\n",
    "Let's check its accuracy."
   ]
  },
  {
   "cell_type": "code",
   "execution_count": 15,
   "metadata": {
    "collapsed": false
   },
   "outputs": [
    {
     "name": "stdout",
     "output_type": "stream",
     "text": [
      "[1] 0.8483896\n"
     ]
    }
   ],
   "source": [
    "accuracy <- (1069 + 11) / (1069 + 6 + 187 + 11)\n",
    "print(accuracy)"
   ]
  },
  {
   "cell_type": "markdown",
   "metadata": {
    "level": 7
   },
   "source": [
    "This seems great. But let's compare this to a baseline model. We will build a simple one based on the most frequent outcome here, which is 0. That is a simpel baseline model that will always predict 0, that is no CHD.\n",
    "\n",
    "This model would get this accuracy :"
   ]
  },
  {
   "cell_type": "code",
   "execution_count": 16,
   "metadata": {
    "collapsed": false
   },
   "outputs": [
    {
     "name": "stdout",
     "output_type": "stream",
     "text": [
      "[1] 0.8444619\n"
     ]
    }
   ],
   "source": [
    "baseline_accuracy <- (1069 + 6) / (1069 + 6 + 187 + 11)\n",
    "print(baseline_accuracy)"
   ]
  },
  {
   "cell_type": "markdown",
   "metadata": {
    "level": 7
   },
   "source": [
    "Well, our model barely beats the baseline model, which is okay but not that great.\n",
    "\n",
    "Let's play with the threshold a little bit and compute the out-of-sample AUC."
   ]
  },
  {
   "cell_type": "code",
   "execution_count": 17,
   "metadata": {
    "collapsed": false
   },
   "outputs": [
    {
     "name": "stderr",
     "output_type": "stream",
     "text": [
      "Loading required package: gplots\n",
      "\n",
      "Attaching package: 'gplots'\n",
      "\n",
      "The following object is masked from 'package:stats':\n",
      "\n",
      "    lowess\n",
      "\n"
     ]
    }
   ],
   "source": [
    "library(ROCR)"
   ]
  },
  {
   "cell_type": "code",
   "execution_count": 19,
   "metadata": {
    "collapsed": false
   },
   "outputs": [
    {
     "data": {
      "text/html": [
       "0.742109466760632"
      ],
      "text/latex": [
       "0.742109466760632"
      ],
      "text/markdown": [
       "0.742109466760632"
      ],
      "text/plain": [
       "[1] 0.7421095"
      ]
     },
     "metadata": {},
     "output_type": "display_data"
    }
   ],
   "source": [
    "ROCRpred <- prediction(predictTest, test$TenYearCHD)\n",
    "as.numeric(performance(ROCRpred, \"auc\")@y.values)"
   ]
  },
  {
   "cell_type": "markdown",
   "metadata": {
    "level": 7
   },
   "source": [
    "The AUC of our model is pretty good, which means it is able to differentiate well the low risk patients from the high risk patients."
   ]
  },
  {
   "cell_type": "markdown",
   "metadata": {
    "heading_collapsed": false,
    "level": 2
   },
   "source": [
    "## Quick Question"
   ]
  },
  {
   "cell_type": "markdown",
   "metadata": {
    "level": 7
   },
   "source": [
    "Using the previous confusion matrix for our logistic regression model on our test set with a threshold of 0.5,\n",
    "\n",
    "What is the sensitivity of our logistic regression model on the test set, using a threshold of 0.5?"
   ]
  },
  {
   "cell_type": "code",
   "execution_count": 20,
   "metadata": {
    "collapsed": false
   },
   "outputs": [
    {
     "name": "stdout",
     "output_type": "stream",
     "text": [
      "[1] 0.05555556\n"
     ]
    }
   ],
   "source": [
    "sensitivity <- 11 / (187+11)\n",
    "print(sensitivity)"
   ]
  },
  {
   "cell_type": "markdown",
   "metadata": {
    "level": 7
   },
   "source": [
    "What is the specificity of our logistic regression model on the test set, using a threshold of 0.5?"
   ]
  },
  {
   "cell_type": "code",
   "execution_count": 21,
   "metadata": {
    "collapsed": false
   },
   "outputs": [
    {
     "name": "stdout",
     "output_type": "stream",
     "text": [
      "[1] 0.9944186\n"
     ]
    }
   ],
   "source": [
    "specificity <- 1069 / (1069+6)\n",
    "print(specificity)"
   ]
  }
 ],
 "metadata": {
  "anaconda-cloud": {},
  "kernelspec": {
   "display_name": "R",
   "language": "R",
   "name": "ir"
  },
  "language_info": {
   "codemirror_mode": "r",
   "file_extension": ".r",
   "mimetype": "text/x-r-source",
   "name": "R",
   "pygments_lexer": "r",
   "version": "3.3.1"
  },
  "latex_envs": {
   "bibliofile": "biblio.bib",
   "cite_by": "apalike",
   "current_citInitial": 1,
   "eqLabelWithNumbers": true,
   "eqNumInitial": 0
  },
  "toc": {
   "toc_cell": true,
   "toc_number_sections": true,
   "toc_threshold": 6,
   "toc_window_display": false
  }
 },
 "nbformat": 4,
 "nbformat_minor": 1
}
