{
 "cells": [
  {
   "cell_type": "markdown",
   "metadata": {
    "heading_collapsed": false,
    "level": 1,
    "toc": "true"
   },
   "source": [
    "# Table of Contents\n",
    " <p><div class=\"lev1\"><a href=\"#Unit-3---Logistic-regression\"><span class=\"toc-item-num\">1&nbsp;&nbsp;</span>Unit 3 - Logistic regression</a></div><div class=\"lev2\"><a href=\"#Course\"><span class=\"toc-item-num\">1.1&nbsp;&nbsp;</span>Course</a></div><div class=\"lev3\"><a href=\"#Introduction\"><span class=\"toc-item-num\">1.1.1&nbsp;&nbsp;</span>Introduction</a></div><div class=\"lev3\"><a href=\"#Quick-question\"><span class=\"toc-item-num\">1.1.2&nbsp;&nbsp;</span>Quick question</a></div>"
   ]
  },
  {
   "cell_type": "markdown",
   "metadata": {
    "heading_collapsed": false,
    "level": 7
   },
   "source": [
    "Unit 3 - Logistic regression\n",
    "============================"
   ]
  },
  {
   "cell_type": "markdown",
   "metadata": {
    "heading_collapsed": false,
    "level": 2
   },
   "source": [
    "## Course"
   ]
  },
  {
   "cell_type": "markdown",
   "metadata": {
    "heading_collapsed": false,
    "level": 3
   },
   "source": [
    "### Introduction"
   ]
  },
  {
   "cell_type": "markdown",
   "metadata": {
    "level": 7
   },
   "source": [
    "We will study a first dataset in which we will use logistic regression to predict a categorical outcome.\n",
    "\n",
    "We will denote the care as :\n",
    "\n",
    "- Poor care $= 1$,\n",
    "- Good care $= 0$,\n",
    "- And that $P(y=0) = 1 - P(y=1)$."
   ]
  },
  {
   "cell_type": "markdown",
   "metadata": {
    "level": 7
   },
   "source": [
    "We will also use the Logistic Response Function that is\n",
    "\n",
    "$$\n",
    "    P(y=1) = \\frac{1}{1 + e^{-( \\beta_0 + \\beta_1x_1 + \\beta_2x_2 + ... + \\beta_kx_k)}}\n",
    "$$"
   ]
  },
  {
   "cell_type": "markdown",
   "metadata": {
    "level": 7
   },
   "source": [
    "Let's try and plot it:"
   ]
  },
  {
   "cell_type": "code",
   "execution_count": 9,
   "metadata": {
    "collapsed": false
   },
   "outputs": [
    {
     "data": {
      "image/png": "[encoded data removed]",
      "text/plain": [
       "plot without title"
      ]
     },
     "metadata": {},
     "output_type": "display_data"
    }
   ],
   "source": [
    "# Logistic function\n",
    "logFunc <- function(x) {1 / (1+exp(-x))}\n",
    "\n",
    "# Plot\n",
    "xlab = expression(\"beta_0 + beta_1*x_1 + beta_2*x_2 + ... + beta_k*x_k\")\n",
    "curve(logFunc, from=-4.5, to=4.5, xlab=xlab, ylab=\"P(y=1)\")"
   ]
  },
  {
   "cell_type": "markdown",
   "metadata": {
    "heading_collapsed": false,
    "level": 3
   },
   "source": [
    "### Quick question\n",
    "\n",
    "Suppose the coefficients of a logistic regression model with two independent variables are as follows:\n",
    "\n",
    "$\\beta_0 = -1.5$, $\\beta_1 = 3$, $\\beta_2 = -0.5$.\n",
    "\n",
    "And we have an observation with the following values for the independent variables:\n",
    "\n",
    "$x_1 = 1$, $x_2 = 5$.\n",
    "\n",
    "What is the value of the Logit for this observation? Recall that the Logit is log(Odds)."
   ]
  },
  {
   "cell_type": "code",
   "execution_count": 14,
   "metadata": {
    "collapsed": true
   },
   "outputs": [],
   "source": [
    "# Betas\n",
    "b0 <- -1.5\n",
    "b1 <- 3\n",
    "b2 <- -0.5\n",
    "\n",
    "# Observations\n",
    "x1 <- 1\n",
    "x2 <- 5"
   ]
  },
  {
   "cell_type": "code",
   "execution_count": 16,
   "metadata": {
    "collapsed": false
   },
   "outputs": [
    {
     "name": "stdout",
     "output_type": "stream",
     "text": [
      "[1] -1\n"
     ]
    }
   ],
   "source": [
    "odds <- exp(b0 + b1*x1 + b2*x2)\n",
    "Logit = log(odds)\n",
    "print(Logit)"
   ]
  },
  {
   "cell_type": "markdown",
   "metadata": {
    "level": 7
   },
   "source": [
    "What is the value of the Odds for this observation? Note that you can compute $e^x$, for some number x, in your R console by typing exp(x). The function exp() computes the exponential of its argument."
   ]
  },
  {
   "cell_type": "code",
   "execution_count": 17,
   "metadata": {
    "collapsed": false
   },
   "outputs": [
    {
     "name": "stdout",
     "output_type": "stream",
     "text": [
      "[1] 0.3678794\n"
     ]
    }
   ],
   "source": [
    "print(odds)"
   ]
  },
  {
   "cell_type": "markdown",
   "metadata": {
    "level": 7
   },
   "source": [
    "What is the value of $P(y = 1)$ for this observation?"
   ]
  },
  {
   "cell_type": "code",
   "execution_count": 20,
   "metadata": {
    "collapsed": false
   },
   "outputs": [
    {
     "name": "stdout",
     "output_type": "stream",
     "text": [
      "[1] 0.2689414\n"
     ]
    }
   ],
   "source": [
    "Py1 <- logFunc(Logit)\n",
    "print(Py1)"
   ]
  }
 ],
 "metadata": {
  "anaconda-cloud": {},
  "kernelspec": {
   "display_name": "R",
   "language": "R",
   "name": "ir"
  },
  "language_info": {
   "codemirror_mode": "r",
   "file_extension": ".r",
   "mimetype": "text/x-r-source",
   "name": "R",
   "pygments_lexer": "r",
   "version": "3.3.1"
  },
  "latex_envs": {
   "bibliofile": "biblio.bib",
   "cite_by": "apalike",
   "current_citInitial": 1,
   "eqLabelWithNumbers": true,
   "eqNumInitial": 0
  },
  "toc": {
   "toc_cell": true,
   "toc_number_sections": true,
   "toc_threshold": 6,
   "toc_window_display": false
  }
 },
 "nbformat": 4,
 "nbformat_minor": 1
}
