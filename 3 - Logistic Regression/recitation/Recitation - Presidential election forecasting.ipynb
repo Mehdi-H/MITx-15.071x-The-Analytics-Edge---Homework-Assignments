{
 "cells": [
  {
   "cell_type": "markdown",
   "metadata": {
    "heading_collapsed": false,
    "level": 7,
    "toc": "true"
   },
   "source": [
    "# Table of Contents\n",
    " <p><div class=\"lev1\"><a href=\"#Recitation---Presidential-Election-Forecating\"><span class=\"toc-item-num\">1&nbsp;&nbsp;</span>Recitation - Presidential Election Forecating</a></div><div class=\"lev2\"><a href=\"#Dealing-with-missing-values\"><span class=\"toc-item-num\">1.1&nbsp;&nbsp;</span>Dealing with missing values</a></div><div class=\"lev2\"><a href=\"#A-Sophisticated-Baseline-Method\"><span class=\"toc-item-num\">1.2&nbsp;&nbsp;</span>A Sophisticated Baseline Method</a></div><div class=\"lev2\"><a href=\"#Logistic-Regression-Models\"><span class=\"toc-item-num\">1.3&nbsp;&nbsp;</span>Logistic Regression Models</a></div><div class=\"lev2\"><a href=\"#Test-set-predictions\"><span class=\"toc-item-num\">1.4&nbsp;&nbsp;</span>Test set predictions</a></div>"
   ]
  },
  {
   "cell_type": "markdown",
   "metadata": {
    "level": 7
   },
   "source": [
    "Recitation - Presidential Election Forecating\n",
    "============================================="
   ]
  },
  {
   "cell_type": "markdown",
   "metadata": {
    "level": 7
   },
   "source": [
    "In this recitation, we will be using the dataset PollingData.csv. This data comes from RealClearPolitics.com."
   ]
  },
  {
   "cell_type": "code",
   "execution_count": 1,
   "metadata": {
    "collapsed": false,
    "level": 7
   },
   "outputs": [
    {
     "name": "stdout",
     "output_type": "stream",
     "text": [
      "'data.frame':\t145 obs. of  7 variables:\n",
      " $ State     : Factor w/ 50 levels \"Alabama\",\"Alaska\",..: 1 1 2 2 3 3 3 4 4 4 ...\n",
      " $ Year      : int  2004 2008 2004 2008 2004 2008 2012 2004 2008 2012 ...\n",
      " $ Rasmussen : int  11 21 NA 16 5 5 8 7 10 NA ...\n",
      " $ SurveyUSA : int  18 25 NA NA 15 NA NA 5 NA NA ...\n",
      " $ DiffCount : int  5 5 1 6 8 9 4 8 5 2 ...\n",
      " $ PropR     : num  1 1 1 1 1 ...\n",
      " $ Republican: int  1 1 1 1 1 1 1 1 1 1 ...\n"
     ]
    }
   ],
   "source": [
    "polling <- read.csv(\"PollingData.csv\")\n",
    "str(polling)"
   ]
  },
  {
   "cell_type": "markdown",
   "metadata": {
    "level": 7
   },
   "source": [
    "We have a total a 145 observations (1 state in a particular year).\n",
    "\n",
    "Something we notice right off the bat\n",
    "is that even though there are 50 states and three election\n",
    "years, so we would expect 150 observations,\n",
    "we actually only have 145 observations in the data frame."
   ]
  },
  {
   "cell_type": "code",
   "execution_count": 2,
   "metadata": {
    "collapsed": false,
    "level": 7
   },
   "outputs": [
    {
     "data": {
      "text/plain": [
       "\n",
       "2004 2008 2012 \n",
       "  50   50   45 "
      ]
     },
     "metadata": {},
     "output_type": "display_data"
    }
   ],
   "source": [
    "table(polling$Year)"
   ]
  },
  {
   "cell_type": "markdown",
   "metadata": {
    "level": 7
   },
   "source": [
    "What happened here is\n",
    "that pollsters were so sure about the five missing states\n",
    "that they didn't perform any polls in the months leading up\n",
    "to the 2012 election.\n",
    "\n",
    "So since these states are particularly easy to predict,\n",
    "we feel pretty comfortable moving forward, making\n",
    "predictions just for the 45 remaining states."
   ]
  },
  {
   "cell_type": "markdown",
   "metadata": {
    "level": 7
   },
   "source": [
    "We also notice that some values are missing (NA)."
   ]
  },
  {
   "cell_type": "code",
   "execution_count": 19,
   "metadata": {
    "collapsed": false,
    "level": 7
   },
   "outputs": [
    {
     "data": {
      "text/plain": [
       "         State          Year        Rasmussen          SurveyUSA       \n",
       " Arizona    :  3   Min.   :2004   Min.   :-41.0000   Min.   :-33.0000  \n",
       " Arkansas   :  3   1st Qu.:2004   1st Qu.: -8.0000   1st Qu.:-11.7500  \n",
       " California :  3   Median :2008   Median :  1.0000   Median : -2.0000  \n",
       " Colorado   :  3   Mean   :2008   Mean   :  0.0404   Mean   : -0.8243  \n",
       " Connecticut:  3   3rd Qu.:2012   3rd Qu.:  8.5000   3rd Qu.:  8.0000  \n",
       " Florida    :  3   Max.   :2012   Max.   : 39.0000   Max.   : 30.0000  \n",
       " (Other)    :127                  NA's   :46         NA's   :71        \n",
       "   DiffCount           PropR          Republican    \n",
       " Min.   :-19.000   Min.   :0.0000   Min.   :0.0000  \n",
       " 1st Qu.: -6.000   1st Qu.:0.0000   1st Qu.:0.0000  \n",
       " Median :  1.000   Median :0.6250   Median :1.0000  \n",
       " Mean   : -1.269   Mean   :0.5259   Mean   :0.5103  \n",
       " 3rd Qu.:  4.000   3rd Qu.:1.0000   3rd Qu.:1.0000  \n",
       " Max.   : 11.000   Max.   :1.0000   Max.   :1.0000  \n",
       "                                                    "
      ]
     },
     "metadata": {},
     "output_type": "display_data"
    }
   ],
   "source": [
    "summary(polling)"
   ]
  },
  {
   "cell_type": "markdown",
   "metadata": {
    "heading_collapsed": false,
    "level": 2
   },
   "source": [
    "## Dealing with missing values"
   ]
  },
  {
   "cell_type": "markdown",
   "metadata": {
    "level": 7
   },
   "source": [
    "There are missing values in the Rasmussen polling and SurveyUSA.\n",
    "\n",
    "We can't just remove all the observations involved because we would be throwing away more than 50% of our data.\n",
    "\n",
    "We can't also just remove the two variables involves because they bring a qualitative insight in our study compared to the other pollings we have.\n",
    "\n",
    "The best solution here would be applying Multiple Imputations, that is replacing the NA's by average values to respect the trend of the polling.\n",
    "\n",
    "We will use for that the MICE package (Multiple Imputations by Chained Equations) to put in place this mathematically sophisticated approach."
   ]
  },
  {
   "cell_type": "code",
   "execution_count": 20,
   "metadata": {
    "collapsed": false,
    "level": 7
   },
   "outputs": [
    {
     "name": "stderr",
     "output_type": "stream",
     "text": [
      "Loading required package: Rcpp\n",
      "mice 2.25 2015-11-09\n"
     ]
    }
   ],
   "source": [
    "library(mice)"
   ]
  },
  {
   "cell_type": "markdown",
   "metadata": {
    "level": 7
   },
   "source": [
    "We're going to limit our data frame to just\n",
    "the four polling related variables\n",
    "before we actually perform multiple imputation."
   ]
  },
  {
   "cell_type": "code",
   "execution_count": 22,
   "metadata": {
    "collapsed": false,
    "level": 7
   },
   "outputs": [
    {
     "data": {
      "text/plain": [
       "   Rasmussen          SurveyUSA            PropR          DiffCount      \n",
       " Min.   :-41.0000   Min.   :-33.0000   Min.   :0.0000   Min.   :-19.000  \n",
       " 1st Qu.: -8.0000   1st Qu.:-11.7500   1st Qu.:0.0000   1st Qu.: -6.000  \n",
       " Median :  1.0000   Median : -2.0000   Median :0.6250   Median :  1.000  \n",
       " Mean   :  0.0404   Mean   : -0.8243   Mean   :0.5259   Mean   : -1.269  \n",
       " 3rd Qu.:  8.5000   3rd Qu.:  8.0000   3rd Qu.:1.0000   3rd Qu.:  4.000  \n",
       " Max.   : 39.0000   Max.   : 30.0000   Max.   :1.0000   Max.   : 11.000  \n",
       " NA's   :46         NA's   :71                                           "
      ]
     },
     "metadata": {},
     "output_type": "display_data"
    }
   ],
   "source": [
    "simple <- polling[c(\"Rasmussen\", \"SurveyUSA\", \"PropR\", \"DiffCount\")]\n",
    "summary(simple)"
   ]
  },
  {
   "cell_type": "markdown",
   "metadata": {
    "level": 7
   },
   "source": [
    "The multiple imputation is a process that involves RNG, so let's set a seed."
   ]
  },
  {
   "cell_type": "code",
   "execution_count": 23,
   "metadata": {
    "collapsed": true,
    "level": 7
   },
   "outputs": [],
   "source": [
    "set.seed(144)"
   ]
  },
  {
   "cell_type": "code",
   "execution_count": 24,
   "metadata": {
    "collapsed": false,
    "level": 7
   },
   "outputs": [
    {
     "name": "stdout",
     "output_type": "stream",
     "text": [
      "\n",
      " iter imp variable\n",
      "  1   1  Rasmussen  SurveyUSA\n",
      "  1   2  Rasmussen  SurveyUSA\n",
      "  1   3  Rasmussen  SurveyUSA\n",
      "  1   4  Rasmussen  SurveyUSA\n",
      "  1   5  Rasmussen  SurveyUSA\n",
      "  2   1  Rasmussen  SurveyUSA\n",
      "  2   2  Rasmussen  SurveyUSA\n",
      "  2   3  Rasmussen  SurveyUSA\n",
      "  2   4  Rasmussen  SurveyUSA\n",
      "  2   5  Rasmussen  SurveyUSA\n",
      "  3   1  Rasmussen  SurveyUSA\n",
      "  3   2  Rasmussen  SurveyUSA\n",
      "  3   3  Rasmussen  SurveyUSA\n",
      "  3   4  Rasmussen  SurveyUSA\n",
      "  3   5  Rasmussen  SurveyUSA\n",
      "  4   1  Rasmussen  SurveyUSA\n",
      "  4   2  Rasmussen  SurveyUSA\n",
      "  4   3  Rasmussen  SurveyUSA\n",
      "  4   4  Rasmussen  SurveyUSA\n",
      "  4   5  Rasmussen  SurveyUSA\n",
      "  5   1  Rasmussen  SurveyUSA\n",
      "  5   2  Rasmussen  SurveyUSA\n",
      "  5   3  Rasmussen  SurveyUSA\n",
      "  5   4  Rasmussen  SurveyUSA\n",
      "  5   5  Rasmussen  SurveyUSA\n"
     ]
    }
   ],
   "source": [
    "imputed <- complete(mice(simple))"
   ]
  },
  {
   "cell_type": "markdown",
   "metadata": {
    "level": 7
   },
   "source": [
    "The output here shows us that five rounds of imputation have been run, and now all of the variables have been filled in."
   ]
  },
  {
   "cell_type": "code",
   "execution_count": 25,
   "metadata": {
    "collapsed": false,
    "level": 7
   },
   "outputs": [
    {
     "data": {
      "text/plain": [
       "   Rasmussen         SurveyUSA           PropR          DiffCount      \n",
       " Min.   :-41.000   Min.   :-33.000   Min.   :0.0000   Min.   :-19.000  \n",
       " 1st Qu.: -8.000   1st Qu.:-11.000   1st Qu.:0.0000   1st Qu.: -6.000  \n",
       " Median :  3.000   Median :  1.000   Median :0.6250   Median :  1.000  \n",
       " Mean   :  1.731   Mean   :  1.517   Mean   :0.5259   Mean   : -1.269  \n",
       " 3rd Qu.: 11.000   3rd Qu.: 18.000   3rd Qu.:1.0000   3rd Qu.:  4.000  \n",
       " Max.   : 39.000   Max.   : 30.000   Max.   :1.0000   Max.   : 11.000  "
      ]
     },
     "metadata": {},
     "output_type": "display_data"
    }
   ],
   "source": [
    "summary(imputed)"
   ]
  },
  {
   "cell_type": "markdown",
   "metadata": {
    "level": 7
   },
   "source": [
    "And we can also check here in the summary that there is no NA's anymore.\n",
    "\n"
   ]
  },
  {
   "cell_type": "markdown",
   "metadata": {
    "level": 7
   },
   "source": [
    "Let's now erase the previous pollings with the newly imputed ones."
   ]
  },
  {
   "cell_type": "code",
   "execution_count": 26,
   "metadata": {
    "collapsed": false,
    "level": 7
   },
   "outputs": [
    {
     "data": {
      "text/plain": [
       "         State          Year        Rasmussen         SurveyUSA      \n",
       " Arizona    :  3   Min.   :2004   Min.   :-41.000   Min.   :-33.000  \n",
       " Arkansas   :  3   1st Qu.:2004   1st Qu.: -8.000   1st Qu.:-11.000  \n",
       " California :  3   Median :2008   Median :  3.000   Median :  1.000  \n",
       " Colorado   :  3   Mean   :2008   Mean   :  1.731   Mean   :  1.517  \n",
       " Connecticut:  3   3rd Qu.:2012   3rd Qu.: 11.000   3rd Qu.: 18.000  \n",
       " Florida    :  3   Max.   :2012   Max.   : 39.000   Max.   : 30.000  \n",
       " (Other)    :127                                                     \n",
       "   DiffCount           PropR          Republican    \n",
       " Min.   :-19.000   Min.   :0.0000   Min.   :0.0000  \n",
       " 1st Qu.: -6.000   1st Qu.:0.0000   1st Qu.:0.0000  \n",
       " Median :  1.000   Median :0.6250   Median :1.0000  \n",
       " Mean   : -1.269   Mean   :0.5259   Mean   :0.5103  \n",
       " 3rd Qu.:  4.000   3rd Qu.:1.0000   3rd Qu.:1.0000  \n",
       " Max.   : 11.000   Max.   :1.0000   Max.   :1.0000  \n",
       "                                                    "
      ]
     },
     "metadata": {},
     "output_type": "display_data"
    }
   ],
   "source": [
    "polling$Rasmussen <- imputed$Rasmussen\n",
    "polling$SurveyUSA <- imputed$SurveyUSA\n",
    "summary(polling)"
   ]
  },
  {
   "cell_type": "markdown",
   "metadata": {
    "heading_collapsed": false,
    "level": 2
   },
   "source": [
    "## A Sophisticated Baseline Method"
   ]
  },
  {
   "cell_type": "markdown",
   "metadata": {
    "level": 7
   },
   "source": [
    "We can now start building models !\n",
    "\n",
    "The first thing we're going to do is split our data into a training and a testing set.\n",
    "\n",
    "For this problem, we are going to train on data from the 2004 and 2008 elections,\n",
    "and we are going to test on data from the 2012 presidential election."
   ]
  },
  {
   "cell_type": "code",
   "execution_count": 29,
   "metadata": {
    "collapsed": false,
    "level": 7
   },
   "outputs": [],
   "source": [
    "Train <- subset(polling, Year == 2004 | Year == 2008)\n",
    "Test <- subset(polling, Year == 2012)"
   ]
  },
  {
   "cell_type": "markdown",
   "metadata": {
    "level": 7
   },
   "source": [
    "Let's build now a baseline model based on the breakdown of the dependant variable."
   ]
  },
  {
   "cell_type": "code",
   "execution_count": 30,
   "metadata": {
    "collapsed": false,
    "level": 7
   },
   "outputs": [
    {
     "data": {
      "text/plain": [
       "\n",
       " 0  1 \n",
       "47 53 "
      ]
     },
     "metadata": {},
     "output_type": "display_data"
    }
   ],
   "source": [
    "table(Train$Republican)"
   ]
  },
  {
   "cell_type": "markdown",
   "metadata": {
    "level": 7
   },
   "source": [
    "What we can see here is that in 47 of the 100 training\n",
    "observations, the Democrat won the state,\n",
    "and in 53 of the observations, the Republican won the state.\n",
    "\n",
    "So our simple baseline model is always\n",
    "going to predict the more common outcome, which\n",
    "is that the Republican is going to win the state.\n",
    "And we see that the simple baseline model\n",
    "will have accuracy of 53% on the training set.\n",
    "\n",
    "But this is a pretty weak model.\n",
    "\n",
    "We will build a smarter baseline model based upon the Rasmussen polling winner.\n",
    "\n",
    "For that, we will use the sign function."
   ]
  },
  {
   "cell_type": "code",
   "execution_count": 36,
   "metadata": {
    "collapsed": false,
    "level": 7
   },
   "outputs": [
    {
     "data": {
      "text/html": [
       "1"
      ],
      "text/latex": [
       "1"
      ],
      "text/markdown": [
       "1"
      ],
      "text/plain": [
       "[1] 1"
      ]
     },
     "metadata": {},
     "output_type": "display_data"
    },
    {
     "data": {
      "text/html": [
       "-1"
      ],
      "text/latex": [
       "-1"
      ],
      "text/markdown": [
       "-1"
      ],
      "text/plain": [
       "[1] -1"
      ]
     },
     "metadata": {},
     "output_type": "display_data"
    },
    {
     "data": {
      "text/html": [
       "0"
      ],
      "text/latex": [
       "0"
      ],
      "text/markdown": [
       "0"
      ],
      "text/plain": [
       "[1] 0"
      ]
     },
     "metadata": {},
     "output_type": "display_data"
    },
    {
     "data": {
      "image/png": "[encoded data removed]",
      "text/plain": [
       "plot without title"
      ]
     },
     "metadata": {},
     "output_type": "display_data"
    }
   ],
   "source": [
    "sign(20)\n",
    "sign(-10)\n",
    "sign(0)\n",
    "curve(sign, from=-10, to=10, col=\"red\")"
   ]
  },
  {
   "cell_type": "code",
   "execution_count": 37,
   "metadata": {
    "collapsed": false,
    "level": 7
   },
   "outputs": [
    {
     "data": {
      "text/plain": [
       "\n",
       "-41 -28 -27 -24 -23 -22 -20 -19 -17 -15 -13 -12 -11 -10  -8  -7  -6  -5  -4  -3 \n",
       "  1   1   1   3   1   2   1   1   2   4   1   3   3   2   3   3   1   1   3   1 \n",
       " -2  -1   0   1   2   3   4   5   6   7   8   9  10  11  12  13  14  16  19  21 \n",
       "  2   2   3   2   2   2   3   6   4   1   1   2   6   2   6   3   1   4   5   1 \n",
       " 31  32  34  39 \n",
       "  1   1   1   1 "
      ]
     },
     "metadata": {},
     "output_type": "display_data"
    }
   ],
   "source": []
  },
  {
   "cell_type": "markdown",
   "metadata": {
    "level": 7
   },
   "source": [
    "Let's take a look at the breakdown of that poll."
   ]
  },
  {
   "cell_type": "code",
   "execution_count": 38,
   "metadata": {
    "collapsed": false,
    "level": 7
   },
   "outputs": [
    {
     "data": {
      "text/plain": [
       "\n",
       "-1  0  1 \n",
       "42  3 55 "
      ]
     },
     "metadata": {},
     "output_type": "display_data"
    }
   ],
   "source": [
    "table(sign(Train$Rasmussen))"
   ]
  },
  {
   "cell_type": "markdown",
   "metadata": {
    "level": 7
   },
   "source": [
    "What we can see is that in 56 of the 100 training set\n",
    "observations, the smart baseline predicted\n",
    "that the Republican was going to win.\n",
    "\n",
    "In 42 instances, it predicted the Democrat.\n",
    "\n",
    "And in two instances, it was inconclusive."
   ]
  },
  {
   "cell_type": "markdown",
   "metadata": {
    "level": 7
   },
   "source": [
    "Let's compare this baseline model to the actual result (who won the elections)."
   ]
  },
  {
   "cell_type": "code",
   "execution_count": 39,
   "metadata": {
    "collapsed": false,
    "level": 7
   },
   "outputs": [
    {
     "data": {
      "text/plain": [
       "   \n",
       "    -1  0  1\n",
       "  0 42  2  3\n",
       "  1  0  1 52"
      ]
     },
     "metadata": {},
     "output_type": "display_data"
    }
   ],
   "source": [
    "table(Train$Republican, sign(Train$Rasmussen))"
   ]
  },
  {
   "cell_type": "markdown",
   "metadata": {
    "level": 7
   },
   "source": [
    "We have 42 observations where the Rasmussen smart baseline predicted the Democrat would win, and the Democrat actually did win.\n",
    "\n",
    "There were 52 observations where the smart baseline predicted the Republican would win, and the Republican actually did win.\n",
    "\n",
    "And finally, there were four mistakes. There were four times where the smart baseline model predicted.\n",
    "\n",
    "This is a much more reasonable baseline than the one who always predicts a Republican success."
   ]
  },
  {
   "cell_type": "markdown",
   "metadata": {
    "heading_collapsed": false,
    "level": 2
   },
   "source": [
    "## Logistic Regression Models"
   ]
  },
  {
   "cell_type": "markdown",
   "metadata": {
    "level": 7
   },
   "source": [
    "Before really starting the modelization process, we should consider the possibility that there could be multicolinearity.\n",
    "\n",
    "It is indeed normal to suspect this because we are basing our models on variables that aims to measure the same thing (the performance of candidates in particular states).\n",
    "\n",
    "Let's look at the correlation of the training set."
   ]
  },
  {
   "cell_type": "code",
   "execution_count": 40,
   "metadata": {
    "collapsed": false,
    "level": 7
   },
   "outputs": [
    {
     "ename": "ERROR",
     "evalue": "Error in cor(Train): 'x' must be numeric\n",
     "output_type": "error",
     "traceback": [
      "Error in cor(Train): 'x' must be numeric\nTraceback:\n",
      "1. cor(Train)",
      "2. stop(\"'x' must be numeric\")"
     ]
    }
   ],
   "source": [
    "cor(Train)"
   ]
  },
  {
   "cell_type": "markdown",
   "metadata": {
    "level": 7
   },
   "source": [
    "Hm. Error in cor(Train): 'x' must be numeric.\n",
    "\n",
    "Let's look at the structure of our data."
   ]
  },
  {
   "cell_type": "code",
   "execution_count": 41,
   "metadata": {
    "collapsed": false,
    "level": 7
   },
   "outputs": [
    {
     "name": "stdout",
     "output_type": "stream",
     "text": [
      "'data.frame':\t100 obs. of  7 variables:\n",
      " $ State     : Factor w/ 50 levels \"Alabama\",\"Alaska\",..: 1 1 2 2 3 3 4 4 5 5 ...\n",
      " $ Year      : int  2004 2008 2004 2008 2004 2008 2004 2008 2004 2008 ...\n",
      " $ Rasmussen : int  11 21 16 16 5 5 7 10 -11 -27 ...\n",
      " $ SurveyUSA : int  18 25 21 21 15 8 5 9 -11 -24 ...\n",
      " $ DiffCount : int  5 5 1 6 8 9 8 5 -8 -5 ...\n",
      " $ PropR     : num  1 1 1 1 1 1 1 1 0 0 ...\n",
      " $ Republican: int  1 1 1 1 1 1 1 1 0 0 ...\n"
     ]
    }
   ],
   "source": [
    "str(Train)"
   ]
  },
  {
   "cell_type": "markdown",
   "metadata": {
    "level": 7
   },
   "source": [
    "There it is. The name of the states are not numerical values."
   ]
  },
  {
   "cell_type": "code",
   "execution_count": 44,
   "metadata": {
    "collapsed": false,
    "level": 7
   },
   "outputs": [
    {
     "name": "stdout",
     "output_type": "stream",
     "text": [
      "'data.frame':\t100 obs. of  5 variables:\n",
      " $ Rasmussen : int  11 21 16 16 5 5 7 10 -11 -27 ...\n",
      " $ SurveyUSA : int  18 25 21 21 15 8 5 9 -11 -24 ...\n",
      " $ PropR     : num  1 1 1 1 1 1 1 1 0 0 ...\n",
      " $ DiffCount : int  5 5 1 6 8 9 8 5 -8 -5 ...\n",
      " $ Republican: int  1 1 1 1 1 1 1 1 0 0 ...\n"
     ]
    }
   ],
   "source": [
    "str(Train[c(\"Rasmussen\", \"SurveyUSA\", \"PropR\", \"DiffCount\", \"Republican\")])"
   ]
  },
  {
   "cell_type": "code",
   "execution_count": 59,
   "metadata": {
    "collapsed": false,
    "level": 7
   },
   "outputs": [
    {
     "data": {
      "text/html": [
       "<table>\n",
       "<thead><tr><th></th><th scope=col>Rasmussen</th><th scope=col>SurveyUSA</th><th scope=col>PropR</th><th scope=col>DiffCount</th><th scope=col>Republican</th></tr></thead>\n",
       "<tbody>\n",
       "\t<tr><th scope=row>Rasmussen</th><td>1.0000000</td><td>0.9194508</td><td>0.8404803</td><td>0.5124098</td><td>0.8021191</td></tr>\n",
       "\t<tr><th scope=row>SurveyUSA</th><td>0.9194508</td><td>1.0000000</td><td>0.8756581</td><td>0.5541816</td><td>0.8205806</td></tr>\n",
       "\t<tr><th scope=row>PropR</th><td>0.8404803</td><td>0.8756581</td><td>1.0000000</td><td>0.8273785</td><td>0.9484204</td></tr>\n",
       "\t<tr><th scope=row>DiffCount</th><td>0.5124098</td><td>0.5541816</td><td>0.8273785</td><td>1.0000000</td><td>0.8092777</td></tr>\n",
       "\t<tr><th scope=row>Republican</th><td>0.8021191</td><td>0.8205806</td><td>0.9484204</td><td>0.8092777</td><td>1.0000000</td></tr>\n",
       "</tbody>\n",
       "</table>\n"
      ],
      "text/latex": [
       "\\begin{tabular}{r|lllll}\n",
       "  & Rasmussen & SurveyUSA & PropR & DiffCount & Republican\\\\\n",
       "\\hline\n",
       "\tRasmussen & 1.0000000 & 0.9194508 & 0.8404803 & 0.5124098 & 0.8021191\\\\\n",
       "\tSurveyUSA & 0.9194508 & 1.0000000 & 0.8756581 & 0.5541816 & 0.8205806\\\\\n",
       "\tPropR & 0.8404803 & 0.8756581 & 1.0000000 & 0.8273785 & 0.9484204\\\\\n",
       "\tDiffCount & 0.5124098 & 0.5541816 & 0.8273785 & 1.0000000 & 0.8092777\\\\\n",
       "\tRepublican & 0.8021191 & 0.8205806 & 0.9484204 & 0.8092777 & 1.0000000\\\\\n",
       "\\end{tabular}\n"
      ],
      "text/markdown": [
       "1. 1\n",
       "2. 0.91945075190982\n",
       "3. 0.840480345285497\n",
       "4. 0.512409808708275\n",
       "5. 0.802119137367721\n",
       "6. 0.91945075190982\n",
       "7. 1\n",
       "8. 0.875658140838957\n",
       "9. 0.554181630161722\n",
       "10. 0.820580619679879\n",
       "11. 0.840480345285497\n",
       "12. 0.875658140838957\n",
       "13. 1\n",
       "14. 0.827378535331159\n",
       "15. 0.948420429973127\n",
       "16. 0.512409808708275\n",
       "17. 0.554181630161722\n",
       "18. 0.827378535331159\n",
       "19. 1\n",
       "20. 0.80927770437412\n",
       "21. 0.802119137367721\n",
       "22. 0.820580619679879\n",
       "23. 0.948420429973127\n",
       "24. 0.80927770437412\n",
       "25. 1\n",
       "\n",
       "\n"
      ],
      "text/plain": [
       "           Rasmussen SurveyUSA     PropR DiffCount Republican\n",
       "Rasmussen  1.0000000 0.9194508 0.8404803 0.5124098  0.8021191\n",
       "SurveyUSA  0.9194508 1.0000000 0.8756581 0.5541816  0.8205806\n",
       "PropR      0.8404803 0.8756581 1.0000000 0.8273785  0.9484204\n",
       "DiffCount  0.5124098 0.5541816 0.8273785 1.0000000  0.8092777\n",
       "Republican 0.8021191 0.8205806 0.9484204 0.8092777  1.0000000"
      ]
     },
     "metadata": {},
     "output_type": "display_data"
    }
   ],
   "source": [
    "cor(Train[c(\"Rasmussen\", \"SurveyUSA\", \"PropR\", \"DiffCount\", \"Republican\")])"
   ]
  },
  {
   "cell_type": "markdown",
   "metadata": {
    "level": 7
   },
   "source": [
    "We can see that some of the variables are highly correlated, like Rasmussen and SurveyUSA.\n",
    "\n",
    "Let's first try something simple, like a one-model logistic regression.\n",
    "\n",
    "The highest correlated variable to the outcome (Republican) is PropR."
   ]
  },
  {
   "cell_type": "code",
   "execution_count": 46,
   "metadata": {
    "collapsed": true,
    "level": 7
   },
   "outputs": [],
   "source": [
    "mod1 <- glm(Republican ~ PropR, data=Train, family=binomial)"
   ]
  },
  {
   "cell_type": "code",
   "execution_count": 48,
   "metadata": {
    "collapsed": false,
    "level": 7
   },
   "outputs": [
    {
     "data": {
      "text/plain": [
       "\n",
       "Call:\n",
       "glm(formula = Republican ~ PropR, family = binomial, data = Train)\n",
       "\n",
       "Deviance Residuals: \n",
       "     Min        1Q    Median        3Q       Max  \n",
       "-2.22880  -0.06541   0.10260   0.10260   1.37392  \n",
       "\n",
       "Coefficients:\n",
       "            Estimate Std. Error z value Pr(>|z|)    \n",
       "(Intercept)   -6.146      1.977  -3.108 0.001882 ** \n",
       "PropR         11.390      3.153   3.613 0.000303 ***\n",
       "---\n",
       "Signif. codes:  0 '***' 0.001 '**' 0.01 '*' 0.05 '.' 0.1 ' ' 1\n",
       "\n",
       "(Dispersion parameter for binomial family taken to be 1)\n",
       "\n",
       "    Null deviance: 138.269  on 99  degrees of freedom\n",
       "Residual deviance:  15.772  on 98  degrees of freedom\n",
       "AIC: 19.772\n",
       "\n",
       "Number of Fisher Scoring iterations: 8\n"
      ]
     },
     "metadata": {},
     "output_type": "display_data"
    }
   ],
   "source": [
    "summary(mod1)"
   ]
  },
  {
   "cell_type": "markdown",
   "metadata": {
    "level": 7
   },
   "source": [
    "For this variable,\n",
    "\n",
    "- the coefficients are positive,\n",
    "- we have a lot of stars,\n",
    "- the AIC is pretty strong.\n",
    "\n",
    "Let's try this model at prediction."
   ]
  },
  {
   "cell_type": "code",
   "execution_count": 50,
   "metadata": {
    "collapsed": true,
    "level": 7
   },
   "outputs": [],
   "source": [
    "pred1 <- predict(mod1, type=\"response\")  # we first make predictions on the training set"
   ]
  },
  {
   "cell_type": "code",
   "execution_count": 51,
   "metadata": {
    "collapsed": true,
    "level": 7
   },
   "outputs": [],
   "source": [
    "thresh <- .5"
   ]
  },
  {
   "cell_type": "code",
   "execution_count": 52,
   "metadata": {
    "collapsed": false,
    "level": 7
   },
   "outputs": [
    {
     "data": {
      "text/plain": [
       "   \n",
       "    FALSE TRUE\n",
       "  0    45    2\n",
       "  1     2   51"
      ]
     },
     "metadata": {},
     "output_type": "display_data"
    }
   ],
   "source": [
    "table(Train$Republican, pred1 >= thresh)"
   ]
  },
  {
   "cell_type": "markdown",
   "metadata": {
    "level": 7
   },
   "source": [
    "Let's try now to add another variable to our model.\n",
    "\n",
    "For example, there is Rasmussen and DiffCount or SurveyUSA and DiffCount that shows a minimal intercorrelation."
   ]
  },
  {
   "cell_type": "code",
   "execution_count": 61,
   "metadata": {
    "collapsed": false,
    "level": 7
   },
   "outputs": [
    {
     "data": {
      "text/html": [
       "<dl class=dl-horizontal>\n",
       "\t<dt>Rasmussen</dt>\n",
       "\t\t<dd>0.512409808708275</dd>\n",
       "\t<dt>SurveyUSA</dt>\n",
       "\t\t<dd>0.554181630161722</dd>\n",
       "\t<dt>PropR</dt>\n",
       "\t\t<dd>0.827378535331159</dd>\n",
       "\t<dt>DiffCount</dt>\n",
       "\t\t<dd>1</dd>\n",
       "\t<dt>Republican</dt>\n",
       "\t\t<dd>0.80927770437412</dd>\n",
       "</dl>\n"
      ],
      "text/latex": [
       "\\begin{description*}\n",
       "\\item[Rasmussen] 0.512409808708275\n",
       "\\item[SurveyUSA] 0.554181630161722\n",
       "\\item[PropR] 0.827378535331159\n",
       "\\item[DiffCount] 1\n",
       "\\item[Republican] 0.80927770437412\n",
       "\\end{description*}\n"
      ],
      "text/markdown": [
       "Rasmussen\n",
       ":   0.512409808708275SurveyUSA\n",
       ":   0.554181630161722PropR\n",
       ":   0.827378535331159DiffCount\n",
       ":   1Republican\n",
       ":   0.80927770437412\n",
       "\n"
      ],
      "text/plain": [
       " Rasmussen  SurveyUSA      PropR  DiffCount Republican \n",
       " 0.5124098  0.5541816  0.8273785  1.0000000  0.8092777 "
      ]
     },
     "metadata": {},
     "output_type": "display_data"
    }
   ],
   "source": [
    "cor(Train[c(\"Rasmussen\", \"SurveyUSA\", \"PropR\", \"DiffCount\", \"Republican\")])[,\"DiffCount\"]"
   ]
  },
  {
   "cell_type": "markdown",
   "metadata": {
    "level": 7
   },
   "source": [
    "Let's try with SurveyUSA and DiffCount."
   ]
  },
  {
   "cell_type": "code",
   "execution_count": 62,
   "metadata": {
    "collapsed": true,
    "level": 7
   },
   "outputs": [],
   "source": [
    "mod2 <- glm(Republican ~ SurveyUSA + DiffCount, data=Train, family=binomial)"
   ]
  },
  {
   "cell_type": "code",
   "execution_count": 63,
   "metadata": {
    "collapsed": true,
    "level": 7
   },
   "outputs": [],
   "source": [
    "pred2 <- predict(mod2, type=\"response\")"
   ]
  },
  {
   "cell_type": "code",
   "execution_count": 64,
   "metadata": {
    "collapsed": false,
    "level": 7
   },
   "outputs": [
    {
     "data": {
      "text/plain": [
       "   \n",
       "    FALSE TRUE\n",
       "  0    45    2\n",
       "  1     1   52"
      ]
     },
     "metadata": {},
     "output_type": "display_data"
    }
   ],
   "source": [
    "table(Train$Republican, pred2 >= thresh)"
   ]
  },
  {
   "cell_type": "markdown",
   "metadata": {
    "level": 7
   },
   "source": [
    "We made one less mistake (3 instead of 4). It's a little better but not too impressive.\n",
    "\n",
    "Let's check the summary for a better insight."
   ]
  },
  {
   "cell_type": "code",
   "execution_count": 66,
   "metadata": {
    "collapsed": false,
    "level": 7
   },
   "outputs": [
    {
     "data": {
      "text/plain": [
       "\n",
       "Call:\n",
       "glm(formula = Republican ~ SurveyUSA + DiffCount, family = binomial, \n",
       "    data = Train)\n",
       "\n",
       "Deviance Residuals: \n",
       "     Min        1Q    Median        3Q       Max  \n",
       "-2.01196  -0.00698   0.01005   0.05074   1.54975  \n",
       "\n",
       "Coefficients:\n",
       "            Estimate Std. Error z value Pr(>|z|)  \n",
       "(Intercept)  -1.1405     1.2456  -0.916   0.3599  \n",
       "SurveyUSA     0.2976     0.1949   1.527   0.1267  \n",
       "DiffCount     0.7673     0.4188   1.832   0.0669 .\n",
       "---\n",
       "Signif. codes:  0 '***' 0.001 '**' 0.01 '*' 0.05 '.' 0.1 ' ' 1\n",
       "\n",
       "(Dispersion parameter for binomial family taken to be 1)\n",
       "\n",
       "    Null deviance: 138.269  on 99  degrees of freedom\n",
       "Residual deviance:  12.439  on 97  degrees of freedom\n",
       "AIC: 18.439\n",
       "\n",
       "Number of Fisher Scoring iterations: 10\n"
      ]
     },
     "metadata": {},
     "output_type": "display_data"
    }
   ],
   "source": [
    "summary(mod2)"
   ]
  },
  {
   "cell_type": "markdown",
   "metadata": {
    "level": 7
   },
   "source": [
    "We can see here that \n",
    "\n",
    "- the AIC has a smaller value thats suggests a stronger model,\n",
    "- the two independants variables have positive coefficients,\n",
    "- but neither of theses variables have much significance (1 star).\n",
    "\n",
    "There are some strengths and weaknesses here, let's see now on the testing set."
   ]
  },
  {
   "cell_type": "markdown",
   "metadata": {
    "heading_collapsed": false,
    "level": 2
   },
   "source": [
    "## Test set predictions"
   ]
  },
  {
   "cell_type": "markdown",
   "metadata": {
    "level": 7
   },
   "source": [
    "Let's check the outcome of the baseline model on the testing set."
   ]
  },
  {
   "cell_type": "code",
   "execution_count": 68,
   "metadata": {
    "collapsed": false,
    "level": 7
   },
   "outputs": [
    {
     "data": {
      "text/plain": [
       "   \n",
       "    -1  0  1\n",
       "  0 18  2  4\n",
       "  1  0  0 21"
      ]
     },
     "metadata": {},
     "output_type": "display_data"
    }
   ],
   "source": [
    "table(Test$Republican, sign(Test$Rasmussen))"
   ]
  },
  {
   "cell_type": "markdown",
   "metadata": {
    "level": 7
   },
   "source": [
    "There are \n",
    "\n",
    "- 18 times where the smart baseline predicted that the Democrat would win and it's correct,\n",
    "- 21 where it predicted the Republican would win and was correct,\n",
    "- two times when it was inconclusive,\n",
    "- and four times where it predicted Republican but the Democrat actually won.\n",
    "\n",
    "So that's four mistakes and two inconclusive results on the testing set.\n",
    "\n",
    "We will compare this performance to our Logistic Regression model mod2."
   ]
  },
  {
   "cell_type": "code",
   "execution_count": 69,
   "metadata": {
    "collapsed": true,
    "level": 7
   },
   "outputs": [],
   "source": [
    "TestPrediction <- predict(mod2, newdata=Test, family=\"response\")"
   ]
  },
  {
   "cell_type": "code",
   "execution_count": 70,
   "metadata": {
    "collapsed": false,
    "level": 7
   },
   "outputs": [
    {
     "data": {
      "text/plain": [
       "   \n",
       "    FALSE TRUE\n",
       "  0    23    1\n",
       "  1     0   21"
      ]
     },
     "metadata": {},
     "output_type": "display_data"
    }
   ],
   "source": [
    "table(Test$Republican, TestPrediction > thresh)"
   ]
  },
  {
   "cell_type": "markdown",
   "metadata": {
    "level": 7
   },
   "source": [
    "Yay, we were correct for all but one observation."
   ]
  },
  {
   "cell_type": "markdown",
   "metadata": {
    "level": 7
   },
   "source": [
    "We could change the thresh value for something different than 0.5 using a ROC curve, but that does not make any sense since we want to predict the outcome of an election. So we are okay with the cutoff setting.\n",
    "\n",
    "Since we made 1 mistake, it could be interesting to check on that one and try to understand what happened here. Let's extract this one were we predicted a victory of a Republican and a Democrat won."
   ]
  },
  {
   "cell_type": "code",
   "execution_count": 72,
   "metadata": {
    "collapsed": false,
    "level": 7
   },
   "outputs": [
    {
     "name": "stdout",
     "output_type": "stream",
     "text": [
      "     State Year Rasmussen SurveyUSA DiffCount     PropR Republican\n",
      "24 Florida 2012         2         0         6 0.6666667          0\n"
     ]
    }
   ],
   "source": [
    "mistake <- subset(Test, TestPrediction > thresh & Republican == 0)\n",
    "print(mistake)"
   ]
  },
  {
   "cell_type": "markdown",
   "metadata": {
    "level": 7
   },
   "source": [
    "So, \n",
    "\n",
    "- the Rasmussen poll gave the Republican a two percentage point lead, which is not that big,\n",
    "- SurveyUSA called a tie,\n",
    "- DiffCount said there were only six more polls that predicted Republican than Democrat,\n",
    "\n",
    "Eventually, two thirds of the polls predicted the Republican was going to win. But actually in this case, the Republican didn't win.\n",
    "\n",
    "Barack Obama won the state of Florida in 2012 over Mitt Romney."
   ]
  }
 ],
 "metadata": {
  "anaconda-cloud": {},
  "kernelspec": {
   "display_name": "R",
   "language": "R",
   "name": "ir"
  },
  "language_info": {
   "codemirror_mode": "r",
   "file_extension": ".r",
   "mimetype": "text/x-r-source",
   "name": "R",
   "pygments_lexer": "r",
   "version": "3.3.1"
  },
  "latex_envs": {
   "bibliofile": "biblio.bib",
   "cite_by": "apalike",
   "current_citInitial": 1,
   "eqLabelWithNumbers": true,
   "eqNumInitial": 0
  },
  "toc": {
   "toc_cell": true,
   "toc_number_sections": true,
   "toc_threshold": 6,
   "toc_window_display": false
  }
 },
 "nbformat": 4,
 "nbformat_minor": 1
}
