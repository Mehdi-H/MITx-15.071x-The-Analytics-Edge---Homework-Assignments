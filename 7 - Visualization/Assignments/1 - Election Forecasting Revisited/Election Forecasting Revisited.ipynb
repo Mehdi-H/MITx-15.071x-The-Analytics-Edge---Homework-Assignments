{
 "cells": [
  {
   "cell_type": "markdown",
   "metadata": {
    "heading_collapsed": false,
    "level": 7,
    "toc": "true"
   },
   "source": [
    "# Table of Contents\n",
    " <p><div class=\"lev1\"><a href=\"#ELECTION-FORECASTING-REVISITED\"><span class=\"toc-item-num\">1&nbsp;&nbsp;</span>ELECTION FORECASTING REVISITED</a></div><div class=\"lev2\"><a href=\"#Problem-1.1---Drawing-a-Map-of-the-US\"><span class=\"toc-item-num\">1.1&nbsp;&nbsp;</span>Problem 1.1 - Drawing a Map of the US</a></div><div class=\"lev2\"><a href=\"#Problem-1.2---Drawing-a-Map-of-the-US\"><span class=\"toc-item-num\">1.2&nbsp;&nbsp;</span>Problem 1.2 - Drawing a Map of the US</a></div><div class=\"lev1\"><a href=\"#Problem-2---Coloring-the-States-by-Predictions\"><span class=\"toc-item-num\">2&nbsp;&nbsp;</span>Problem 2 - Coloring the States by Predictions</a></div><div class=\"lev2\"><a href=\"#Problem-2.1---Coloring-the-States-by-Predictions\"><span class=\"toc-item-num\">2.1&nbsp;&nbsp;</span>Problem 2.1 - Coloring the States by Predictions</a></div><div class=\"lev2\"><a href=\"#Problem-2.2---Coloring-the-States-by-Predictions\"><span class=\"toc-item-num\">2.2&nbsp;&nbsp;</span>Problem 2.2 - Coloring the States by Predictions</a></div><div class=\"lev2\"><a href=\"#Problem-2.3---Coloring-the-States-by-Predictions\"><span class=\"toc-item-num\">2.3&nbsp;&nbsp;</span>Problem 2.3 - Coloring the States by Predictions</a></div><div class=\"lev3\"><a href=\"#Explanation\"><span class=\"toc-item-num\">2.3.1&nbsp;&nbsp;</span>Explanation</a></div><div class=\"lev2\"><a href=\"#Problem-2.4---Coloring-the-States-by-Predictions\"><span class=\"toc-item-num\">2.4&nbsp;&nbsp;</span>Problem 2.4 - Coloring the States by Predictions</a></div><div class=\"lev2\"><a href=\"#Problem-2.5---Coloring-the-States-by-Predictions\"><span class=\"toc-item-num\">2.5&nbsp;&nbsp;</span>Problem 2.5 - Coloring the States by Predictions</a></div><div class=\"lev1\"><a href=\"#Problem-3\"><span class=\"toc-item-num\">3&nbsp;&nbsp;</span>Problem 3</a></div><div class=\"lev2\"><a href=\"#Problem-3.1---Understanding-the-Predictions\"><span class=\"toc-item-num\">3.1&nbsp;&nbsp;</span>Problem 3.1 - Understanding the Predictions</a></div><div class=\"lev2\"><a href=\"#Problem-3.2---Understanding-the-Predictions\"><span class=\"toc-item-num\">3.2&nbsp;&nbsp;</span>Problem 3.2 - Understanding the Predictions</a></div><div class=\"lev1\"><a href=\"#Problem-4---Parameters-settings\"><span class=\"toc-item-num\">4&nbsp;&nbsp;</span>Problem 4 - Parameters settings</a></div><div class=\"lev2\"><a href=\"#Problem-4.2---Parameter-Settings\"><span class=\"toc-item-num\">4.1&nbsp;&nbsp;</span>Problem 4.2 - Parameter Settings</a></div>"
   ]
  },
  {
   "cell_type": "markdown",
   "metadata": {
    "level": 7
   },
   "source": [
    "ELECTION FORECASTING REVISITED\n",
    "===============================\n",
    "\n",
    "In the recitation from Unit 3, we used logistic regression on polling data in order to construct US presidential election predictions. We separated our data into a training set, containing data from 2004 and 2008 polls, and a test set, containing the data from 2012 polls. We then proceeded to develop a logistic regression model to forecast the 2012 US presidential election.\n",
    "\n",
    "In this homework problem, we'll revisit our logistic regression model from Unit 3, and learn how to plot the output on a map of the United States. Unlike what we did in the Crime lecture, this time we'll be plotting predictions rather than data!\n",
    "\n",
    "First, load the ggplot2, maps, and ggmap packages using the library function. All three packages should be installed on your computer from lecture, but if not, you may need to install them too using the install.packages function.\n",
    "\n",
    "Then, load the US map and save it to the variable statesMap, like we did during the Crime lecture:\n",
    "\n",
    "statesMap = map_data(\"state\")\n",
    "\n",
    "The maps package contains other built-in maps, including a US county map, a world map, and maps for France and Italy."
   ]
  },
  {
   "cell_type": "code",
   "execution_count": 1,
   "metadata": {
    "collapsed": true
   },
   "outputs": [],
   "source": [
    "library(ggplot2)\n",
    "library(maps)\n",
    "library(ggmap)"
   ]
  },
  {
   "cell_type": "code",
   "execution_count": 2,
   "metadata": {
    "collapsed": true
   },
   "outputs": [],
   "source": [
    "statesMap = map_data(\"state\")"
   ]
  },
  {
   "cell_type": "markdown",
   "metadata": {
    "heading_collapsed": false,
    "level": 2
   },
   "source": [
    "## Problem 1.1 - Drawing a Map of the US\n",
    "\n",
    "If you look at the structure of the statesMap data frame using the str function, you should see that there are 6 variables. One of the variables, group, defines the different shapes or polygons on the map. Sometimes a state may have multiple groups, for example, if it includes islands. How many different groups are there?\n",
    "\n",
    "The variable \"order\" defines the order to connect the points within each group, and the variable \"region\" gives the name of the state."
   ]
  },
  {
   "cell_type": "code",
   "execution_count": 3,
   "metadata": {
    "collapsed": false
   },
   "outputs": [
    {
     "name": "stdout",
     "output_type": "stream",
     "text": [
      "'data.frame':\t15537 obs. of  6 variables:\n",
      " $ long     : num  -87.5 -87.5 -87.5 -87.5 -87.6 ...\n",
      " $ lat      : num  30.4 30.4 30.4 30.3 30.3 ...\n",
      " $ group    : num  1 1 1 1 1 1 1 1 1 1 ...\n",
      " $ order    : int  1 2 3 4 5 6 7 8 9 10 ...\n",
      " $ region   : chr  \"alabama\" \"alabama\" \"alabama\" \"alabama\" ...\n",
      " $ subregion: chr  NA NA NA NA ...\n"
     ]
    }
   ],
   "source": [
    "str(statesMap)"
   ]
  },
  {
   "cell_type": "code",
   "execution_count": 5,
   "metadata": {
    "collapsed": false
   },
   "outputs": [
    {
     "data": {
      "text/html": [
       "63"
      ],
      "text/latex": [
       "63"
      ],
      "text/markdown": [
       "63"
      ],
      "text/plain": [
       "[1] 63"
      ]
     },
     "metadata": {},
     "output_type": "display_data"
    }
   ],
   "source": [
    "length(table(statesMap$group))"
   ]
  },
  {
   "cell_type": "markdown",
   "metadata": {
    "heading_collapsed": false,
    "level": 2
   },
   "source": [
    "## Problem 1.2 - Drawing a Map of the US\n",
    "\n",
    "You can draw a map of the United States by typing the following in your R console:\n",
    "\n",
    "ggplot(statesMap, aes(x = long, y = lat, group = group)) + geom_polygon(fill = \"white\", color = \"black\")"
   ]
  },
  {
   "cell_type": "code",
   "execution_count": 9,
   "metadata": {
    "collapsed": false
   },
   "outputs": [
    {
     "data": {},
     "metadata": {},
     "output_type": "display_data"
    },
    {
     "data": {
      "image/png": "[encoded data removed]",
      "text/plain": [
       "plot without title"
      ]
     },
     "metadata": {},
     "output_type": "display_data"
    }
   ],
   "source": [
    "ggplot(statesMap, aes(x=long, y=lat, group=group)) +\n",
    "geom_polygon(fill=\"white\", color=\"black\")"
   ]
  },
  {
   "cell_type": "markdown",
   "metadata": {
    "level": 7
   },
   "source": [
    "We specified two colors in geom_polygon -- fill and color. Which one defined the color of the outline of the states?\n",
    "\n",
    "- fill\n",
    "- color\n",
    "- Neither ?"
   ]
  },
  {
   "cell_type": "markdown",
   "metadata": {
    "level": 7
   },
   "source": [
    "In our plot, the states are outlined in black, which is the color we specified for the option \"color\".\n",
    "\n",
    "To confirm that this is changing the outline color of the states, we can try re-running the command with a different color:\n",
    "\n",
    "> ggplot(statesMap, aes(x = long, y = lat, group = group)) + geom_polygon(fill = \"white\", color = \"pink\")"
   ]
  },
  {
   "cell_type": "markdown",
   "metadata": {
    "heading_collapsed": false,
    "level": 1
   },
   "source": [
    "# Problem 2 - Coloring the States by Predictions\n",
    "\n",
    "## Problem 2.1 - Coloring the States by Predictions\n",
    "\n",
    "Now, let's color the map of the US according to our 2012 US presidential election predictions from the Unit 3 Recitation. We'll rebuild the model here, using the dataset PollingImputed.csv. Be sure to use this file so that you don't have to redo the imputation to fill in the missing values, like we did in the Unit 3 Recitation.\n",
    "\n",
    "Load the data using the read.csv function, and call it \"polling\"."
   ]
  },
  {
   "cell_type": "code",
   "execution_count": 12,
   "metadata": {
    "collapsed": false
   },
   "outputs": [
    {
     "name": "stdout",
     "output_type": "stream",
     "text": [
      "'data.frame':\t145 obs. of  7 variables:\n",
      " $ State     : Factor w/ 50 levels \"Alabama\",\"Alaska\",..: 1 1 2 2 3 3 3 4 4 4 ...\n",
      " $ Year      : int  2004 2008 2004 2008 2004 2008 2012 2004 2008 2012 ...\n",
      " $ Rasmussen : int  11 21 19 16 5 5 8 7 10 13 ...\n",
      " $ SurveyUSA : int  18 25 21 18 15 3 5 5 7 21 ...\n",
      " $ DiffCount : int  5 5 1 6 8 9 4 8 5 2 ...\n",
      " $ PropR     : num  1 1 1 1 1 ...\n",
      " $ Republican: int  1 1 1 1 1 1 1 1 1 1 ...\n"
     ]
    }
   ],
   "source": [
    "polling <- read.csv(\"PollingImputed.csv\")\n",
    "str(polling)"
   ]
  },
  {
   "cell_type": "markdown",
   "metadata": {
    "level": 7
   },
   "source": [
    "Then split the data using the subset function into a training set called \"Train\" that has observations from 2004 and 2008, and a testing set called \"Test\" that has observations from 2012."
   ]
  },
  {
   "cell_type": "code",
   "execution_count": 14,
   "metadata": {
    "collapsed": false
   },
   "outputs": [],
   "source": [
    "Train <- subset(polling, Year == 2004 | Year == 2008)\n",
    "Test <- subset(polling, Year == 2012)"
   ]
  },
  {
   "cell_type": "code",
   "execution_count": 16,
   "metadata": {
    "collapsed": false
   },
   "outputs": [
    {
     "data": {
      "text/html": [
       "45"
      ],
      "text/latex": [
       "45"
      ],
      "text/markdown": [
       "45"
      ],
      "text/plain": [
       "[1] 45"
      ]
     },
     "metadata": {},
     "output_type": "display_data"
    },
    {
     "data": {
      "text/html": [
       "100"
      ],
      "text/latex": [
       "100"
      ],
      "text/markdown": [
       "100"
      ],
      "text/plain": [
       "[1] 100"
      ]
     },
     "metadata": {},
     "output_type": "display_data"
    }
   ],
   "source": [
    "nrow(Test)\n",
    "nrow(Train)"
   ]
  },
  {
   "cell_type": "markdown",
   "metadata": {
    "level": 7
   },
   "source": [
    "Note that we only have 45 states in our testing set, since we are missing observations for Alaska, Delaware, Alabama, Wyoming, and Vermont, so these states will not appear colored in our map.\n",
    "\n",
    "Then, create a logistic regression model and make predictions on the test set using the following commands:\n",
    "\n",
    "mod2 = glm(Republican~SurveyUSA+DiffCount, data=Train, family=\"binomial\")\n",
    "\n",
    "TestPrediction = predict(mod2, newdata=Test, type=\"response\")"
   ]
  },
  {
   "cell_type": "code",
   "execution_count": 17,
   "metadata": {
    "collapsed": true
   },
   "outputs": [],
   "source": [
    "mod2 = glm(Republican~SurveyUSA+DiffCount, data=Train, family=\"binomial\")\n",
    "TestPrediction = predict(mod2, newdata=Test, type=\"response\")"
   ]
  },
  {
   "cell_type": "markdown",
   "metadata": {
    "level": 7
   },
   "source": [
    "TestPrediction gives the predicted probabilities for each state, but let's also create a vector of Republican/Democrat predictions by using the following command:\n",
    "\n",
    "TestPredictionBinary = as.numeric(TestPrediction > 0.5)"
   ]
  },
  {
   "cell_type": "code",
   "execution_count": 18,
   "metadata": {
    "collapsed": true
   },
   "outputs": [],
   "source": [
    "TestPredictionBinary = as.numeric(TestPrediction > 0.5)"
   ]
  },
  {
   "cell_type": "markdown",
   "metadata": {
    "level": 7
   },
   "source": [
    "Now, put the predictions and state labels in a data.frame so that we can use ggplot:\n",
    "\n",
    "predictionDataFrame = data.frame(TestPrediction, TestPredictionBinary, Test$State)"
   ]
  },
  {
   "cell_type": "code",
   "execution_count": 19,
   "metadata": {
    "collapsed": true
   },
   "outputs": [],
   "source": [
    "predictionDataFrame = data.frame(TestPrediction, TestPredictionBinary, Test$State)"
   ]
  },
  {
   "cell_type": "markdown",
   "metadata": {
    "level": 7
   },
   "source": [
    "To make sure everything went smoothly, answer the following questions.\n",
    "\n",
    "- For how many states is our binary prediction 1 (for 2012), corresponding to Republican?"
   ]
  },
  {
   "cell_type": "code",
   "execution_count": 22,
   "metadata": {
    "collapsed": false
   },
   "outputs": [
    {
     "data": {
      "text/plain": [
       "TestPredictionBinary\n",
       " 0  1 \n",
       "23 22 "
      ]
     },
     "metadata": {},
     "output_type": "display_data"
    }
   ],
   "source": [
    "table(TestPredictionBinary)"
   ]
  },
  {
   "cell_type": "markdown",
   "metadata": {
    "level": 7
   },
   "source": [
    "- What is the average predicted probability of our model (on the Test set, for 2012)?"
   ]
  },
  {
   "cell_type": "code",
   "execution_count": 24,
   "metadata": {
    "collapsed": false
   },
   "outputs": [
    {
     "data": {
      "text/html": [
       "0.48526264602819"
      ],
      "text/latex": [
       "0.48526264602819"
      ],
      "text/markdown": [
       "0.48526264602819"
      ],
      "text/plain": [
       "[1] 0.4852626"
      ]
     },
     "metadata": {},
     "output_type": "display_data"
    }
   ],
   "source": [
    "mean(TestPrediction)"
   ]
  },
  {
   "cell_type": "markdown",
   "metadata": {
    "heading_collapsed": false,
    "level": 2
   },
   "source": [
    "## Problem 2.2 - Coloring the States by Predictions\n",
    "\n",
    "Now, we need to merge \"predictionDataFrame\" with the map data \"statesMap\", like we did in lecture. Before doing so, we need to convert the Test.State variable to lowercase, so that it matches the region variable in statesMap."
   ]
  },
  {
   "cell_type": "code",
   "execution_count": 25,
   "metadata": {
    "collapsed": true
   },
   "outputs": [],
   "source": [
    "predictionDataFrame$region = tolower(predictionDataFrame$Test.State)"
   ]
  },
  {
   "cell_type": "markdown",
   "metadata": {
    "level": 7
   },
   "source": [
    "Now, merge the two data frames using the following command:\n",
    "\n",
    "predictionMap = merge(statesMap, predictionDataFrame, by = \"region\")"
   ]
  },
  {
   "cell_type": "code",
   "execution_count": 27,
   "metadata": {
    "collapsed": true
   },
   "outputs": [],
   "source": [
    "predictionMap = merge(statesMap, predictionDataFrame, by = \"region\")"
   ]
  },
  {
   "cell_type": "markdown",
   "metadata": {
    "level": 7
   },
   "source": [
    "Lastly, we need to make sure the observations are in order so that the map is drawn properly, by typing the following:\n",
    "\n",
    "predictionMap = predictionMap[order(predictionMap$order),]"
   ]
  },
  {
   "cell_type": "code",
   "execution_count": 28,
   "metadata": {
    "collapsed": true
   },
   "outputs": [],
   "source": [
    "predictionMap = predictionMap[order(predictionMap$order),]"
   ]
  },
  {
   "cell_type": "markdown",
   "metadata": {
    "level": 7
   },
   "source": [
    "- How many observations are there in predictionMap?"
   ]
  },
  {
   "cell_type": "code",
   "execution_count": 29,
   "metadata": {
    "collapsed": false
   },
   "outputs": [
    {
     "name": "stdout",
     "output_type": "stream",
     "text": [
      "'data.frame':\t15034 obs. of  9 variables:\n",
      " $ region              : chr  \"arizona\" \"arizona\" \"arizona\" \"arizona\" ...\n",
      " $ long                : num  -115 -115 -115 -115 -115 ...\n",
      " $ lat                 : num  35 35.1 35.1 35.2 35.2 ...\n",
      " $ group               : num  2 2 2 2 2 2 2 2 2 2 ...\n",
      " $ order               : int  204 205 206 207 208 209 210 211 212 213 ...\n",
      " $ subregion           : chr  NA NA NA NA ...\n",
      " $ TestPrediction      : num  0.974 0.974 0.974 0.974 0.974 ...\n",
      " $ TestPredictionBinary: num  1 1 1 1 1 1 1 1 1 1 ...\n",
      " $ Test.State          : Factor w/ 50 levels \"Alabama\",\"Alaska\",..: 3 3 3 3 3 3 3 3 3 3 ...\n"
     ]
    }
   ],
   "source": [
    "str(predictionMap)"
   ]
  },
  {
   "cell_type": "markdown",
   "metadata": {
    "level": 7
   },
   "source": [
    "- How many observations are there in statesMap?"
   ]
  },
  {
   "cell_type": "code",
   "execution_count": 30,
   "metadata": {
    "collapsed": false
   },
   "outputs": [
    {
     "name": "stdout",
     "output_type": "stream",
     "text": [
      "'data.frame':\t15537 obs. of  6 variables:\n",
      " $ long     : num  -87.5 -87.5 -87.5 -87.5 -87.6 ...\n",
      " $ lat      : num  30.4 30.4 30.4 30.3 30.3 ...\n",
      " $ group    : num  1 1 1 1 1 1 1 1 1 1 ...\n",
      " $ order    : int  1 2 3 4 5 6 7 8 9 10 ...\n",
      " $ region   : chr  \"alabama\" \"alabama\" \"alabama\" \"alabama\" ...\n",
      " $ subregion: chr  NA NA NA NA ...\n"
     ]
    }
   ],
   "source": [
    "str(statesMap)"
   ]
  },
  {
   "cell_type": "markdown",
   "metadata": {
    "heading_collapsed": false,
    "level": 2
   },
   "source": [
    "## Problem 2.3 - Coloring the States by Predictions\n",
    "\n",
    "When we merged the data in the previous problem, it caused the number of observations to change. Why? Check out the help page for merge by typing ?merge to help you answer this question.\n",
    "\n",
    "- Merging the data just combines the two data frames like it would if we used rbind, so the number of observations increased.\n",
    "- We have more observations for each state now, because some observations have the statesMap data, and some observations have the prediction data.\n",
    "- Because we only make predictions for 45 states, we no longer have observations for some of the states. These observations were removed in the merging process.\n",
    "- We merged the observations for which our predictions are identical."
   ]
  },
  {
   "cell_type": "code",
   "execution_count": 31,
   "metadata": {
    "collapsed": true
   },
   "outputs": [],
   "source": [
    "?merge"
   ]
  },
  {
   "cell_type": "markdown",
   "metadata": {
    "heading_collapsed": false,
    "level": 3
   },
   "source": [
    "### Explanation\n",
    "\n",
    "When we merge data, it only merged the observations that exist in both data sets. So since we are merging based on the region variable, we will lose all observations that have a value of \"region\" that doesn't exist in both data frames. You can change this default behavior by using the all.x and all.y arguments of the merge function. For more information, look at the help page for the merge function by typing ?merge in your R console.\n",
    "\n",
    "Because we only make predictions for 45 states, we no longer have observations for some of the states. These observations were removed in the merging process."
   ]
  },
  {
   "cell_type": "markdown",
   "metadata": {
    "heading_collapsed": false,
    "level": 2
   },
   "source": [
    "## Problem 2.4 - Coloring the States by Predictions\n",
    "\n",
    "Now we are ready to color the US map with our predictions! You can color the states according to our binary predictions by typing the following in your R console:\n",
    "\n",
    "ggplot(predictionMap, aes(x = long, y = lat, group = group, fill = TestPredictionBinary)) + geom_polygon(color = \"black\")\n",
    "\n",
    "The states appear light blue and dark blue in this map. Which color represents a Republican prediction?\n",
    "\n",
    "- Light blue\n",
    "- Dark blue"
   ]
  },
  {
   "cell_type": "code",
   "execution_count": 32,
   "metadata": {
    "collapsed": false
   },
   "outputs": [
    {
     "data": {},
     "metadata": {},
     "output_type": "display_data"
    },
    {
     "data": {
      "image/png": "[encoded data removed]",
      "text/plain": [
       "plot without title"
      ]
     },
     "metadata": {},
     "output_type": "display_data"
    }
   ],
   "source": [
    "ggplot(predictionMap, aes(x=long, y=lat, group=group, fill=TestPredictionBinary)) +\n",
    "geom_polygon(color=\"black\")"
   ]
  },
  {
   "cell_type": "markdown",
   "metadata": {
    "level": 7
   },
   "source": [
    "Our logistic regression model assigned 1 to Republican and 0 to Democrat. As we can see from the legend, 1 corresponds to a light blue color on the map and 0 corresponds to a dark blue color on the map."
   ]
  },
  {
   "cell_type": "markdown",
   "metadata": {
    "heading_collapsed": false,
    "level": 2
   },
   "source": [
    "## Problem 2.5 - Coloring the States by Predictions\n",
    "\n",
    "We see that the legend displays a blue gradient for outcomes between 0 and 1. However, when plotting the binary predictions there are only two possible outcomes: 0 or 1. Let's replot the map with discrete outcomes. We can also change the color scheme to blue and red, to match the blue color associated with the Democratic Party in the US and the red color associated with the Republican Party in the US. This can be done with the following command:\n",
    "\n",
    "ggplot(predictionMap, aes(x = long, y = lat, group = group, fill = TestPredictionBinary))+ geom_polygon(color = \"black\") + scale_fill_gradient(low = \"blue\", high = \"red\", guide = \"legend\", breaks= c(0,1), labels = c(\"Democrat\", \"Republican\"), name = \"Prediction 2012\")"
   ]
  },
  {
   "cell_type": "code",
   "execution_count": 33,
   "metadata": {
    "collapsed": false
   },
   "outputs": [
    {
     "data": {},
     "metadata": {},
     "output_type": "display_data"
    },
    {
     "data": {
      "image/png": "[encoded data removed]",
      "text/plain": [
       "plot without title"
      ]
     },
     "metadata": {},
     "output_type": "display_data"
    }
   ],
   "source": [
    "ggplot(predictionMap, aes(x=long, y=lat, group=group, fill=TestPredictionBinary)) +\n",
    "geom_polygon(color=\"black\") +\n",
    "scale_fill_gradient(\n",
    "    low=\"blue\", high=\"red\", guide=\"legend\", breaks=c(0,1),\n",
    "    labels=c(\"Democrat\", \"Republican\"), name=\"Prediction2k12\"\n",
    ")"
   ]
  },
  {
   "cell_type": "markdown",
   "metadata": {
    "level": 7
   },
   "source": [
    "Alternatively, we could plot the probabilities instead of the binary predictions.\n",
    "\n",
    "Change the plot command above to instead color the states by the variable TestPrediction. You should see a gradient of colors ranging from red to blue."
   ]
  },
  {
   "cell_type": "code",
   "execution_count": 35,
   "metadata": {
    "collapsed": false
   },
   "outputs": [
    {
     "data": {},
     "metadata": {},
     "output_type": "display_data"
    },
    {
     "data": {
      "image/png": "[encoded data removed]",
      "text/plain": [
       "plot without title"
      ]
     },
     "metadata": {},
     "output_type": "display_data"
    }
   ],
   "source": [
    "ggplot(predictionMap, aes(x=long, y=lat, group=group, fill=TestPrediction)) +\n",
    "geom_polygon(color=\"black\") +\n",
    "scale_fill_gradient(\n",
    "    low=\"blue\", high=\"red\", guide=\"legend\", breaks=c(0,1),\n",
    "    labels=c(\"Democrat\", \"Republican\"), name=\"Prediction2k12\"\n",
    ")"
   ]
  },
  {
   "cell_type": "markdown",
   "metadata": {
    "level": 7
   },
   "source": [
    "Do the colors of the states in the map for TestPrediction look different from the colors of the states in the map with TestPredictionBinary? Why or why not?\n",
    "\n",
    "NOTE: If you have a hard time seeing the red/blue gradient, feel free to change the color scheme, by changing the arguments low = \"blue\" and high = \"red\" to colors of your choice (to see all of the color options in R, type colors() in your R console). You can even change it to a gray scale, by changing the low and high colors to \"gray\" and \"black\".\n",
    "\n",
    "\n",
    "- The two maps look very similar. This is because most of our predicted probabilities are close to 0 or close to 1.\n",
    "- The two maps look very similar. This is because TestPrediction and TestPredictionBinary have the exact same values.\n",
    "- The two maps look very different. This is because we have switched from plotting discrete values to plotting continuous values.\n",
    "- The two maps look very different. This is because our predicted probabilites have a wide range of values, and we were not sure about many states."
   ]
  },
  {
   "cell_type": "code",
   "execution_count": 37,
   "metadata": {
    "collapsed": false
   },
   "outputs": [
    {
     "data": {
      "text/plain": [
       "TestPrediction\n",
       "1.23697003202363e-07 1.25446252676014e-06  2.4296500373943e-06 \n",
       "                   1                    1                    1 \n",
       "2.43174763250483e-06 1.27154899595146e-05 1.77016906360533e-05 \n",
       "                   1                    1                    1 "
      ]
     },
     "metadata": {},
     "output_type": "display_data"
    }
   ],
   "source": [
    "head(table(TestPrediction))"
   ]
  },
  {
   "cell_type": "markdown",
   "metadata": {
    "level": 7
   },
   "source": [
    "The only state that appears purple (the color between red and blue) is the state of Iowa, so the maps look very similar.\n",
    "\n",
    "If you take a look at TestPrediction, you can see that most of our predicted probabilities are very close to 0 or very close to 1. In fact, we don't have a single predicted probability between 0.065 and 0.93."
   ]
  },
  {
   "cell_type": "markdown",
   "metadata": {
    "heading_collapsed": false,
    "level": 1
   },
   "source": [
    "# Problem 3\n",
    "\n",
    "## Problem 3.1 - Understanding the Predictions\n",
    "\n",
    "In the 2012 election, the state of Florida ended up being a very close race. It was ultimately won by the Democratic party. Did we predict this state correctly or incorrectly? To see the names and locations of the different states, take a look at the World Atlas map [here](http://www.worldatlas.com/webimage/testmaps/usanames.htm).\n",
    "\n",
    "\n",
    "- We correctly predicted that this state would be won by the Democratic party.\n",
    "- We incorrectly predicted this state by predicting that it would be won by the Republican party."
   ]
  },
  {
   "cell_type": "markdown",
   "metadata": {
    "level": 7
   },
   "source": [
    "In our prediction map, the state of Florida is colored red, meaning that we predicted Republican. So we incorrectly predicted this state."
   ]
  },
  {
   "cell_type": "markdown",
   "metadata": {
    "heading_collapsed": false,
    "level": 2
   },
   "source": [
    "## Problem 3.2 - Understanding the Predictions\n",
    "\n",
    "What was our predicted probability for the state of Florida?"
   ]
  },
  {
   "cell_type": "code",
   "execution_count": 56,
   "metadata": {
    "collapsed": false
   },
   "outputs": [
    {
     "data": {
      "text/html": [
       "<table>\n",
       "<thead><tr><th></th><th scope=col>TestPrediction</th><th scope=col>TestPredictionBinary</th><th scope=col>Test.State</th><th scope=col>region</th></tr></thead>\n",
       "<tbody>\n",
       "\t<tr><th scope=row>24</th><td>0.964039495344072</td><td>1                </td><td>Florida          </td><td>florida          </td></tr>\n",
       "</tbody>\n",
       "</table>\n"
      ],
      "text/latex": [
       "\\begin{tabular}{r|llll}\n",
       "  & TestPrediction & TestPredictionBinary & Test.State & region\\\\\n",
       "\\hline\n",
       "\t24 & 0.964039495344072 & 1                 & Florida           & florida          \\\\\n",
       "\\end{tabular}\n"
      ],
      "text/plain": [
       "   TestPrediction TestPredictionBinary Test.State  region\n",
       "24      0.9640395                    1    Florida florida"
      ]
     },
     "metadata": {},
     "output_type": "display_data"
    }
   ],
   "source": [
    "predictionDataFrame[predictionDataFrame$region == \"florida\",]"
   ]
  },
  {
   "cell_type": "markdown",
   "metadata": {
    "level": 7
   },
   "source": [
    "What does this imply?\n",
    "\n",
    "- Our prediction model did a good job of correctly predicting the state of Florida, and we were very confident in our prediction.\n",
    "- Our prediction model did a good job of correctly predicting the state of Florida, but we were not very confident in the prediction.\n",
    "- Our prediction model did not do a very good job of correctly predicting the state of Florida, but we were not very confident in our prediction.\n",
    "- Our prediction model did not do a very good job of correctly predicting the state of Florida, and we were very confident in our incorrect prediction. "
   ]
  },
  {
   "cell_type": "markdown",
   "metadata": {
    "level": 7
   },
   "source": [
    "We predicted Republican for the state of Florida with high probability, meaning that we were very confident in our incorrect prediction!\n",
    "\n",
    "Historically, Florida is usually a close race, but our model doesn't know this. The model only uses polling results for the particular year.\n",
    "\n",
    "For Florida in 2012, Survey USA predicted a tie, but other polls predicted Republican, so our model predicted Republican.\n",
    "\n",
    "$\\Rightarrow$ Our prediction model did not do a very good job of correctly predicting the state of Florida, and we were very confident in our incorrect prediction."
   ]
  },
  {
   "cell_type": "markdown",
   "metadata": {
    "heading_collapsed": false,
    "level": 1
   },
   "source": [
    "# Problem 4 - Parameters settings\n",
    "\n",
    "In this part, we'll explore what the different parameter settings of geom_polygon do.\n",
    "\n",
    "Throughout the problem, use the help page for geom_polygon, which can be accessed by ?geom_polygon.\n",
    "\n",
    "To see more information about a certain parameter, just type a question mark and then the parameter name to get the help page for that parameter. Experiment with different parameter settings to try and replicate the plots!"
   ]
  },
  {
   "cell_type": "code",
   "execution_count": 58,
   "metadata": {
    "collapsed": true
   },
   "outputs": [],
   "source": [
    "?geom_polygon"
   ]
  },
  {
   "cell_type": "code",
   "execution_count": 59,
   "metadata": {
    "collapsed": false
   },
   "outputs": [
    {
     "data": {},
     "metadata": {},
     "output_type": "display_data"
    },
    {
     "data": {
      "image/png": "[encoded data removed]",
      "text/plain": [
       "plot without title"
      ]
     },
     "metadata": {},
     "output_type": "display_data"
    }
   ],
   "source": [
    "ggplot(predictionMap, aes(x=long, y=lat, group=group, fill=TestPrediction)) +\n",
    "geom_polygon(color=\"black\", linetype=3) +\n",
    "scale_fill_gradient(\n",
    "    low=\"blue\", high=\"red\", guide=\"legend\", breaks=c(0,1),\n",
    "    labels=c(\"Democrat\", \"Republican\"), name=\"Prediction2k12\"\n",
    ")"
   ]
  },
  {
   "cell_type": "code",
   "execution_count": 60,
   "metadata": {
    "collapsed": false
   },
   "outputs": [
    {
     "data": {},
     "metadata": {},
     "output_type": "display_data"
    },
    {
     "data": {
      "image/png": "[encoded data removed]",
      "text/plain": [
       "plot without title"
      ]
     },
     "metadata": {},
     "output_type": "display_data"
    }
   ],
   "source": [
    "ggplot(predictionMap, aes(x=long, y=lat, group=group, fill=TestPrediction)) +\n",
    "geom_polygon(color=\"black\", size=3) +\n",
    "scale_fill_gradient(\n",
    "    low=\"blue\", high=\"red\", guide=\"legend\", breaks=c(0,1),\n",
    "    labels=c(\"Democrat\", \"Republican\"), name=\"Prediction2k12\"\n",
    ")"
   ]
  },
  {
   "cell_type": "markdown",
   "metadata": {
    "level": 7
   },
   "source": [
    "- The first plot can be generated by setting the parameter linetype = 3:\n",
    "> ggplot(predictionMap, aes(x = long, y = lat, group = group, fill = TestPrediction)) +\n",
    "geom_polygon(color = \"black\", linetype=3) +\n",
    "scale_fill_gradient(\n",
    "    low = \"blue\", high = \"red\", guide = \"legend\", breaks= c(0,1), \n",
    "    labels = c(\"Democrat\", \"Republican\"), name = \"Prediction 2012\"\n",
    ")\n",
    "\n",
    "- The second plot can be generated by setting the parameter size = 3:\n",
    "> ggplot(predictionMap, aes(x = long, y = lat, group = group, fill = TestPrediction))+ geom_polygon(color = \"black\", size=3) + scale_fill_gradient(low = \"blue\", high = \"red\", guide = \"legend\", breaks= c(0,1), labels = c(\"Democrat\", \"Republican\"), name = \"Prediction 2012\")"
   ]
  },
  {
   "cell_type": "markdown",
   "metadata": {
    "heading_collapsed": false,
    "level": 2
   },
   "source": [
    "## Problem 4.2 - Parameter Settings\n",
    "\n",
    "Plot (3) was created by changing the value of a different geom_polygon parameter to have value 0.3. Which parameter did we use?"
   ]
  },
  {
   "cell_type": "code",
   "execution_count": 61,
   "metadata": {
    "collapsed": false
   },
   "outputs": [
    {
     "data": {},
     "metadata": {},
     "output_type": "display_data"
    },
    {
     "data": {
      "image/png": "[encoded data removed]",
      "text/plain": [
       "plot without title"
      ]
     },
     "metadata": {},
     "output_type": "display_data"
    }
   ],
   "source": [
    "ggplot(predictionMap, aes(x=long, y=lat, group=group, fill=TestPrediction)) +\n",
    "geom_polygon(color=\"black\", alpha=.3) +\n",
    "scale_fill_gradient(\n",
    "    low=\"blue\", high=\"red\", guide=\"legend\", breaks=c(0,1),\n",
    "    labels=c(\"Democrat\", \"Republican\"), name=\"Prediction2k12\"\n",
    ")"
   ]
  },
  {
   "cell_type": "markdown",
   "metadata": {
    "level": 7
   },
   "source": [
    "- Plot (3) can be created by changing the alpha parameter:\n",
    "\n",
    "> ggplot(predictionMap, aes(x = long, y = lat, group = group, fill = TestPrediction))+ geom_polygon(color = \"black\", alpha=0.3) + scale_fill_gradient(low = \"blue\", high = \"red\", guide = \"legend\", breaks= c(0,1), labels = c(\"Democrat\", \"Republican\"), name = \"Prediction 2012\")\n",
    "\n",
    "The \"alpha\" parameter controls the transparency or darkness of the color. A smaller value of alpha will make the colors lighter."
   ]
  },
  {
   "cell_type": "code",
   "execution_count": null,
   "metadata": {
    "collapsed": true
   },
   "outputs": [],
   "source": []
  }
 ],
 "metadata": {
  "anaconda-cloud": {},
  "kernelspec": {
   "display_name": "R",
   "language": "R",
   "name": "ir"
  },
  "language_info": {
   "codemirror_mode": "r",
   "file_extension": ".r",
   "mimetype": "text/x-r-source",
   "name": "R",
   "pygments_lexer": "r",
   "version": "3.3.1"
  },
  "latex_envs": {
   "bibliofile": "biblio.bib",
   "cite_by": "apalike",
   "current_citInitial": 1,
   "eqLabelWithNumbers": true,
   "eqNumInitial": 0
  },
  "toc": {
   "toc_cell": true,
   "toc_number_sections": true,
   "toc_threshold": 6,
   "toc_window_display": false
  }
 },
 "nbformat": 4,
 "nbformat_minor": 1
}
