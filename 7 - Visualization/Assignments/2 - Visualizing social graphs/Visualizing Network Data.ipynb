{
 "cells": [
  {
   "cell_type": "markdown",
   "metadata": {
    "heading_collapsed": false,
    "level": 1,
    "toc": "true"
   },
   "source": [
    "# Table of Contents\n",
    " <p><div class=\"lev1\"><a href=\"#Visualizing-Network-Data\"><span class=\"toc-item-num\">1&nbsp;&nbsp;</span>Visualizing Network Data</a></div><div class=\"lev2\"><a href=\"#Problem-1.1---Summarizing-the-Data\"><span class=\"toc-item-num\">1.1&nbsp;&nbsp;</span>Problem 1.1 - Summarizing the Data</a></div><div class=\"lev3\"><a href=\"#Explanation\"><span class=\"toc-item-num\">1.1.1&nbsp;&nbsp;</span>Explanation</a></div><div class=\"lev2\"><a href=\"#Problem-1.2---Summarizing-the-Data\"><span class=\"toc-item-num\">1.2&nbsp;&nbsp;</span>Problem 1.2 - Summarizing the Data</a></div><div class=\"lev3\"><a href=\"#Explanation\"><span class=\"toc-item-num\">1.2.1&nbsp;&nbsp;</span>Explanation</a></div><div class=\"lev2\"><a href=\"#Problem-1.3---Summarizing-the-Data\"><span class=\"toc-item-num\">1.3&nbsp;&nbsp;</span>Problem 1.3 - Summarizing the Data</a></div><div class=\"lev3\"><a href=\"#Explanation\"><span class=\"toc-item-num\">1.3.1&nbsp;&nbsp;</span>Explanation</a></div><div class=\"lev2\"><a href=\"#Problem-2.1---Creating-a-Network\"><span class=\"toc-item-num\">1.4&nbsp;&nbsp;</span>Problem 2.1 - Creating a Network</a></div><div class=\"lev2\"><a href=\"#Problem-2.2---Creating-a-Network\"><span class=\"toc-item-num\">1.5&nbsp;&nbsp;</span>Problem 2.2 - Creating a Network</a></div><div class=\"lev2\"><a href=\"#Problem-2.3---Creating-a-Network\"><span class=\"toc-item-num\">1.6&nbsp;&nbsp;</span>Problem 2.3 - Creating a Network</a></div><div class=\"lev2\"><a href=\"#Problem-2.4---Creating-a-Network\"><span class=\"toc-item-num\">1.7&nbsp;&nbsp;</span>Problem 2.4 - Creating a Network</a></div><div class=\"lev3\"><a href=\"#Explanation\"><span class=\"toc-item-num\">1.7.1&nbsp;&nbsp;</span>Explanation</a></div><div class=\"lev2\"><a href=\"#Problem-3.1---Coloring-Vertices\"><span class=\"toc-item-num\">1.8&nbsp;&nbsp;</span>Problem 3.1 - Coloring Vertices</a></div><div class=\"lev3\"><a href=\"#Explanation\"><span class=\"toc-item-num\">1.8.1&nbsp;&nbsp;</span>Explanation</a></div><div class=\"lev2\"><a href=\"#Problem-3.2---Coloring-Vertices\"><span class=\"toc-item-num\">1.9&nbsp;&nbsp;</span>Problem 3.2 - Coloring Vertices</a></div><div class=\"lev3\"><a href=\"#Explanation\"><span class=\"toc-item-num\">1.9.1&nbsp;&nbsp;</span>Explanation</a></div><div class=\"lev2\"><a href=\"#Problem-3.3---Coloring-Vertices\"><span class=\"toc-item-num\">1.10&nbsp;&nbsp;</span>Problem 3.3 - Coloring Vertices</a></div><div class=\"lev2\"><a href=\"#Problem-4---Other-Plotting-Options\"><span class=\"toc-item-num\">1.11&nbsp;&nbsp;</span>Problem 4 - Other Plotting Options</a></div><div class=\"lev3\"><a href=\"#Explanation\"><span class=\"toc-item-num\">1.11.1&nbsp;&nbsp;</span>Explanation</a></div>"
   ]
  },
  {
   "cell_type": "markdown",
   "metadata": {
    "level": 7
   },
   "source": [
    "Visualizing Network Data\n",
    "========================\n",
    "\n",
    "The cliche goes that the world is an increasingly interconnected place, and the connections between different entities are often best represented with a graph. Graphs are comprised of vertices (also often called \"nodes\") and edges connecting those nodes. In this assignment, we will learn how to visualize networks using the igraph package in R.\n",
    "\n",
    "For this assignment, we will visualize social networking data using anonymized data from Facebook; this data was originally curated in a recent paper about computing social circles in social networks. In our visualizations, the vertices in our network will represent Facebook users and the edges will represent these users being Facebook friends with each other.\n",
    "\n",
    "The first file we will use, edges.csv, contains variables V1 and V2, which label the endpoints of edges in our network. Each row represents a pair of users in our graph who are Facebook friends. For a pair of friends A and B, edges.csv will only contain a single row -- the smaller identifier will be listed first in this row. From this row, we will know that A is friends with B and B is friends with A.\n",
    "\n",
    "The second file, users.csv, contains information about the Facebook users, who are the vertices in our network. This file contains the following variables:\n",
    "\n",
    "- id: A unique identifier for this user; this is the value that appears in the rows of edges.csv\n",
    "\n",
    "- gender: An identifier for the gender of a user taking the values A and B. Because the data is anonymized, we don't know which value refers to males and which value refers to females.\n",
    "\n",
    "- school: An identifier for the school the user attended taking the values A and AB (users with AB attended school A as well as another school B). Because the data is anonymized, we don't know the schools represented by A and B.\n",
    "\n",
    "- locale: An identifier for the locale of the user taking the values A and B. Because the data is anonymized, we don't know which value refers to what locale."
   ]
  },
  {
   "cell_type": "markdown",
   "metadata": {
    "heading_collapsed": false,
    "level": 2
   },
   "source": [
    "## Problem 1.1 - Summarizing the Data\n",
    "\n",
    "Load the data from edges.csv into a data frame called edges, and load the data from users.csv into a data frame called users.\n",
    "\n",
    "How many Facebook users are there in our dataset?"
   ]
  },
  {
   "cell_type": "code",
   "execution_count": 1,
   "metadata": {
    "collapsed": false,
    "level": 7
   },
   "outputs": [],
   "source": [
    "edges <- read.csv(\"edges.csv\")\n",
    "users <- read.csv(\"users.csv\")"
   ]
  },
  {
   "cell_type": "code",
   "execution_count": 2,
   "metadata": {
    "collapsed": false,
    "level": 7
   },
   "outputs": [
    {
     "name": "stdout",
     "output_type": "stream",
     "text": [
      "'data.frame':\t59 obs. of  4 variables:\n",
      " $ id    : int  3981 3982 3983 3984 3985 3986 3987 3988 3989 3990 ...\n",
      " $ gender: Factor w/ 3 levels \"\",\"A\",\"B\": 2 3 3 3 3 3 2 3 3 2 ...\n",
      " $ school: Factor w/ 3 levels \"\",\"A\",\"AB\": 2 1 1 1 1 2 1 1 2 1 ...\n",
      " $ locale: Factor w/ 3 levels \"\",\"A\",\"B\": 3 3 3 3 3 3 2 3 3 2 ...\n"
     ]
    }
   ],
   "source": [
    "str(users)"
   ]
  },
  {
   "cell_type": "code",
   "execution_count": 3,
   "metadata": {
    "collapsed": false,
    "level": 7
   },
   "outputs": [
    {
     "name": "stdout",
     "output_type": "stream",
     "text": [
      "'data.frame':\t146 obs. of  2 variables:\n",
      " $ V1: int  4019 4023 4023 4027 3988 3982 3994 3998 3993 3982 ...\n",
      " $ V2: int  4026 4031 4030 4032 4021 3986 3998 3999 3995 4021 ...\n"
     ]
    }
   ],
   "source": [
    "str(edges)"
   ]
  },
  {
   "cell_type": "code",
   "execution_count": 4,
   "metadata": {
    "collapsed": false,
    "level": 7
   },
   "outputs": [
    {
     "data": {
      "text/plain": [
       "       V1             V2      \n",
       " Min.   : 594   Min.   :3986  \n",
       " 1st Qu.:3987   1st Qu.:4009  \n",
       " Median :3997   Median :4021  \n",
       " Mean   :3929   Mean   :4018  \n",
       " 3rd Qu.:4008   3rd Qu.:4030  \n",
       " Max.   :4031   Max.   :4038  "
      ]
     },
     "metadata": {},
     "output_type": "display_data"
    }
   ],
   "source": [
    "summary(edges)"
   ]
  },
  {
   "cell_type": "markdown",
   "metadata": {
    "heading_collapsed": false,
    "level": 3
   },
   "source": [
    "### Explanation\n",
    "\n",
    "From str(edges) or nrow(edges), we see that there are 146 pairs of users in our dataset who are Facebook friends.\n",
    "\n",
    "However, each pair (A, B) must be counted twice, because B is a friend of A and A is a friend of B. To think of this in simpler terms, consider a network with just new people, A and B, and a single edge (A, B). Even though there are two vertices and one edge, each user has on average one friend.\n",
    "\n",
    "For our network, the average number of friends per user is 292/59=4.95.\n",
    "\n",
    "Finally, note that in all likelihood these users have a much higher number of Facebook friends. We are computing here the average number of people in this dataset who are their friends, instead of the average total number of Facebook friends."
   ]
  },
  {
   "cell_type": "markdown",
   "metadata": {
    "collapsed": true,
    "heading_collapsed": false,
    "level": 2
   },
   "source": [
    "## Problem 1.2 - Summarizing the Data\n",
    "\n",
    "Out of all the students who listed a school, what was the most common locale?\n",
    "\n",
    "- Locale A\n",
    "- Locale B"
   ]
  },
  {
   "cell_type": "code",
   "execution_count": 5,
   "metadata": {
    "collapsed": false,
    "level": 7
   },
   "outputs": [
    {
     "data": {
      "text/plain": [
       "   \n",
       "        A AB\n",
       "     3  0  0\n",
       "  A  6  0  0\n",
       "  B 31 17  2"
      ]
     },
     "metadata": {},
     "output_type": "display_data"
    }
   ],
   "source": [
    "table(users$locale, users$school)"
   ]
  },
  {
   "cell_type": "markdown",
   "metadata": {
    "heading_collapsed": false,
    "level": 3
   },
   "source": [
    "### Explanation\n",
    "\n",
    "We read that all students listed at schools A and B listed their locale as B."
   ]
  },
  {
   "cell_type": "markdown",
   "metadata": {
    "heading_collapsed": false,
    "level": 2
   },
   "source": [
    "## Problem 1.3 - Summarizing the Data\n",
    "\n",
    "Is it possible that either school A or B is an all-girls or all-boys school?"
   ]
  },
  {
   "cell_type": "code",
   "execution_count": 6,
   "metadata": {
    "collapsed": false,
    "level": 7
   },
   "outputs": [
    {
     "data": {
      "text/plain": [
       "   \n",
       "        A AB\n",
       "     1  1  0\n",
       "  A 11  3  1\n",
       "  B 28 13  1"
      ]
     },
     "metadata": {},
     "output_type": "display_data"
    }
   ],
   "source": [
    "table(users$gender, users$school)"
   ]
  },
  {
   "cell_type": "markdown",
   "metadata": {
    "heading_collapsed": false,
    "level": 3
   },
   "source": [
    "### Explanation\n",
    "\n",
    "We see from table(users\\$gender, users\\$school) that both genders A and B have attended schools A and B."
   ]
  },
  {
   "cell_type": "markdown",
   "metadata": {
    "heading_collapsed": false,
    "level": 2
   },
   "source": [
    "## Problem 2.1 - Creating a Network\n",
    "\n",
    "We will be using the igraph package to visualize networks; install and load this package using the install.packages and library commands.\n",
    "\n",
    "We can create a new graph object using the graph.data.frame() function. Based on ?graph.data.frame, which of the following commands will create a graph g describing our social network, with the attributes of each user correctly loaded?\n",
    "\n",
    "Note: A directed graph is one where the edges only go one way -- they point from one vertex to another. The other option is an undirected graph, which means that the relations between the vertices are symmetric.\n",
    "\n",
    "\n",
    "- g = graph.data.frame(edges, FALSE, users)\n",
    "- g = graph.data.frame(users, FALSE, edges)\n",
    "- g = graph.data.frame(edges, TRUE, users)\n",
    "- g = graph.data.frame(users, TRUE, edges)"
   ]
  },
  {
   "cell_type": "code",
   "execution_count": 7,
   "metadata": {
    "collapsed": false,
    "level": 7
   },
   "outputs": [
    {
     "name": "stderr",
     "output_type": "stream",
     "text": [
      "\n",
      "Attaching package: 'igraph'\n",
      "\n",
      "The following objects are masked from 'package:stats':\n",
      "\n",
      "    decompose, spectrum\n",
      "\n",
      "The following object is masked from 'package:base':\n",
      "\n",
      "    union\n",
      "\n"
     ]
    }
   ],
   "source": [
    "library(igraph)"
   ]
  },
  {
   "cell_type": "code",
   "execution_count": 8,
   "metadata": {
    "collapsed": true,
    "level": 7
   },
   "outputs": [],
   "source": [
    "?graph.data.frame"
   ]
  },
  {
   "cell_type": "markdown",
   "metadata": {
    "level": 7
   },
   "source": [
    "Explanation\n",
    "From ?graph.data.frame, we can see that the function expects the first two columns of parameter d to specify the edges in the graph -- our edges object fits this description.\n",
    "Our edges are undirected -- if A is a Facebook friend of B then B is a Facebook friend of A. Therefore, we set the directed parameter to FALSE.\n",
    "The vertices parameter expects a data frame where the first column is a vertex id and the remaining columns are properties of vertices in our graph. This is the case with our users data frame.\n",
    "\n",
    "\\Rhightarrow g = graph.data.frame(edges, FALSE, users)"
   ]
  },
  {
   "cell_type": "markdown",
   "metadata": {
    "heading_collapsed": true,
    "level": 2
   },
   "source": [
    "## Problem 2.2 - Creating a Network\n",
    "\n",
    "Use the correct command from Problem 2.1 to load the graph g."
   ]
  },
  {
   "cell_type": "code",
   "execution_count": 9,
   "metadata": {
    "collapsed": true,
    "level": 7
   },
   "outputs": [],
   "source": [
    "g = graph.data.frame(edges, FALSE, users)"
   ]
  },
  {
   "cell_type": "markdown",
   "metadata": {
    "level": 7
   },
   "source": [
    "Now, we want to plot our graph. By default, the vertices are large and have text labels of a user's identifier. Because this would clutter the output, we will plot with no text labels and smaller vertices:\n",
    "\n",
    "plot(g, vertex.size=5, vertex.label=NA)"
   ]
  },
  {
   "cell_type": "code",
   "execution_count": 10,
   "metadata": {
    "collapsed": false,
    "level": 7
   },
   "outputs": [
    {
     "data": {
      "image/png": "[encoded data removed]",
      "text/plain": [
       "Plot with title \"\""
      ]
     },
     "metadata": {},
     "output_type": "display_data"
    }
   ],
   "source": [
    "plot(g, vertex.size=5, vertex.label=NA)"
   ]
  },
  {
   "cell_type": "markdown",
   "metadata": {
    "level": 7
   },
   "source": [
    "In this graph, there are a number of groups of nodes where all the nodes in each group are connected but the groups are disjoint from one another, forming \"islands\" in the graph. Such groups are called \"connected components,\" or \"components\" for short. How many connected components with at least 2 nodes are there in the graph?"
   ]
  },
  {
   "cell_type": "markdown",
   "metadata": {
    "level": 7
   },
   "source": [
    "In addition to the large connected component, there is a 4-node component and two 2-node components.\n",
    "\n",
    "How many users are there with no friends in the network?"
   ]
  },
  {
   "cell_type": "markdown",
   "metadata": {
    "level": 7
   },
   "source": [
    "There are 7 nodes that are not connected to any other nodes. Each forms a 1-node connected component."
   ]
  },
  {
   "cell_type": "markdown",
   "metadata": {
    "heading_collapsed": false,
    "level": 2
   },
   "source": [
    "## Problem 2.3 - Creating a Network\n",
    "\n",
    "In our graph, the \"degree\" of a node is its number of friends. We have already seen that some nodes in our graph have degree 0 (these are the nodes with no friends), while others have much higher degree. We can use degree(g) to compute the degree of all the nodes in our graph g.\n",
    "\n",
    "How many users are friends with 10 or more other Facebook users in this network?"
   ]
  },
  {
   "cell_type": "code",
   "execution_count": 11,
   "metadata": {
    "collapsed": false,
    "level": 7
   },
   "outputs": [
    {
     "data": {
      "text/plain": [
       "\n",
       " 0  1  2  3  4  5  6  7  8  9 10 11 13 17 18 \n",
       " 7 10  4  9  1  4  4  3  6  2  4  1  2  1  1 "
      ]
     },
     "metadata": {},
     "output_type": "display_data"
    }
   ],
   "source": [
    "table(degree(g))"
   ]
  },
  {
   "cell_type": "markdown",
   "metadata": {
    "level": 7
   },
   "source": [
    "From table(degree(g)) or table(degree(g) >= 10), we can see that there are 9 users with 10 or more friends in this network."
   ]
  },
  {
   "cell_type": "markdown",
   "metadata": {
    "heading_collapsed": false,
    "level": 2
   },
   "source": [
    "## Problem 2.4 - Creating a Network\n",
    "\n",
    "In a network, it's often visually useful to draw attention to \"important\" nodes in the network. While this might mean different things in different contexts, in a social network we might consider a user with a large number of friends to be an important user. From the previous problem, we know this is the same as saying that nodes with a high degree are important users.\n",
    "\n",
    "To visually draw attention to these nodes, we will change the size of the vertices so the vertices with high degrees are larger. To do this, we will change the \"size\" attribute of the vertices of our graph to be an increasing function of their degrees:\n",
    "\n",
    "V(g)$size = degree(g)/2+2"
   ]
  },
  {
   "cell_type": "code",
   "execution_count": 12,
   "metadata": {
    "collapsed": true,
    "level": 7
   },
   "outputs": [],
   "source": [
    "V(g)$size = degree(g)/2+2"
   ]
  },
  {
   "cell_type": "markdown",
   "metadata": {
    "level": 7
   },
   "source": [
    "Now that we have specified the vertex size of each vertex, we will no longer use the vertex.size parameter when we plot our graph:\n",
    "\n",
    "plot(g, vertex.label=NA)"
   ]
  },
  {
   "cell_type": "code",
   "execution_count": 13,
   "metadata": {
    "collapsed": false,
    "level": 7
   },
   "outputs": [
    {
     "data": {
      "image/png": "[encoded data removed]",
      "text/plain": [
       "Plot with title \"\""
      ]
     },
     "metadata": {},
     "output_type": "display_data"
    }
   ],
   "source": [
    "plot(g, vertex.label=NA)"
   ]
  },
  {
   "cell_type": "markdown",
   "metadata": {
    "level": 7
   },
   "source": [
    "What is the largest size we assigned to any node in our graph?"
   ]
  },
  {
   "cell_type": "code",
   "execution_count": 14,
   "metadata": {
    "collapsed": false,
    "level": 7
   },
   "outputs": [
    {
     "data": {
      "text/plain": [
       "\n",
       "   2  2.5    3  3.5    4  4.5    5  5.5    6  6.5    7  7.5  8.5 10.5   11 \n",
       "   7   10    4    9    1    4    4    3    6    2    4    1    2    1    1 "
      ]
     },
     "metadata": {},
     "output_type": "display_data"
    }
   ],
   "source": [
    "table(V(g)$size)"
   ]
  },
  {
   "cell_type": "markdown",
   "metadata": {
    "heading_collapsed": false,
    "level": 3
   },
   "source": [
    "### Explanation\n",
    "\n",
    "From table(degree(g)) or summary(degree(g)), we see that the maximum degree of any node in the graph is 18 and the minimum degree of any node is 0. Therefore, the maximum size of any point is 18/2+2=11, and the minimum size is 0/2+2=2."
   ]
  },
  {
   "cell_type": "markdown",
   "metadata": {
    "heading_collapsed": false,
    "level": 2
   },
   "source": [
    "## Problem 3.1 - Coloring Vertices\n",
    "\n",
    "Thus far, we have changed the \"size\" attributes of our vertices. However, we can also change the colors of vertices to capture additional information about the Facebook users we are depicting.\n",
    "\n",
    "When changing the size of nodes, we first obtained the vertices of our graph with V(g) and then accessed the the size attribute with V(g)\\$size. To change the color, we will update the attribute V(g)$color.\n",
    "\n",
    "To color the vertices based on the gender of the user, we will need access to that variable. When we created our graph g, we provided it with the data frame users, which had variables gender, school, and locale. These are now stored as attributes V(g)\\$gender, V(g)\\$school, and V(g)\\$locale.\n",
    "\n",
    "We can update the colors by setting the color to black for all vertices, than setting it to red for the vertices with gender A and setting it to gray for the vertices with gender B:\n",
    "\n",
    "V(g)\\$color = \"black\"\n",
    "\n",
    "V(g)\\$color[V(g)\\$gender == \"A\"] = \"red\"\n",
    "\n",
    "V(g)\\$color[V(g)\\$gender == \"B\"] = \"gray\"\n",
    "\n",
    "Plot the resulting graph. What is the gender of the users with the highest degree in the graph?"
   ]
  },
  {
   "cell_type": "code",
   "execution_count": 15,
   "metadata": {
    "collapsed": true,
    "level": 7
   },
   "outputs": [],
   "source": [
    "V(g)$color = \"black\"\n",
    "V(g)$color[V(g)$gender == \"A\"] = \"red\"\n",
    "V(g)$color[V(g)$gender == \"B\"] = \"gray\""
   ]
  },
  {
   "cell_type": "code",
   "execution_count": 16,
   "metadata": {
    "collapsed": false,
    "level": 7
   },
   "outputs": [
    {
     "data": {
      "image/png": "[encoded data removed]",
      "text/plain": [
       "Plot with title \"\""
      ]
     },
     "metadata": {},
     "output_type": "display_data"
    }
   ],
   "source": [
    "plot(g, vertex.label=NA)"
   ]
  },
  {
   "cell_type": "markdown",
   "metadata": {
    "heading_collapsed": false,
    "level": 3
   },
   "source": [
    "### Explanation\n",
    "\n",
    "After updating V(g)$color, run plot(g, vertex.label=NA) to plot the graph. All the largest nodes (the ones with the highest degree) are colored gray, which corresponds to Gender B."
   ]
  },
  {
   "cell_type": "markdown",
   "metadata": {
    "heading_collapsed": false,
    "level": 2
   },
   "source": [
    "## Problem 3.2 - Coloring Vertices\n",
    "\n",
    "Now, color the vertices based on the school that each user in our network attended.\n",
    "\n",
    "Are the two users who attended both schools A and B Facebook friends with each other?"
   ]
  },
  {
   "cell_type": "code",
   "execution_count": 17,
   "metadata": {
    "collapsed": false,
    "level": 7
   },
   "outputs": [
    {
     "data": {
      "image/png": "[encoded data removed]",
      "text/plain": [
       "Plot with title \"\""
      ]
     },
     "metadata": {},
     "output_type": "display_data"
    }
   ],
   "source": [
    "V(g)$color = \"black\"\n",
    "V(g)$color[V(g)$school == \"AB\"] = \"red\"\n",
    "#V(g)$color[V(g)$school == \"B\"] = \"gray\"\n",
    "\n",
    "plot(g, vertex.label=NA)"
   ]
  },
  {
   "cell_type": "code",
   "execution_count": null,
   "metadata": {
    "collapsed": true,
    "level": 7
   },
   "outputs": [],
   "source": []
  },
  {
   "cell_type": "markdown",
   "metadata": {
    "level": 7
   },
   "source": [
    "What best describes the users with highest degree?\n",
    "\n",
    "- None of the high-degree users attended school A\n",
    "- Some, but not all, of the high-degree users attended school A\n",
    "- All of the high-degree users attended school A"
   ]
  },
  {
   "cell_type": "code",
   "execution_count": 18,
   "metadata": {
    "collapsed": false,
    "level": 7
   },
   "outputs": [
    {
     "data": {
      "image/png": "[encoded data removed]",
      "text/plain": [
       "Plot with title \"\""
      ]
     },
     "metadata": {},
     "output_type": "display_data"
    }
   ],
   "source": [
    "V(g)$color = \"black\"\n",
    "V(g)$color[V(g)$school == \"A\" & V(g)$size >= 10] = \"red\"\n",
    "#V(g)$color[V(g)$school == \"B\"] = \"gray\"\n",
    "\n",
    "plot(g, vertex.label=NA)"
   ]
  },
  {
   "cell_type": "markdown",
   "metadata": {
    "heading_collapsed": false,
    "level": 3
   },
   "source": [
    "### Explanation\n",
    "\n",
    "As with coloring by gender, we will set the color for all vertices to black, and then we will set the color for students from school A to red and the color for students from schools A and B to gray. Finally we will plot the updated graph:\n",
    "\n",
    "V(g)$color = \"black\"\n",
    "V(g)$color[V(g)$school == \"A\"] = \"red\"\n",
    "V(g)$color[V(g)$school == \"AB\"] = \"gray\"\n",
    "plot(g, vertex.label=NA)\n",
    "\n",
    "The two students who attended schools A and B are colored gray; we can see from the graph that they are Facebook friends (aka they are connected by an edge).\n",
    "\n",
    "The high-degree users (depicted by the large nodes) are a mixture of red and black color, meaning some of these users attended school A and other did not."
   ]
  },
  {
   "cell_type": "code",
   "execution_count": 19,
   "metadata": {
    "collapsed": false,
    "level": 7
   },
   "outputs": [
    {
     "data": {
      "image/png": "[encoded data removed]",
      "text/plain": [
       "Plot with title \"\""
      ]
     },
     "metadata": {},
     "output_type": "display_data"
    }
   ],
   "source": [
    "V(g)$color = \"black\"\n",
    "V(g)$color[V(g)$school == \"A\"] = \"red\"\n",
    "V(g)$color[V(g)$school == \"AB\"] = \"gray\"\n",
    "plot(g, vertex.label=NA)"
   ]
  },
  {
   "cell_type": "markdown",
   "metadata": {
    "heading_collapsed": false,
    "level": 2
   },
   "source": [
    "## Problem 3.3 - Coloring Vertices\n",
    "\n",
    "Now, color the vertices based on the locale of the user.\n",
    "\n",
    "The large connected component is most associated with which locale?\n",
    "\n",
    "The 4-user connected component is most associated with which locale?"
   ]
  },
  {
   "cell_type": "code",
   "execution_count": 20,
   "metadata": {
    "collapsed": false,
    "level": 7
   },
   "outputs": [
    {
     "data": {
      "image/png": "[encoded data removed]",
      "text/plain": [
       "Plot with title \"\""
      ]
     },
     "metadata": {},
     "output_type": "display_data"
    }
   ],
   "source": [
    "V(g)$color = \"black\"\n",
    "V(g)$color[V(g)$locale == \"A\"] = \"red\"\n",
    "V(g)$color[V(g)$locale == \"B\"] = \"gray\"\n",
    "plot(g, vertex.label=NA)"
   ]
  },
  {
   "cell_type": "markdown",
   "metadata": {
    "level": 7
   },
   "source": [
    "Nearly all of the vertices from the large connected component are colored gray, indicating users from Locale B.\n",
    "\n",
    "Meanwhile, all the vertices in the 4-user connected component are colored red, indicating users from Locale A."
   ]
  },
  {
   "cell_type": "markdown",
   "metadata": {
    "heading_collapsed": false,
    "level": 2
   },
   "source": [
    "## Problem 4 - Other Plotting Options\n",
    "\n",
    "The help page is a helpful tool when making visualizations. Answer the following questions with the help of ?igraph.plotting and experimentation in your R console.\n",
    "\n",
    "Which igraph plotting function would enable us to plot our graph in 3-D?\n",
    "\n",
    "What parameter to the plot() function would we use to change the edge width when plotting g?"
   ]
  },
  {
   "cell_type": "code",
   "execution_count": 21,
   "metadata": {
    "collapsed": true,
    "level": 7
   },
   "outputs": [],
   "source": [
    "?igraph.plotting "
   ]
  },
  {
   "cell_type": "markdown",
   "metadata": {
    "heading_collapsed": false,
    "level": 3
   },
   "source": [
    "### Explanation\n",
    "\n",
    "The three functions to plot the igraph are \n",
    "\n",
    "- plot.igraph (the function we used through the command \"plot\"), \n",
    "- tkplot, \n",
    "- and rglplot. \n",
    "\n",
    "rglplot makes 3-D plots -- you can try one with rglplot(g, vertex.label=NA).\n",
    "\n",
    "\n",
    "To change the edge width, you need to change the edge parameter called \"width\".\n",
    "\n",
    "From ?igraph.plotting, we read that we need to append the prefix \"edge.\" to the beginning for our call to plot, so the full parameter is called \"edge.width\". For instance, we could plot with edge width 2 with the command plot(g, edge.width=2, vertex.label=NA)."
   ]
  },
  {
   "cell_type": "code",
   "execution_count": 22,
   "metadata": {
    "collapsed": false
   },
   "outputs": [],
   "source": [
    "#install.packages(\"rgl\")\n",
    "rglplot(g, vertex.label=NA)"
   ]
  },
  {
   "cell_type": "code",
   "execution_count": 1,
   "metadata": {
    "collapsed": false
   },
   "outputs": [
    {
     "name": "stderr",
     "output_type": "stream",
     "text": [
      "Warning message:\n",
      "\"package 'rgl' was built under R version 3.3.2\""
     ]
    },
    {
     "ename": "ERROR",
     "evalue": "Error in eval(expr, envir, enclos): impossible de trouver la fonction \"rglplot\"\n",
     "output_type": "error",
     "traceback": [
      "Error in eval(expr, envir, enclos): impossible de trouver la fonction \"rglplot\"\nTraceback:\n"
     ]
    }
   ],
   "source": [
    "rglplot(g, vertex.label=NA)"
   ]
  },
  {
   "cell_type": "code",
   "execution_count": null,
   "metadata": {
    "collapsed": true
   },
   "outputs": [],
   "source": []
  }
 ],
 "metadata": {
  "anaconda-cloud": {},
  "kernelspec": {
   "display_name": "R",
   "language": "R",
   "name": "ir"
  },
  "language_info": {
   "codemirror_mode": "r",
   "file_extension": ".r",
   "mimetype": "text/x-r-source",
   "name": "R",
   "pygments_lexer": "r",
   "version": "3.3.1"
  },
  "latex_envs": {
   "bibliofile": "biblio.bib",
   "cite_by": "apalike",
   "current_citInitial": 1,
   "eqLabelWithNumbers": true,
   "eqNumInitial": 0
  },
  "toc": {
   "toc_cell": true,
   "toc_number_sections": true,
   "toc_threshold": 6,
   "toc_window_display": false
  }
 },
 "nbformat": 4,
 "nbformat_minor": 1
}
