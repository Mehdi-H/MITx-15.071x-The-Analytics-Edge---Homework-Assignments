{
 "cells": [
  {
   "cell_type": "markdown",
   "metadata": {
    "heading_collapsed": false,
    "level": 7,
    "toc": "true"
   },
   "source": [
    "# Table of Contents\n",
    " <p><div class=\"lev1\"><a href=\"#Bad-vs.-Good-Visualization\"><span class=\"toc-item-num\">1&nbsp;&nbsp;</span>Bad vs. Good Visualization</a></div><div class=\"lev2\"><a href=\"#Bar-charts\"><span class=\"toc-item-num\">1.1&nbsp;&nbsp;</span>Bar charts</a></div><div class=\"lev2\"><a href=\"#World-maps-in-R\"><span class=\"toc-item-num\">1.2&nbsp;&nbsp;</span>World maps in R</a></div><div class=\"lev2\"><a href=\"#Line-charts\"><span class=\"toc-item-num\">1.3&nbsp;&nbsp;</span>Line charts</a></div>"
   ]
  },
  {
   "cell_type": "markdown",
   "metadata": {
    "level": 7
   },
   "source": [
    "Bad vs. Good Visualization\n",
    "=========================="
   ]
  },
  {
   "cell_type": "markdown",
   "metadata": {
    "heading_collapsed": false,
    "level": 2
   },
   "source": [
    "## Bar charts"
   ]
  },
  {
   "cell_type": "code",
   "execution_count": 1,
   "metadata": {
    "collapsed": true
   },
   "outputs": [],
   "source": [
    "library(ggplot2)"
   ]
  },
  {
   "cell_type": "code",
   "execution_count": 7,
   "metadata": {
    "collapsed": false
   },
   "outputs": [],
   "source": [
    "intl <- read.csv(\"intl.csv\")"
   ]
  },
  {
   "cell_type": "code",
   "execution_count": 4,
   "metadata": {
    "collapsed": false
   },
   "outputs": [
    {
     "name": "stdout",
     "output_type": "stream",
     "text": [
      "'data.frame':\t8 obs. of  2 variables:\n",
      " $ Region       : Factor w/ 8 levels \"Africa\",\"Asia\",..: 2 3 6 4 5 1 7 8\n",
      " $ PercentOfIntl: num  0.531 0.201 0.098 0.09 0.054 0.02 0.015 0.002\n"
     ]
    }
   ],
   "source": [
    "str(intl)"
   ]
  },
  {
   "cell_type": "code",
   "execution_count": 5,
   "metadata": {
    "collapsed": false
   },
   "outputs": [
    {
     "data": {},
     "metadata": {},
     "output_type": "display_data"
    },
    {
     "data": {
      "image/png": "[encoded data removed]",
      "text/plain": [
       "plot without title"
      ]
     },
     "metadata": {},
     "output_type": "display_data"
    }
   ],
   "source": [
    "ggplot(intl, aes(x=Region, y=PercentOfIntl)) +\n",
    "geom_bar(stat=\"identity\") +\n",
    "geom_text(aes(label=PercentOfIntl))"
   ]
  },
  {
   "cell_type": "code",
   "execution_count": 8,
   "metadata": {
    "collapsed": false
   },
   "outputs": [
    {
     "name": "stdout",
     "output_type": "stream",
     "text": [
      "'data.frame':\t8 obs. of  2 variables:\n",
      " $ Region       : Factor w/ 8 levels \"Asia\",\"Europe\",..: 1 2 3 4 5 6 7 8\n",
      "  ..- attr(*, \"scores\")= num [1:8(1d)] -0.02 -0.531 -0.201 -0.09 -0.054 -0.098 -0.015 -0.002\n",
      "  .. ..- attr(*, \"dimnames\")=List of 1\n",
      "  .. .. ..$ : chr  \"Africa\" \"Asia\" \"Europe\" \"Latin Am. & Caribbean\" ...\n",
      " $ PercentOfIntl: num  0.531 0.201 0.098 0.09 0.054 0.02 0.015 0.002\n"
     ]
    }
   ],
   "source": [
    "intl <- transform(intl, Region=reorder(Region, -PercentOfIntl))\n",
    "str(intl)"
   ]
  },
  {
   "cell_type": "code",
   "execution_count": 9,
   "metadata": {
    "collapsed": true
   },
   "outputs": [],
   "source": [
    "intl$PercentOfIntl <- intl$PercentOfIntl * 100"
   ]
  },
  {
   "cell_type": "code",
   "execution_count": 12,
   "metadata": {
    "collapsed": false
   },
   "outputs": [
    {
     "data": {},
     "metadata": {},
     "output_type": "display_data"
    },
    {
     "data": {
      "image/png": "[encoded data removed]",
      "text/plain": [
       "plot without title"
      ]
     },
     "metadata": {},
     "output_type": "display_data"
    }
   ],
   "source": [
    "ggplot(intl, aes(x=Region, y=PercentOfIntl)) +\n",
    "geom_bar(stat=\"identity\", fill=\"darkblue\") +\n",
    "geom_text(aes(label=PercentOfIntl), vjust=-.4) +\n",
    "ylab(\"Percent of Internation Students\") +\n",
    "theme(\n",
    "    axis.title.x=element_blank(),\n",
    "    axis.text.x=element_text(angle=45, hjust=1)\n",
    ")"
   ]
  },
  {
   "cell_type": "markdown",
   "metadata": {
    "heading_collapsed": false,
    "level": 2
   },
   "source": [
    "## World maps in R"
   ]
  },
  {
   "cell_type": "code",
   "execution_count": 13,
   "metadata": {
    "collapsed": true
   },
   "outputs": [],
   "source": [
    "library(ggmap)"
   ]
  },
  {
   "cell_type": "code",
   "execution_count": 17,
   "metadata": {
    "collapsed": false
   },
   "outputs": [],
   "source": [
    "intlall <- read.csv(\"intlall.csv\", stringsAsFactors=FALSE)"
   ]
  },
  {
   "cell_type": "code",
   "execution_count": 18,
   "metadata": {
    "collapsed": false
   },
   "outputs": [
    {
     "name": "stdout",
     "output_type": "stream",
     "text": [
      "'data.frame':\t114 obs. of  7 variables:\n",
      " $ Citizenship    : chr  \"Albania\" \"Antigua and Barbuda\" \"Argentina\" \"Armenia\" ...\n",
      " $ UG             : int  3 NA NA 3 6 NA 2 3 1 1 ...\n",
      " $ G              : int  1 NA 19 2 32 11 NA 7 NA 8 ...\n",
      " $ SpecialUG      : int  0 NA NA NA NA NA NA NA NA NA ...\n",
      " $ SpecialG       : int  0 1 NA NA NA NA NA NA NA NA ...\n",
      " $ ExhangeVisiting: int  0 NA NA NA 1 5 NA NA NA 7 ...\n",
      " $ Total          : int  4 1 19 5 39 16 2 10 1 16 ...\n"
     ]
    }
   ],
   "source": [
    "str(intlall)"
   ]
  },
  {
   "cell_type": "code",
   "execution_count": 19,
   "metadata": {
    "collapsed": false
   },
   "outputs": [
    {
     "data": {
      "text/html": [
       "<table>\n",
       "<thead><tr><th></th><th scope=col>Citizenship</th><th scope=col>UG</th><th scope=col>G</th><th scope=col>SpecialUG</th><th scope=col>SpecialG</th><th scope=col>ExhangeVisiting</th><th scope=col>Total</th></tr></thead>\n",
       "<tbody>\n",
       "\t<tr><th scope=row>1</th><td>Albania</td><td>3      </td><td>1      </td><td>0      </td><td>0      </td><td>0      </td><td>4      </td></tr>\n",
       "\t<tr><th scope=row>2</th><td>Antigua and Barbuda</td><td>NA                 </td><td>NA                 </td><td>NA                 </td><td>1                  </td><td>NA                 </td><td>1                  </td></tr>\n",
       "\t<tr><th scope=row>3</th><td>Argentina</td><td>NA       </td><td>19       </td><td>NA       </td><td>NA       </td><td>NA       </td><td>19       </td></tr>\n",
       "\t<tr><th scope=row>4</th><td>Armenia</td><td>3      </td><td>2      </td><td>NA     </td><td>NA     </td><td>NA     </td><td>5      </td></tr>\n",
       "\t<tr><th scope=row>5</th><td>Australia</td><td>6        </td><td>32       </td><td>NA       </td><td>NA       </td><td>1        </td><td>39       </td></tr>\n",
       "\t<tr><th scope=row>6</th><td>Austria</td><td>NA     </td><td>11     </td><td>NA     </td><td>NA     </td><td>5      </td><td>16     </td></tr>\n",
       "</tbody>\n",
       "</table>\n"
      ],
      "text/latex": [
       "\\begin{tabular}{r|lllllll}\n",
       "  & Citizenship & UG & G & SpecialUG & SpecialG & ExhangeVisiting & Total\\\\\n",
       "\\hline\n",
       "\t1 & Albania & 3       & 1       & 0       & 0       & 0       & 4      \\\\\n",
       "\t2 & Antigua and Barbuda & NA                  & NA                  & NA                  & 1                   & NA                  & 1                  \\\\\n",
       "\t3 & Argentina & NA        & 19        & NA        & NA        & NA        & 19       \\\\\n",
       "\t4 & Armenia & 3       & 2       & NA      & NA      & NA      & 5      \\\\\n",
       "\t5 & Australia & 6         & 32        & NA        & NA        & 1         & 39       \\\\\n",
       "\t6 & Austria & NA      & 11      & NA      & NA      & 5       & 16     \\\\\n",
       "\\end{tabular}\n"
      ],
      "text/plain": [
       "          Citizenship UG  G SpecialUG SpecialG ExhangeVisiting Total\n",
       "1             Albania  3  1         0        0               0     4\n",
       "2 Antigua and Barbuda NA NA        NA        1              NA     1\n",
       "3           Argentina NA 19        NA       NA              NA    19\n",
       "4             Armenia  3  2        NA       NA              NA     5\n",
       "5           Australia  6 32        NA       NA               1    39\n",
       "6             Austria NA 11        NA       NA               5    16"
      ]
     },
     "metadata": {},
     "output_type": "display_data"
    }
   ],
   "source": [
    "head(intlall)"
   ]
  },
  {
   "cell_type": "code",
   "execution_count": 20,
   "metadata": {
    "collapsed": true
   },
   "outputs": [],
   "source": [
    "intlall[is.na(intlall)] = 0"
   ]
  },
  {
   "cell_type": "code",
   "execution_count": 21,
   "metadata": {
    "collapsed": false
   },
   "outputs": [
    {
     "data": {
      "text/html": [
       "<table>\n",
       "<thead><tr><th></th><th scope=col>Citizenship</th><th scope=col>UG</th><th scope=col>G</th><th scope=col>SpecialUG</th><th scope=col>SpecialG</th><th scope=col>ExhangeVisiting</th><th scope=col>Total</th></tr></thead>\n",
       "<tbody>\n",
       "\t<tr><th scope=row>1</th><td>Albania</td><td>3      </td><td>1      </td><td>0      </td><td>0      </td><td>0      </td><td>4      </td></tr>\n",
       "\t<tr><th scope=row>2</th><td>Antigua and Barbuda</td><td>0                  </td><td>0                  </td><td>0                  </td><td>1                  </td><td>0                  </td><td>1                  </td></tr>\n",
       "\t<tr><th scope=row>3</th><td>Argentina</td><td>0        </td><td>19       </td><td>0        </td><td>0        </td><td>0        </td><td>19       </td></tr>\n",
       "\t<tr><th scope=row>4</th><td>Armenia</td><td>3      </td><td>2      </td><td>0      </td><td>0      </td><td>0      </td><td>5      </td></tr>\n",
       "\t<tr><th scope=row>5</th><td>Australia</td><td>6        </td><td>32       </td><td>0        </td><td>0        </td><td>1        </td><td>39       </td></tr>\n",
       "\t<tr><th scope=row>6</th><td>Austria</td><td>0      </td><td>11     </td><td>0      </td><td>0      </td><td>5      </td><td>16     </td></tr>\n",
       "</tbody>\n",
       "</table>\n"
      ],
      "text/latex": [
       "\\begin{tabular}{r|lllllll}\n",
       "  & Citizenship & UG & G & SpecialUG & SpecialG & ExhangeVisiting & Total\\\\\n",
       "\\hline\n",
       "\t1 & Albania & 3       & 1       & 0       & 0       & 0       & 4      \\\\\n",
       "\t2 & Antigua and Barbuda & 0                   & 0                   & 0                   & 1                   & 0                   & 1                  \\\\\n",
       "\t3 & Argentina & 0         & 19        & 0         & 0         & 0         & 19       \\\\\n",
       "\t4 & Armenia & 3       & 2       & 0       & 0       & 0       & 5      \\\\\n",
       "\t5 & Australia & 6         & 32        & 0         & 0         & 1         & 39       \\\\\n",
       "\t6 & Austria & 0       & 11      & 0       & 0       & 5       & 16     \\\\\n",
       "\\end{tabular}\n"
      ],
      "text/plain": [
       "          Citizenship UG  G SpecialUG SpecialG ExhangeVisiting Total\n",
       "1             Albania  3  1         0        0               0     4\n",
       "2 Antigua and Barbuda  0  0         0        1               0     1\n",
       "3           Argentina  0 19         0        0               0    19\n",
       "4             Armenia  3  2         0        0               0     5\n",
       "5           Australia  6 32         0        0               1    39\n",
       "6             Austria  0 11         0        0               5    16"
      ]
     },
     "metadata": {},
     "output_type": "display_data"
    }
   ],
   "source": [
    "head(intlall)"
   ]
  },
  {
   "cell_type": "code",
   "execution_count": 22,
   "metadata": {
    "collapsed": false
   },
   "outputs": [
    {
     "name": "stdout",
     "output_type": "stream",
     "text": [
      "'data.frame':\t99338 obs. of  6 variables:\n",
      " $ long     : num  -69.9 -69.9 -69.9 -70 -70.1 ...\n",
      " $ lat      : num  12.5 12.4 12.4 12.5 12.5 ...\n",
      " $ group    : num  1 1 1 1 1 1 1 1 1 1 ...\n",
      " $ order    : int  1 2 3 4 5 6 7 8 9 10 ...\n",
      " $ region   : chr  \"Aruba\" \"Aruba\" \"Aruba\" \"Aruba\" ...\n",
      " $ subregion: chr  NA NA NA NA ...\n"
     ]
    }
   ],
   "source": [
    "world_map <- map_data(\"world\")\n",
    "str(world_map)"
   ]
  },
  {
   "cell_type": "code",
   "execution_count": 24,
   "metadata": {
    "collapsed": false
   },
   "outputs": [],
   "source": [
    "world_map <- merge(world_map, intlall, by.x=\"region\", by.y=\"Citizenship\")"
   ]
  },
  {
   "cell_type": "code",
   "execution_count": 26,
   "metadata": {
    "collapsed": false
   },
   "outputs": [
    {
     "name": "stdout",
     "output_type": "stream",
     "text": [
      "'data.frame':\t63634 obs. of  12 variables:\n",
      " $ region         : chr  \"Albania\" \"Albania\" \"Albania\" \"Albania\" ...\n",
      " $ long           : num  20.5 20.4 19.5 20.5 20.4 ...\n",
      " $ lat            : num  41.3 39.8 42.5 40.1 41.5 ...\n",
      " $ group          : num  6 6 6 6 6 6 6 6 6 6 ...\n",
      " $ order          : int  789 822 870 815 786 821 818 779 879 795 ...\n",
      " $ subregion      : chr  NA NA NA NA ...\n",
      " $ UG             : num  3 3 3 3 3 3 3 3 3 3 ...\n",
      " $ G              : num  1 1 1 1 1 1 1 1 1 1 ...\n",
      " $ SpecialUG      : num  0 0 0 0 0 0 0 0 0 0 ...\n",
      " $ SpecialG       : num  0 0 0 0 0 0 0 0 0 0 ...\n",
      " $ ExhangeVisiting: num  0 0 0 0 0 0 0 0 0 0 ...\n",
      " $ Total          : int  4 4 4 4 4 4 4 4 4 4 ...\n"
     ]
    }
   ],
   "source": [
    "str(world_map)"
   ]
  },
  {
   "cell_type": "code",
   "execution_count": 27,
   "metadata": {
    "collapsed": false
   },
   "outputs": [
    {
     "data": {},
     "metadata": {},
     "output_type": "display_data"
    },
    {
     "data": {
      "image/png": "[encoded data removed]",
      "text/plain": [
       "plot without title"
      ]
     },
     "metadata": {},
     "output_type": "display_data"
    }
   ],
   "source": [
    "ggplot(world_map, aes(x=long, y=lat, group=group)) +\n",
    "geom_polygon(fill=\"white\", color=\"black\") +\n",
    "coord_map(\"mercator\")"
   ]
  },
  {
   "cell_type": "code",
   "execution_count": 28,
   "metadata": {
    "collapsed": true
   },
   "outputs": [],
   "source": [
    "world_map <- world_map[order(world_map$group, world_map$order),]"
   ]
  },
  {
   "cell_type": "code",
   "execution_count": 39,
   "metadata": {
    "collapsed": false
   },
   "outputs": [
    {
     "data": {},
     "metadata": {},
     "output_type": "display_data"
    },
    {
     "data": {
      "image/png": "[encoded data removed]",
      "text/plain": [
       "plot without title"
      ]
     },
     "metadata": {},
     "output_type": "display_data"
    }
   ],
   "source": [
    "ggplot(world_map, aes(x=long, y=lat, group=group)) +\n",
    "geom_polygon(fill=\"white\", color=\"black\") +\n",
    "coord_map(\"mercator\")"
   ]
  },
  {
   "cell_type": "code",
   "execution_count": 38,
   "metadata": {
    "collapsed": false,
    "scrolled": true
   },
   "outputs": [
    {
     "data": {
      "text/plain": [
       "\n",
       "                     Albania          Antigua and Barbuda \n",
       "                           1                            1 \n",
       "                   Argentina                      Armenia \n",
       "                           1                            1 \n",
       "                   Australia                      Austria \n",
       "                           1                            1 \n",
       "                     Bahrain                   Bangladesh \n",
       "                           1                            1 \n",
       "                     Belarus                      Belgium \n",
       "                           1                            1 \n",
       "                     Bolivia           Bosnia-Hercegovina \n",
       "                           1                            1 \n",
       "                      Brazil                     Bulgaria \n",
       "                           1                            1 \n",
       "                    Cambodia                     Cameroon \n",
       "                           1                            1 \n",
       "                      Canada                        Chile \n",
       "                           1                            1 \n",
       "                       China                     Colombia \n",
       "                           1                            1 \n",
       "                  Costa Rica                Cote d'Ivoire \n",
       "                           1                            1 \n",
       "                     Croatia                       Cyprus \n",
       "                           1                            1 \n",
       "              Czech Republic                      Denmark \n",
       "                           1                            1 \n",
       "                     Ecuador                        Egypt \n",
       "                           1                            1 \n",
       "                 El Salvador                      Estonia \n",
       "                           1                            1 \n",
       "                    Ethiopia                      Finland \n",
       "                           1                            1 \n",
       "                      France                      Georgia \n",
       "                           1                            1 \n",
       "                     Germany                        Ghana \n",
       "                           1                            1 \n",
       "                      Greece                    Guatemala \n",
       "                           1                            1 \n",
       "                       Haiti                    Hong Kong \n",
       "                           1                            1 \n",
       "                     Hungary                      Iceland \n",
       "                           1                            1 \n",
       "                       India                    Indonesia \n",
       "                           1                            1 \n",
       "                        Iran                         Iraq \n",
       "                           1                            1 \n",
       "                     Ireland                       Israel \n",
       "                           1                            1 \n",
       "                       Italy                      Jamaica \n",
       "                           1                            1 \n",
       "                       Japan                       Jordan \n",
       "                           1                            1 \n",
       "                  Kazakhstan                        Kenya \n",
       "                           1                            1 \n",
       "                Korea, South                       Kuwait \n",
       "                           1                            1 \n",
       "                      Latvia                      Lebanon \n",
       "                           1                            1 \n",
       "                   Lithuania                    Macedonia \n",
       "                           1                            1 \n",
       "                    Malaysia                    Mauritius \n",
       "                           1                            1 \n",
       "                      Mexico                      Moldova \n",
       "                           1                            1 \n",
       "                    Mongolia                   Montenegro \n",
       "                           1                            1 \n",
       "                     Morocco                        Nepal \n",
       "                           1                            1 \n",
       "                 Netherlands                  New Zealand \n",
       "                           1                            1 \n",
       "                     Nigeria                       Norway \n",
       "                           1                            1 \n",
       "                    Pakistan                     Paraguay \n",
       "                           1                            1 \n",
       "                        Peru                  Philippines \n",
       "                           1                            1 \n",
       "                      Poland                     Portugal \n",
       "                           1                            1 \n",
       "                       Qatar                      Romania \n",
       "                           1                            1 \n",
       "                      Russia                       Rwanda \n",
       "                           1                            1 \n",
       "                Saudi Arabia                       Serbia \n",
       "                           1                            1 \n",
       "                Sierra Leone                    Singapore \n",
       "                           1                            1 \n",
       "                    Slovakia                      Somalia \n",
       "                           1                            1 \n",
       "                South Africa                        Spain \n",
       "                           1                            1 \n",
       "                   Sri Lanka                    St. Lucia \n",
       "                           1                            1 \n",
       "St. Vincent & The Grenadines                        Sudan \n",
       "                           1                            1 \n",
       "                      Sweden                  Switzerland \n",
       "                           1                            1 \n",
       "                       Syria                       Taiwan \n",
       "                           1                            1 \n",
       "                    Tanzania                     Thailand \n",
       "                           1                            1 \n",
       "           Trinidad & Tobago                      Tunisia \n",
       "                           1                            1 \n",
       "                      Turkey                       Uganda \n",
       "                           1                            1 \n",
       "                     Ukraine         United Arab Emirates \n",
       "                           1                            1 \n",
       "              United Kingdom                      Unknown \n",
       "                           1                            1 \n",
       "                     Uruguay                    Venezuela \n",
       "                           1                            1 \n",
       "                     Vietnam                    West Bank \n",
       "                           1                            1 \n",
       "                      Zambia                     Zimbabwe \n",
       "                           1                            1 "
      ]
     },
     "metadata": {},
     "output_type": "display_data"
    }
   ],
   "source": [
    "table(intlall$Citizenship)"
   ]
  },
  {
   "cell_type": "code",
   "execution_count": 31,
   "metadata": {
    "collapsed": false,
    "scrolled": true
   },
   "outputs": [
    {
     "data": {
      "text/plain": [
       "\n",
       "             Albania            Argentina              Armenia \n",
       "                 113                 1039                  146 \n",
       "           Australia              Austria              Bahrain \n",
       "                1804                  272                   13 \n",
       "          Bangladesh              Belarus              Belgium \n",
       "                 384                  321                  163 \n",
       "             Bolivia               Brazil             Bulgaria \n",
       "                 418                 1885                  179 \n",
       "            Cambodia             Cameroon               Canada \n",
       "                 221                  350                11573 \n",
       "               Chile             Colombia           Costa Rica \n",
       "                2006                  623                  133 \n",
       "             Croatia               Cyprus       Czech Republic \n",
       "                 374                  100                  240 \n",
       "             Denmark              Ecuador                Egypt \n",
       "                 298                  347                  253 \n",
       "         El Salvador              Estonia             Ethiopia \n",
       "                  74                  195                  302 \n",
       "             Finland               France              Georgia \n",
       "                 571                  605                  164 \n",
       "             Germany                Ghana               Greece \n",
       "                 568                  217                  923 \n",
       "           Guatemala                Haiti              Hungary \n",
       "                 115                  112                  214 \n",
       "             Iceland                India            Indonesia \n",
       "                 453                 1518                 3715 \n",
       "                Iran                 Iraq              Ireland \n",
       "                 605                  233                  315 \n",
       "              Israel                Italy              Jamaica \n",
       "                 105                  601                   48 \n",
       "               Japan               Jordan           Kazakhstan \n",
       "                1097                   96                 1140 \n",
       "               Kenya               Kuwait               Latvia \n",
       "                 225                   67                  140 \n",
       "             Lebanon            Lithuania            Macedonia \n",
       "                  62                  155                   81 \n",
       "            Malaysia            Mauritius               Mexico \n",
       "                 509                   19                 1015 \n",
       "             Moldova             Mongolia           Montenegro \n",
       "                 149                  736                   92 \n",
       "             Morocco                Nepal          Netherlands \n",
       "                 368                  202                  282 \n",
       "         New Zealand              Nigeria               Norway \n",
       "                 775                  364                 1985 \n",
       "            Pakistan             Paraguay                 Peru \n",
       "                 571                  257                  589 \n",
       "         Philippines               Poland             Portugal \n",
       "                1238                  316                  186 \n",
       "               Qatar              Romania               Russia \n",
       "                  34                  274                 7354 \n",
       "              Rwanda         Saudi Arabia               Serbia \n",
       "                  83                  436                  267 \n",
       "        Sierra Leone            Singapore             Slovakia \n",
       "                 126                    9                  145 \n",
       "             Somalia         South Africa                Spain \n",
       "                 222                  442                  448 \n",
       "           Sri Lanka                Sudan               Sweden \n",
       "                  92                  447                  593 \n",
       "         Switzerland                Syria               Taiwan \n",
       "                 187                  170                   68 \n",
       "            Tanzania             Thailand              Tunisia \n",
       "                 376                  578                  186 \n",
       "              Turkey               Uganda              Ukraine \n",
       "                 562                  180                  678 \n",
       "United Arab Emirates              Uruguay            Venezuela \n",
       "                 183                  143                  567 \n",
       "             Vietnam               Zambia             Zimbabwe \n",
       "                 613                  377                  170 "
      ]
     },
     "metadata": {},
     "output_type": "display_data"
    }
   ],
   "source": [
    "table(world_map$region)"
   ]
  },
  {
   "cell_type": "code",
   "execution_count": 37,
   "metadata": {
    "collapsed": true
   },
   "outputs": [],
   "source": [
    "intlall$Citizenship[intlall$Citizenship == \"China (People's Republic Of)\"] = \"China\""
   ]
  },
  {
   "cell_type": "code",
   "execution_count": 45,
   "metadata": {
    "collapsed": false
   },
   "outputs": [],
   "source": [
    "world_map <- merge(map_data(\"world\"), intlall, by.x=\"region\", by.y=\"Citizenship\")"
   ]
  },
  {
   "cell_type": "code",
   "execution_count": 46,
   "metadata": {
    "collapsed": true
   },
   "outputs": [],
   "source": [
    "world_map <- world_map[order(world_map$group, world_map$order),]"
   ]
  },
  {
   "cell_type": "code",
   "execution_count": 49,
   "metadata": {
    "collapsed": false
   },
   "outputs": [
    {
     "data": {},
     "metadata": {},
     "output_type": "display_data"
    },
    {
     "data": {
      "image/png": "[encoded data removed]",
      "text/plain": [
       "plot without title"
      ]
     },
     "metadata": {},
     "output_type": "display_data"
    }
   ],
   "source": [
    "ggplot(world_map, aes(x=long, y=lat, group=group)) +\n",
    "geom_polygon(aes(fill=Total), color=\"black\") +\n",
    "coord_map(\"mercator\")"
   ]
  },
  {
   "cell_type": "code",
   "execution_count": 50,
   "metadata": {
    "collapsed": false
   },
   "outputs": [
    {
     "data": {},
     "metadata": {},
     "output_type": "display_data"
    },
    {
     "data": {
      "image/png": "[encoded data removed]",
      "text/plain": [
       "plot without title"
      ]
     },
     "metadata": {},
     "output_type": "display_data"
    }
   ],
   "source": [
    "ggplot(world_map, aes(x=long, y=lat, group=group)) +\n",
    "geom_polygon(aes(fill=Total), color=\"black\") +\n",
    "coord_map(\"ortho\", orientation=c(20, 30, 0))"
   ]
  },
  {
   "cell_type": "code",
   "execution_count": 51,
   "metadata": {
    "collapsed": false
   },
   "outputs": [
    {
     "data": {},
     "metadata": {},
     "output_type": "display_data"
    },
    {
     "data": {
      "image/png": "[encoded data removed]",
      "text/plain": [
       "plot without title"
      ]
     },
     "metadata": {},
     "output_type": "display_data"
    }
   ],
   "source": [
    "ggplot(world_map, aes(x=long, y=lat, group=group)) +\n",
    "geom_polygon(aes(fill=Total), color=\"black\") +\n",
    "coord_map(\"ortho\", orientation=c(-37, 175, 0))"
   ]
  },
  {
   "cell_type": "markdown",
   "metadata": {
    "heading_collapsed": false,
    "level": 2
   },
   "source": [
    "## Line charts"
   ]
  },
  {
   "cell_type": "code",
   "execution_count": 52,
   "metadata": {
    "collapsed": true
   },
   "outputs": [],
   "source": [
    "library(ggplot2)"
   ]
  },
  {
   "cell_type": "code",
   "execution_count": 53,
   "metadata": {
    "collapsed": true
   },
   "outputs": [],
   "source": [
    "households <- read.csv(\"households.csv\")"
   ]
  },
  {
   "cell_type": "code",
   "execution_count": 54,
   "metadata": {
    "collapsed": false
   },
   "outputs": [
    {
     "name": "stdout",
     "output_type": "stream",
     "text": [
      "'data.frame':\t8 obs. of  7 variables:\n",
      " $ Year          : int  1970 1980 1990 1995 2000 2005 2010 2012\n",
      " $ MarriedWChild : num  40.3 30.9 26.3 25.5 24.1 22.9 20.9 19.6\n",
      " $ MarriedWOChild: num  30.3 29.9 29.8 28.9 28.7 28.3 28.8 29.1\n",
      " $ OtherFamily   : num  10.6 12.9 14.8 15.6 16 16.7 17.4 17.8\n",
      " $ MenAlone      : num  5.6 8.6 9.7 10.2 10.7 11.3 11.9 12.3\n",
      " $ WomenAlone    : num  11.5 14 14.9 14.7 14.8 15.3 14.8 15.2\n",
      " $ OtherNonfamily: num  1.7 3.6 4.6 5 5.7 5.6 6.2 6.1\n"
     ]
    }
   ],
   "source": [
    "str(households)"
   ]
  },
  {
   "cell_type": "code",
   "execution_count": 55,
   "metadata": {
    "collapsed": true
   },
   "outputs": [],
   "source": [
    "library(reshape2)"
   ]
  },
  {
   "cell_type": "code",
   "execution_count": 56,
   "metadata": {
    "collapsed": false
   },
   "outputs": [
    {
     "data": {
      "text/html": [
       "<table>\n",
       "<thead><tr><th></th><th scope=col>Year</th><th scope=col>MarriedWChild</th></tr></thead>\n",
       "<tbody>\n",
       "\t<tr><th scope=row>1</th><td>1970.0</td><td>  40.3</td></tr>\n",
       "\t<tr><th scope=row>2</th><td>1980.0</td><td>  30.9</td></tr>\n",
       "\t<tr><th scope=row>3</th><td>1990.0</td><td>  26.3</td></tr>\n",
       "\t<tr><th scope=row>4</th><td>1995.0</td><td>  25.5</td></tr>\n",
       "\t<tr><th scope=row>5</th><td>2000.0</td><td>  24.1</td></tr>\n",
       "\t<tr><th scope=row>6</th><td>2005.0</td><td>  22.9</td></tr>\n",
       "\t<tr><th scope=row>7</th><td>2010.0</td><td>  20.9</td></tr>\n",
       "\t<tr><th scope=row>8</th><td>2012.0</td><td>  19.6</td></tr>\n",
       "</tbody>\n",
       "</table>\n"
      ],
      "text/latex": [
       "\\begin{tabular}{r|ll}\n",
       "  & Year & MarriedWChild\\\\\n",
       "\\hline\n",
       "\t1 & 1970.0 &   40.3\\\\\n",
       "\t2 & 1980.0 &   30.9\\\\\n",
       "\t3 & 1990.0 &   26.3\\\\\n",
       "\t4 & 1995.0 &   25.5\\\\\n",
       "\t5 & 2000.0 &   24.1\\\\\n",
       "\t6 & 2005.0 &   22.9\\\\\n",
       "\t7 & 2010.0 &   20.9\\\\\n",
       "\t8 & 2012.0 &   19.6\\\\\n",
       "\\end{tabular}\n"
      ],
      "text/plain": [
       "  Year MarriedWChild\n",
       "1 1970          40.3\n",
       "2 1980          30.9\n",
       "3 1990          26.3\n",
       "4 1995          25.5\n",
       "5 2000          24.1\n",
       "6 2005          22.9\n",
       "7 2010          20.9\n",
       "8 2012          19.6"
      ]
     },
     "metadata": {},
     "output_type": "display_data"
    }
   ],
   "source": [
    "households[,1:2]"
   ]
  },
  {
   "cell_type": "code",
   "execution_count": 57,
   "metadata": {
    "collapsed": false
   },
   "outputs": [
    {
     "data": {
      "text/html": [
       "<table>\n",
       "<thead><tr><th></th><th scope=col>Year</th><th scope=col>variable</th><th scope=col>value</th></tr></thead>\n",
       "<tbody>\n",
       "\t<tr><th scope=row>1</th><td>1970         </td><td>MarriedWChild</td><td>40.3         </td></tr>\n",
       "\t<tr><th scope=row>2</th><td>1980         </td><td>MarriedWChild</td><td>30.9         </td></tr>\n",
       "\t<tr><th scope=row>3</th><td>1990         </td><td>MarriedWChild</td><td>26.3         </td></tr>\n",
       "\t<tr><th scope=row>4</th><td>1995         </td><td>MarriedWChild</td><td>25.5         </td></tr>\n",
       "\t<tr><th scope=row>5</th><td>2000         </td><td>MarriedWChild</td><td>24.1         </td></tr>\n",
       "\t<tr><th scope=row>6</th><td>2005         </td><td>MarriedWChild</td><td>22.9         </td></tr>\n",
       "</tbody>\n",
       "</table>\n"
      ],
      "text/latex": [
       "\\begin{tabular}{r|lll}\n",
       "  & Year & variable & value\\\\\n",
       "\\hline\n",
       "\t1 & 1970          & MarriedWChild & 40.3         \\\\\n",
       "\t2 & 1980          & MarriedWChild & 30.9         \\\\\n",
       "\t3 & 1990          & MarriedWChild & 26.3         \\\\\n",
       "\t4 & 1995          & MarriedWChild & 25.5         \\\\\n",
       "\t5 & 2000          & MarriedWChild & 24.1         \\\\\n",
       "\t6 & 2005          & MarriedWChild & 22.9         \\\\\n",
       "\\end{tabular}\n"
      ],
      "text/plain": [
       "  Year      variable value\n",
       "1 1970 MarriedWChild  40.3\n",
       "2 1980 MarriedWChild  30.9\n",
       "3 1990 MarriedWChild  26.3\n",
       "4 1995 MarriedWChild  25.5\n",
       "5 2000 MarriedWChild  24.1\n",
       "6 2005 MarriedWChild  22.9"
      ]
     },
     "metadata": {},
     "output_type": "display_data"
    }
   ],
   "source": [
    "head(melt(households, id=\"Year\"))"
   ]
  },
  {
   "cell_type": "code",
   "execution_count": 58,
   "metadata": {
    "collapsed": false
   },
   "outputs": [
    {
     "data": {
      "text/html": [
       "<table>\n",
       "<thead><tr><th></th><th scope=col>Year</th><th scope=col>MarriedWChild</th><th scope=col>MarriedWOChild</th></tr></thead>\n",
       "<tbody>\n",
       "\t<tr><th scope=row>1</th><td>1970.0</td><td>  40.3</td><td>  30.3</td></tr>\n",
       "\t<tr><th scope=row>2</th><td>1980.0</td><td>  30.9</td><td>  29.9</td></tr>\n",
       "\t<tr><th scope=row>3</th><td>1990.0</td><td>  26.3</td><td>  29.8</td></tr>\n",
       "\t<tr><th scope=row>4</th><td>1995.0</td><td>  25.5</td><td>  28.9</td></tr>\n",
       "\t<tr><th scope=row>5</th><td>2000.0</td><td>  24.1</td><td>  28.7</td></tr>\n",
       "\t<tr><th scope=row>6</th><td>2005.0</td><td>  22.9</td><td>  28.3</td></tr>\n",
       "\t<tr><th scope=row>7</th><td>2010.0</td><td>  20.9</td><td>  28.8</td></tr>\n",
       "\t<tr><th scope=row>8</th><td>2012.0</td><td>  19.6</td><td>  29.1</td></tr>\n",
       "</tbody>\n",
       "</table>\n"
      ],
      "text/latex": [
       "\\begin{tabular}{r|lll}\n",
       "  & Year & MarriedWChild & MarriedWOChild\\\\\n",
       "\\hline\n",
       "\t1 & 1970.0 &   40.3 &   30.3\\\\\n",
       "\t2 & 1980.0 &   30.9 &   29.9\\\\\n",
       "\t3 & 1990.0 &   26.3 &   29.8\\\\\n",
       "\t4 & 1995.0 &   25.5 &   28.9\\\\\n",
       "\t5 & 2000.0 &   24.1 &   28.7\\\\\n",
       "\t6 & 2005.0 &   22.9 &   28.3\\\\\n",
       "\t7 & 2010.0 &   20.9 &   28.8\\\\\n",
       "\t8 & 2012.0 &   19.6 &   29.1\\\\\n",
       "\\end{tabular}\n"
      ],
      "text/plain": [
       "  Year MarriedWChild MarriedWOChild\n",
       "1 1970          40.3           30.3\n",
       "2 1980          30.9           29.9\n",
       "3 1990          26.3           29.8\n",
       "4 1995          25.5           28.9\n",
       "5 2000          24.1           28.7\n",
       "6 2005          22.9           28.3\n",
       "7 2010          20.9           28.8\n",
       "8 2012          19.6           29.1"
      ]
     },
     "metadata": {},
     "output_type": "display_data"
    }
   ],
   "source": [
    "households[,1:3]"
   ]
  },
  {
   "cell_type": "code",
   "execution_count": 59,
   "metadata": {
    "collapsed": false
   },
   "outputs": [
    {
     "data": {
      "text/html": [
       "<table>\n",
       "<thead><tr><th></th><th scope=col>Year</th><th scope=col>variable</th><th scope=col>value</th></tr></thead>\n",
       "<tbody>\n",
       "\t<tr><th scope=row>1</th><td>1970         </td><td>MarriedWChild</td><td>40.3         </td></tr>\n",
       "\t<tr><th scope=row>2</th><td>1980         </td><td>MarriedWChild</td><td>30.9         </td></tr>\n",
       "\t<tr><th scope=row>3</th><td>1990         </td><td>MarriedWChild</td><td>26.3         </td></tr>\n",
       "\t<tr><th scope=row>4</th><td>1995         </td><td>MarriedWChild</td><td>25.5         </td></tr>\n",
       "\t<tr><th scope=row>5</th><td>2000         </td><td>MarriedWChild</td><td>24.1         </td></tr>\n",
       "\t<tr><th scope=row>6</th><td>2005         </td><td>MarriedWChild</td><td>22.9         </td></tr>\n",
       "\t<tr><th scope=row>7</th><td>2010         </td><td>MarriedWChild</td><td>20.9         </td></tr>\n",
       "\t<tr><th scope=row>8</th><td>2012         </td><td>MarriedWChild</td><td>19.6         </td></tr>\n",
       "\t<tr><th scope=row>9</th><td>1970          </td><td>MarriedWOChild</td><td>30.3          </td></tr>\n",
       "\t<tr><th scope=row>10</th><td>1980          </td><td>MarriedWOChild</td><td>29.9          </td></tr>\n",
       "</tbody>\n",
       "</table>\n"
      ],
      "text/latex": [
       "\\begin{tabular}{r|lll}\n",
       "  & Year & variable & value\\\\\n",
       "\\hline\n",
       "\t1 & 1970          & MarriedWChild & 40.3         \\\\\n",
       "\t2 & 1980          & MarriedWChild & 30.9         \\\\\n",
       "\t3 & 1990          & MarriedWChild & 26.3         \\\\\n",
       "\t4 & 1995          & MarriedWChild & 25.5         \\\\\n",
       "\t5 & 2000          & MarriedWChild & 24.1         \\\\\n",
       "\t6 & 2005          & MarriedWChild & 22.9         \\\\\n",
       "\t7 & 2010          & MarriedWChild & 20.9         \\\\\n",
       "\t8 & 2012          & MarriedWChild & 19.6         \\\\\n",
       "\t9 & 1970           & MarriedWOChild & 30.3          \\\\\n",
       "\t10 & 1980           & MarriedWOChild & 29.9          \\\\\n",
       "\\end{tabular}\n"
      ],
      "text/plain": [
       "   Year       variable value\n",
       "1  1970  MarriedWChild  40.3\n",
       "2  1980  MarriedWChild  30.9\n",
       "3  1990  MarriedWChild  26.3\n",
       "4  1995  MarriedWChild  25.5\n",
       "5  2000  MarriedWChild  24.1\n",
       "6  2005  MarriedWChild  22.9\n",
       "7  2010  MarriedWChild  20.9\n",
       "8  2012  MarriedWChild  19.6\n",
       "9  1970 MarriedWOChild  30.3\n",
       "10 1980 MarriedWOChild  29.9"
      ]
     },
     "metadata": {},
     "output_type": "display_data"
    }
   ],
   "source": [
    "melt(households, id=\"Year\")[1:10,]"
   ]
  },
  {
   "cell_type": "code",
   "execution_count": 61,
   "metadata": {
    "collapsed": false
   },
   "outputs": [
    {
     "data": {},
     "metadata": {},
     "output_type": "display_data"
    },
    {
     "data": {
      "image/png": "[encoded data removed]",
      "text/plain": [
       "plot without title"
      ]
     },
     "metadata": {},
     "output_type": "display_data"
    }
   ],
   "source": [
    "ggplot(melt(households, id=\"Year\"), aes(x=Year, y=value, color=variable)) +\n",
    "geom_line(size=2) +\n",
    "geom_point(size=5) +\n",
    "ylab(\"Percentage of households\")"
   ]
  },
  {
   "cell_type": "code",
   "execution_count": null,
   "metadata": {
    "collapsed": true
   },
   "outputs": [],
   "source": []
  }
 ],
 "metadata": {
  "anaconda-cloud": {},
  "kernelspec": {
   "display_name": "R",
   "language": "R",
   "name": "ir"
  },
  "language_info": {
   "codemirror_mode": "r",
   "file_extension": ".r",
   "mimetype": "text/x-r-source",
   "name": "R",
   "pygments_lexer": "r",
   "version": "3.3.1"
  },
  "latex_envs": {
   "bibliofile": "biblio.bib",
   "cite_by": "apalike",
   "current_citInitial": 1,
   "eqLabelWithNumbers": true,
   "eqNumInitial": 0
  },
  "toc": {
   "toc_cell": true,
   "toc_number_sections": true,
   "toc_threshold": 6,
   "toc_window_display": false
  }
 },
 "nbformat": 4,
 "nbformat_minor": 1
}
