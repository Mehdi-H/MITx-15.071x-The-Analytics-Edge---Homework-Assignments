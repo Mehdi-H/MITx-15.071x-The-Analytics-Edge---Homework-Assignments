{
 "cells": [
  {
   "cell_type": "markdown",
   "metadata": {
    "heading_collapsed": false,
    "level": 1,
    "toc": "true"
   },
   "source": [
    "# Table of Contents\n",
    " <p><div class=\"lev1\"><a href=\"#CART-in-R\"><span class=\"toc-item-num\">1&nbsp;&nbsp;</span>CART in R</a></div>"
   ]
  },
  {
   "cell_type": "markdown",
   "metadata": {
    "level": 7
   },
   "source": [
    "CART in R\n",
    "========="
   ]
  },
  {
   "cell_type": "code",
   "execution_count": 1,
   "metadata": {
    "collapsed": false
   },
   "outputs": [
    {
     "data": {
      "text/plain": [
       "     Docket         Term         Circuit                  Issue    \n",
       " 00-1011:  1   Min.   :1994   9th    :122   CriminalProcedure:132  \n",
       " 00-1045:  1   1st Qu.:1995   5th    : 53   JudicialPower    :102  \n",
       " 00-1072:  1   Median :1997   11th   : 49   EconomicActivity : 98  \n",
       " 00-1073:  1   Mean   :1997   7th    : 47   CivilRights      : 74  \n",
       " 00-1089:  1   3rd Qu.:1999   4th    : 46   DueProcess       : 43  \n",
       " 00-121 :  1   Max.   :2001   8th    : 44   FirstAmendment   : 39  \n",
       " (Other):560                  (Other):205   (Other)          : 78  \n",
       "               Petitioner               Respondent    LowerCourt \n",
       " OTHER              :175   OTHER             :177   conser :293  \n",
       " CRIMINAL.DEFENDENT : 89   BUSINESS          : 80   liberal:273  \n",
       " BUSINESS           : 79   US                : 69                \n",
       " STATE              : 48   CRIMINAL.DEFENDENT: 58                \n",
       " US                 : 48   STATE             : 56                \n",
       " GOVERNMENT.OFFICIAL: 38   EMPLOYEE          : 28                \n",
       " (Other)            : 89   (Other)           : 98                \n",
       "    Unconst          Reverse      \n",
       " Min.   :0.0000   Min.   :0.0000  \n",
       " 1st Qu.:0.0000   1st Qu.:0.0000  \n",
       " Median :0.0000   Median :1.0000  \n",
       " Mean   :0.2473   Mean   :0.5459  \n",
       " 3rd Qu.:0.0000   3rd Qu.:1.0000  \n",
       " Max.   :1.0000   Max.   :1.0000  \n",
       "                                  "
      ]
     },
     "metadata": {},
     "output_type": "display_data"
    },
    {
     "name": "stdout",
     "output_type": "stream",
     "text": [
      "'data.frame':\t566 obs. of  9 variables:\n",
      " $ Docket    : Factor w/ 566 levels \"00-1011\",\"00-1045\",..: 63 69 70 145 97 181 242 289 334 436 ...\n",
      " $ Term      : int  1994 1994 1994 1994 1995 1995 1996 1997 1997 1999 ...\n",
      " $ Circuit   : Factor w/ 13 levels \"10th\",\"11th\",..: 4 11 7 3 9 11 13 11 12 2 ...\n",
      " $ Issue     : Factor w/ 11 levels \"Attorneys\",\"CivilRights\",..: 5 5 5 5 9 5 5 5 5 3 ...\n",
      " $ Petitioner: Factor w/ 12 levels \"AMERICAN.INDIAN\",..: 2 2 2 2 2 2 2 2 2 2 ...\n",
      " $ Respondent: Factor w/ 12 levels \"AMERICAN.INDIAN\",..: 2 2 2 2 2 2 2 2 2 2 ...\n",
      " $ LowerCourt: Factor w/ 2 levels \"conser\",\"liberal\": 2 2 2 1 1 1 1 1 1 1 ...\n",
      " $ Unconst   : int  0 0 0 0 0 1 0 1 0 0 ...\n",
      " $ Reverse   : int  1 1 1 1 1 0 1 1 1 1 ...\n"
     ]
    }
   ],
   "source": [
    "stevens <- read.csv(\"stevens.csv\")\n",
    "summary(stevens)\n",
    "str(stevens)"
   ]
  },
  {
   "cell_type": "code",
   "execution_count": 2,
   "metadata": {
    "collapsed": true
   },
   "outputs": [],
   "source": [
    "library(caTools)"
   ]
  },
  {
   "cell_type": "code",
   "execution_count": 3,
   "metadata": {
    "collapsed": true
   },
   "outputs": [],
   "source": [
    "set.seed(3000)"
   ]
  },
  {
   "cell_type": "code",
   "execution_count": 36,
   "metadata": {
    "collapsed": true
   },
   "outputs": [],
   "source": [
    "spl <- sample.split(stevens$Reverse, SplitRatio=.7)"
   ]
  },
  {
   "cell_type": "code",
   "execution_count": 37,
   "metadata": {
    "collapsed": true
   },
   "outputs": [],
   "source": [
    "Train <- subset(stevens, spl == TRUE)\n",
    "Test <- subset(stevens, spl == FALSE)"
   ]
  },
  {
   "cell_type": "code",
   "execution_count": 38,
   "metadata": {
    "collapsed": false,
    "level": 7
   },
   "outputs": [
    {
     "data": {
      "text/html": [
       "396"
      ],
      "text/latex": [
       "396"
      ],
      "text/markdown": [
       "396"
      ],
      "text/plain": [
       "[1] 396"
      ]
     },
     "metadata": {},
     "output_type": "display_data"
    }
   ],
   "source": [
    "nrow(Train)"
   ]
  },
  {
   "cell_type": "code",
   "execution_count": 7,
   "metadata": {
    "collapsed": true
   },
   "outputs": [],
   "source": [
    "library(rpart)\n",
    "library(rpart.plot)"
   ]
  },
  {
   "cell_type": "code",
   "execution_count": 8,
   "metadata": {
    "collapsed": false
   },
   "outputs": [],
   "source": [
    "StevensTree <- rpart(\n",
    "    Reverse ~ Circuit + Issue + Petitioner + Respondent + LowerCourt + Unconst, data=Train, \n",
    "    method=\"class\", minbucket=25\n",
    ")"
   ]
  },
  {
   "cell_type": "code",
   "execution_count": 9,
   "metadata": {
    "collapsed": false
   },
   "outputs": [
    {
     "data": {
      "image/png": "[encoded data removed]",
      "text/plain": [
       "plot without title"
      ]
     },
     "metadata": {},
     "output_type": "display_data"
    }
   ],
   "source": [
    "prp(StevensTree)"
   ]
  },
  {
   "cell_type": "code",
   "execution_count": 10,
   "metadata": {
    "collapsed": true
   },
   "outputs": [],
   "source": [
    "PredictCART <- predict(StevensTree, newdata=Test, type=\"class\")"
   ]
  },
  {
   "cell_type": "code",
   "execution_count": 11,
   "metadata": {
    "collapsed": false
   },
   "outputs": [
    {
     "data": {
      "text/plain": [
       "   PredictCART\n",
       "     0  1\n",
       "  0 41 36\n",
       "  1 22 71"
      ]
     },
     "metadata": {},
     "output_type": "display_data"
    }
   ],
   "source": [
    "table(Test$Reverse, PredictCART)"
   ]
  },
  {
   "cell_type": "code",
   "execution_count": 12,
   "metadata": {
    "collapsed": false
   },
   "outputs": [
    {
     "name": "stdout",
     "output_type": "stream",
     "text": [
      "[1] 0.6588235\n"
     ]
    }
   ],
   "source": [
    "accuracy <- (41+71) / (41+36+22+71)\n",
    "print(accuracy)"
   ]
  },
  {
   "cell_type": "code",
   "execution_count": 13,
   "metadata": {
    "collapsed": false
   },
   "outputs": [
    {
     "name": "stderr",
     "output_type": "stream",
     "text": [
      "Loading required package: gplots\n",
      "\n",
      "Attaching package: 'gplots'\n",
      "\n",
      "The following object is masked from 'package:stats':\n",
      "\n",
      "    lowess\n",
      "\n"
     ]
    }
   ],
   "source": [
    "library(ROCR)"
   ]
  },
  {
   "cell_type": "code",
   "execution_count": 14,
   "metadata": {
    "collapsed": true
   },
   "outputs": [],
   "source": [
    "PredictROC <- predict(StevensTree, newdata=Test)"
   ]
  },
  {
   "cell_type": "code",
   "execution_count": 15,
   "metadata": {
    "collapsed": false
   },
   "outputs": [
    {
     "data": {
      "text/html": [
       "<table>\n",
       "<thead><tr><th></th><th scope=col>0</th><th scope=col>1</th></tr></thead>\n",
       "<tbody>\n",
       "\t<tr><th scope=row>1</th><td>0.303571428571429</td><td>0.696428571428571</td></tr>\n",
       "\t<tr><th scope=row>3</th><td>0.303571428571429</td><td>0.696428571428571</td></tr>\n",
       "\t<tr><th scope=row>4</th><td>0.4</td><td>0.6</td></tr>\n",
       "\t<tr><th scope=row>6</th><td>0.4</td><td>0.6</td></tr>\n",
       "\t<tr><th scope=row>8</th><td>0.4</td><td>0.6</td></tr>\n",
       "\t<tr><th scope=row>21</th><td>0.303571428571429</td><td>0.696428571428571</td></tr>\n",
       "\t<tr><th scope=row>32</th><td>0.551724137931034</td><td>0.448275862068965</td></tr>\n",
       "\t<tr><th scope=row>36</th><td>0.551724137931034</td><td>0.448275862068965</td></tr>\n",
       "\t<tr><th scope=row>40</th><td>0.303571428571429</td><td>0.696428571428571</td></tr>\n",
       "\t<tr><th scope=row>42</th><td>0.551724137931034</td><td>0.448275862068965</td></tr>\n",
       "\t<tr><th scope=row>46</th><td>0.551724137931034</td><td>0.448275862068965</td></tr>\n",
       "\t<tr><th scope=row>47</th><td>0.4</td><td>0.6</td></tr>\n",
       "\t<tr><th scope=row>53</th><td>0.551724137931034</td><td>0.448275862068965</td></tr>\n",
       "\t<tr><th scope=row>55</th><td>0.303571428571429</td><td>0.696428571428571</td></tr>\n",
       "\t<tr><th scope=row>59</th><td>0.184210526315789</td><td>0.815789473684211</td></tr>\n",
       "\t<tr><th scope=row>60</th><td>0.4</td><td>0.6</td></tr>\n",
       "\t<tr><th scope=row>66</th><td>0.4</td><td>0.6</td></tr>\n",
       "\t<tr><th scope=row>67</th><td>0.4</td><td>0.6</td></tr>\n",
       "\t<tr><th scope=row>68</th><td>0.184210526315789</td><td>0.815789473684211</td></tr>\n",
       "\t<tr><th scope=row>72</th><td>0.303571428571429</td><td>0.696428571428571</td></tr>\n",
       "\t<tr><th scope=row>79</th><td>0.303571428571429</td><td>0.696428571428571</td></tr>\n",
       "\t<tr><th scope=row>80</th><td>0.551724137931034</td><td>0.448275862068965</td></tr>\n",
       "\t<tr><th scope=row>87</th><td>0.76</td><td>0.24</td></tr>\n",
       "\t<tr><th scope=row>88</th><td>0.184210526315789</td><td>0.815789473684211</td></tr>\n",
       "\t<tr><th scope=row>92</th><td>0.791044776119403</td><td>0.208955223880597</td></tr>\n",
       "\t<tr><th scope=row>95</th><td>0.791044776119403</td><td>0.208955223880597</td></tr>\n",
       "\t<tr><th scope=row>102</th><td>0.791044776119403</td><td>0.208955223880597</td></tr>\n",
       "\t<tr><th scope=row>106</th><td>0.791044776119403</td><td>0.208955223880597</td></tr>\n",
       "\t<tr><th scope=row>110</th><td>0.791044776119403</td><td>0.208955223880597</td></tr>\n",
       "\t<tr><th scope=row>112</th><td>0.791044776119403</td><td>0.208955223880597</td></tr>\n",
       "\t<tr><th scope=row>...</th><td>...</td><td>...</td></tr>\n",
       "\t<tr><th scope=row>462</th><td>0.0754716981132075</td><td>0.924528301886792 </td></tr>\n",
       "\t<tr><th scope=row>464</th><td>0.0754716981132075</td><td>0.924528301886792 </td></tr>\n",
       "\t<tr><th scope=row>467</th><td>0.0754716981132075</td><td>0.924528301886792 </td></tr>\n",
       "\t<tr><th scope=row>468</th><td>0.0754716981132075</td><td>0.924528301886792 </td></tr>\n",
       "\t<tr><th scope=row>470</th><td>0.0754716981132075</td><td>0.924528301886792 </td></tr>\n",
       "\t<tr><th scope=row>473</th><td>0.0754716981132075</td><td>0.924528301886792 </td></tr>\n",
       "\t<tr><th scope=row>476</th><td>0.0754716981132075</td><td>0.924528301886792 </td></tr>\n",
       "\t<tr><th scope=row>478</th><td>0.0754716981132075</td><td>0.924528301886792 </td></tr>\n",
       "\t<tr><th scope=row>480</th><td>0.0754716981132075</td><td>0.924528301886792 </td></tr>\n",
       "\t<tr><th scope=row>482</th><td>0.0754716981132075</td><td>0.924528301886792 </td></tr>\n",
       "\t<tr><th scope=row>483</th><td>0.0754716981132075</td><td>0.924528301886792 </td></tr>\n",
       "\t<tr><th scope=row>484</th><td>0.0754716981132075</td><td>0.924528301886792 </td></tr>\n",
       "\t<tr><th scope=row>494</th><td>0.791044776119403</td><td>0.208955223880597</td></tr>\n",
       "\t<tr><th scope=row>498</th><td>0.184210526315789</td><td>0.815789473684211</td></tr>\n",
       "\t<tr><th scope=row>504</th><td>0.4</td><td>0.6</td></tr>\n",
       "\t<tr><th scope=row>509</th><td>0.4</td><td>0.6</td></tr>\n",
       "\t<tr><th scope=row>521</th><td>0.76</td><td>0.24</td></tr>\n",
       "\t<tr><th scope=row>527</th><td>0.4</td><td>0.6</td></tr>\n",
       "\t<tr><th scope=row>531</th><td>0.4</td><td>0.6</td></tr>\n",
       "\t<tr><th scope=row>535</th><td>0.4</td><td>0.6</td></tr>\n",
       "\t<tr><th scope=row>538</th><td>0.76</td><td>0.24</td></tr>\n",
       "\t<tr><th scope=row>539</th><td>0.184210526315789</td><td>0.815789473684211</td></tr>\n",
       "\t<tr><th scope=row>540</th><td>0.4</td><td>0.6</td></tr>\n",
       "\t<tr><th scope=row>543</th><td>0.76</td><td>0.24</td></tr>\n",
       "\t<tr><th scope=row>545</th><td>0.4</td><td>0.6</td></tr>\n",
       "\t<tr><th scope=row>546</th><td>0.791044776119403</td><td>0.208955223880597</td></tr>\n",
       "\t<tr><th scope=row>551</th><td>0.791044776119403</td><td>0.208955223880597</td></tr>\n",
       "\t<tr><th scope=row>552</th><td>0.791044776119403</td><td>0.208955223880597</td></tr>\n",
       "\t<tr><th scope=row>556</th><td>0.4</td><td>0.6</td></tr>\n",
       "\t<tr><th scope=row>558</th><td>0.184210526315789</td><td>0.815789473684211</td></tr>\n",
       "</tbody>\n",
       "</table>\n"
      ],
      "text/latex": [
       "\\begin{tabular}{r|ll}\n",
       "  & 0 & 1\\\\\n",
       "\\hline\n",
       "\t1 & 0.303571428571429 & 0.696428571428571\\\\\n",
       "\t3 & 0.303571428571429 & 0.696428571428571\\\\\n",
       "\t4 & 0.4 & 0.6\\\\\n",
       "\t6 & 0.4 & 0.6\\\\\n",
       "\t8 & 0.4 & 0.6\\\\\n",
       "\t21 & 0.303571428571429 & 0.696428571428571\\\\\n",
       "\t32 & 0.551724137931034 & 0.448275862068965\\\\\n",
       "\t36 & 0.551724137931034 & 0.448275862068965\\\\\n",
       "\t40 & 0.303571428571429 & 0.696428571428571\\\\\n",
       "\t42 & 0.551724137931034 & 0.448275862068965\\\\\n",
       "\t46 & 0.551724137931034 & 0.448275862068965\\\\\n",
       "\t47 & 0.4 & 0.6\\\\\n",
       "\t53 & 0.551724137931034 & 0.448275862068965\\\\\n",
       "\t55 & 0.303571428571429 & 0.696428571428571\\\\\n",
       "\t59 & 0.184210526315789 & 0.815789473684211\\\\\n",
       "\t60 & 0.4 & 0.6\\\\\n",
       "\t66 & 0.4 & 0.6\\\\\n",
       "\t67 & 0.4 & 0.6\\\\\n",
       "\t68 & 0.184210526315789 & 0.815789473684211\\\\\n",
       "\t72 & 0.303571428571429 & 0.696428571428571\\\\\n",
       "\t79 & 0.303571428571429 & 0.696428571428571\\\\\n",
       "\t80 & 0.551724137931034 & 0.448275862068965\\\\\n",
       "\t87 & 0.76 & 0.24\\\\\n",
       "\t88 & 0.184210526315789 & 0.815789473684211\\\\\n",
       "\t92 & 0.791044776119403 & 0.208955223880597\\\\\n",
       "\t95 & 0.791044776119403 & 0.208955223880597\\\\\n",
       "\t102 & 0.791044776119403 & 0.208955223880597\\\\\n",
       "\t106 & 0.791044776119403 & 0.208955223880597\\\\\n",
       "\t110 & 0.791044776119403 & 0.208955223880597\\\\\n",
       "\t112 & 0.791044776119403 & 0.208955223880597\\\\\n",
       "\t... & ... & ...\\\\\n",
       "\t462 & 0.0754716981132075 & 0.924528301886792 \\\\\n",
       "\t464 & 0.0754716981132075 & 0.924528301886792 \\\\\n",
       "\t467 & 0.0754716981132075 & 0.924528301886792 \\\\\n",
       "\t468 & 0.0754716981132075 & 0.924528301886792 \\\\\n",
       "\t470 & 0.0754716981132075 & 0.924528301886792 \\\\\n",
       "\t473 & 0.0754716981132075 & 0.924528301886792 \\\\\n",
       "\t476 & 0.0754716981132075 & 0.924528301886792 \\\\\n",
       "\t478 & 0.0754716981132075 & 0.924528301886792 \\\\\n",
       "\t480 & 0.0754716981132075 & 0.924528301886792 \\\\\n",
       "\t482 & 0.0754716981132075 & 0.924528301886792 \\\\\n",
       "\t483 & 0.0754716981132075 & 0.924528301886792 \\\\\n",
       "\t484 & 0.0754716981132075 & 0.924528301886792 \\\\\n",
       "\t494 & 0.791044776119403 & 0.208955223880597\\\\\n",
       "\t498 & 0.184210526315789 & 0.815789473684211\\\\\n",
       "\t504 & 0.4 & 0.6\\\\\n",
       "\t509 & 0.4 & 0.6\\\\\n",
       "\t521 & 0.76 & 0.24\\\\\n",
       "\t527 & 0.4 & 0.6\\\\\n",
       "\t531 & 0.4 & 0.6\\\\\n",
       "\t535 & 0.4 & 0.6\\\\\n",
       "\t538 & 0.76 & 0.24\\\\\n",
       "\t539 & 0.184210526315789 & 0.815789473684211\\\\\n",
       "\t540 & 0.4 & 0.6\\\\\n",
       "\t543 & 0.76 & 0.24\\\\\n",
       "\t545 & 0.4 & 0.6\\\\\n",
       "\t546 & 0.791044776119403 & 0.208955223880597\\\\\n",
       "\t551 & 0.791044776119403 & 0.208955223880597\\\\\n",
       "\t552 & 0.791044776119403 & 0.208955223880597\\\\\n",
       "\t556 & 0.4 & 0.6\\\\\n",
       "\t558 & 0.184210526315789 & 0.815789473684211\\\\\n",
       "\\end{tabular}\n"
      ],
      "text/markdown": [
       "1. 0.303571428571429\n",
       "2. 0.303571428571429\n",
       "3. 0.4\n",
       "4. 0.4\n",
       "5. 0.4\n",
       "6. 0.303571428571429\n",
       "7. 0.551724137931034\n",
       "8. 0.551724137931034\n",
       "9. 0.303571428571429\n",
       "10. 0.551724137931034\n",
       "11. 0.551724137931034\n",
       "12. 0.4\n",
       "13. 0.551724137931034\n",
       "14. 0.303571428571429\n",
       "15. 0.184210526315789\n",
       "16. 0.4\n",
       "17. 0.4\n",
       "18. 0.4\n",
       "19. 0.184210526315789\n",
       "20. 0.303571428571429\n",
       "21. 0.303571428571429\n",
       "22. 0.551724137931034\n",
       "23. 0.76\n",
       "24. 0.184210526315789\n",
       "25. 0.791044776119403\n",
       "26. 0.791044776119403\n",
       "27. 0.791044776119403\n",
       "28. 0.791044776119403\n",
       "29. 0.791044776119403\n",
       "30. 0.791044776119403\n",
       "31. 0.791044776119403\n",
       "32. 0.791044776119403\n",
       "33. 0.791044776119403\n",
       "34. 0.791044776119403\n",
       "35. 0.791044776119403\n",
       "36. 0.791044776119403\n",
       "37. 0.791044776119403\n",
       "38. 0.303571428571429\n",
       "39. 0.303571428571429\n",
       "40. 0.303571428571429\n",
       "41. 0.551724137931034\n",
       "42. 0.787878787878788\n",
       "43. 0.4\n",
       "44. 0.787878787878788\n",
       "45. 0.303571428571429\n",
       "46. 0.76\n",
       "47. 0.551724137931034\n",
       "48. 0.0754716981132075\n",
       "49. 0.0754716981132075\n",
       "50. 0.0754716981132075\n",
       "51. 0.0754716981132075\n",
       "52. 0.0754716981132075\n",
       "53. 0.787878787878788\n",
       "54. 0.0754716981132075\n",
       "55. 0.0754716981132075\n",
       "56. 0.0754716981132075\n",
       "57. 0.303571428571429\n",
       "58. 0.303571428571429\n",
       "59. 0.0754716981132075\n",
       "60. 0.791044776119403\n",
       "61. 0.791044776119403\n",
       "62. 0.0754716981132075\n",
       "63. 0.4\n",
       "64. 0.76\n",
       "65. 0.4\n",
       "66. 0.787878787878788\n",
       "67. 0.303571428571429\n",
       "68. 0.787878787878788\n",
       "69. 0.76\n",
       "70. 0.76\n",
       "71. 0.4\n",
       "72. 0.303571428571429\n",
       "73. 0.551724137931034\n",
       "74. 0.76\n",
       "75. 0.303571428571429\n",
       "76. 0.303571428571429\n",
       "77. 0.303571428571429\n",
       "78. 0.551724137931034\n",
       "79. 0.303571428571429\n",
       "80. 0.551724137931034\n",
       "81. 0.303571428571429\n",
       "82. 0.4\n",
       "83. 0.787878787878788\n",
       "84. 0.4\n",
       "85. 0.184210526315789\n",
       "86. 0.4\n",
       "87. 0.303571428571429\n",
       "88. 0.787878787878788\n",
       "89. 0.787878787878788\n",
       "90. 0.787878787878788\n",
       "91. 0.787878787878788\n",
       "92. 0.787878787878788\n",
       "93. 0.787878787878788\n",
       "94. 0.787878787878788\n",
       "95. 0.787878787878788\n",
       "96. 0.4\n",
       "97. 0.303571428571429\n",
       "98. 0.303571428571429\n",
       "99. 0.76\n",
       "100. 0.551724137931034\n",
       "101. 0.551724137931034\n",
       "102. 0.303571428571429\n",
       "103. 0.303571428571429\n",
       "104. 0.303571428571429\n",
       "105. 0.184210526315789\n",
       "106. 0.303571428571429\n",
       "107. 0.184210526315789\n",
       "108. 0.303571428571429\n",
       "109. 0.303571428571429\n",
       "110. 0.4\n",
       "111. 0.4\n",
       "112. 0.551724137931034\n",
       "113. 0.303571428571429\n",
       "114. 0.303571428571429\n",
       "115. 0.4\n",
       "116. 0.184210526315789\n",
       "117. 0.303571428571429\n",
       "118. 0.184210526315789\n",
       "119. 0.303571428571429\n",
       "120. 0.4\n",
       "121. 0.303571428571429\n",
       "122. 0.787878787878788\n",
       "123. 0.4\n",
       "124. 0.787878787878788\n",
       "125. 0.303571428571429\n",
       "126. 0.303571428571429\n",
       "127. 0.4\n",
       "128. 0.76\n",
       "129. 0.0754716981132075\n",
       "130. 0.791044776119403\n",
       "131. 0.0754716981132075\n",
       "132. 0.791044776119403\n",
       "133. 0.0754716981132075\n",
       "134. 0.0754716981132075\n",
       "135. 0.0754716981132075\n",
       "136. 0.0754716981132075\n",
       "137. 0.791044776119403\n",
       "138. 0.0754716981132075\n",
       "139. 0.0754716981132075\n",
       "140. 0.0754716981132075\n",
       "141. 0.0754716981132075\n",
       "142. 0.0754716981132075\n",
       "143. 0.0754716981132075\n",
       "144. 0.0754716981132075\n",
       "145. 0.0754716981132075\n",
       "146. 0.0754716981132075\n",
       "147. 0.0754716981132075\n",
       "148. 0.0754716981132075\n",
       "149. 0.0754716981132075\n",
       "150. 0.0754716981132075\n",
       "151. 0.0754716981132075\n",
       "152. 0.0754716981132075\n",
       "153. 0.791044776119403\n",
       "154. 0.184210526315789\n",
       "155. 0.4\n",
       "156. 0.4\n",
       "157. 0.76\n",
       "158. 0.4\n",
       "159. 0.4\n",
       "160. 0.4\n",
       "161. 0.76\n",
       "162. 0.184210526315789\n",
       "163. 0.4\n",
       "164. 0.76\n",
       "165. 0.4\n",
       "166. 0.791044776119403\n",
       "167. 0.791044776119403\n",
       "168. 0.791044776119403\n",
       "169. 0.4\n",
       "170. 0.184210526315789\n",
       "171. 0.696428571428571\n",
       "172. 0.696428571428571\n",
       "173. 0.6\n",
       "174. 0.6\n",
       "175. 0.6\n",
       "176. 0.696428571428571\n",
       "177. 0.448275862068965\n",
       "178. 0.448275862068965\n",
       "179. 0.696428571428571\n",
       "180. 0.448275862068965\n",
       "181. 0.448275862068965\n",
       "182. 0.6\n",
       "183. 0.448275862068965\n",
       "184. 0.696428571428571\n",
       "185. 0.815789473684211\n",
       "186. 0.6\n",
       "187. 0.6\n",
       "188. 0.6\n",
       "189. 0.815789473684211\n",
       "190. 0.696428571428571\n",
       "191. 0.696428571428571\n",
       "192. 0.448275862068965\n",
       "193. 0.24\n",
       "194. 0.815789473684211\n",
       "195. 0.208955223880597\n",
       "196. 0.208955223880597\n",
       "197. 0.208955223880597\n",
       "198. 0.208955223880597\n",
       "199. 0.208955223880597\n",
       "200. 0.208955223880597\n",
       "201. 0.208955223880597\n",
       "202. 0.208955223880597\n",
       "203. 0.208955223880597\n",
       "204. 0.208955223880597\n",
       "205. 0.208955223880597\n",
       "206. 0.208955223880597\n",
       "207. 0.208955223880597\n",
       "208. 0.696428571428571\n",
       "209. 0.696428571428571\n",
       "210. 0.696428571428571\n",
       "211. 0.448275862068965\n",
       "212. 0.212121212121212\n",
       "213. 0.6\n",
       "214. 0.212121212121212\n",
       "215. 0.696428571428571\n",
       "216. 0.24\n",
       "217. 0.448275862068965\n",
       "218. 0.924528301886792\n",
       "219. 0.924528301886792\n",
       "220. 0.924528301886792\n",
       "221. 0.924528301886792\n",
       "222. 0.924528301886792\n",
       "223. 0.212121212121212\n",
       "224. 0.924528301886792\n",
       "225. 0.924528301886792\n",
       "226. 0.924528301886792\n",
       "227. 0.696428571428571\n",
       "228. 0.696428571428571\n",
       "229. 0.924528301886792\n",
       "230. 0.208955223880597\n",
       "231. 0.208955223880597\n",
       "232. 0.924528301886792\n",
       "233. 0.6\n",
       "234. 0.24\n",
       "235. 0.6\n",
       "236. 0.212121212121212\n",
       "237. 0.696428571428571\n",
       "238. 0.212121212121212\n",
       "239. 0.24\n",
       "240. 0.24\n",
       "241. 0.6\n",
       "242. 0.696428571428571\n",
       "243. 0.448275862068965\n",
       "244. 0.24\n",
       "245. 0.696428571428571\n",
       "246. 0.696428571428571\n",
       "247. 0.696428571428571\n",
       "248. 0.448275862068965\n",
       "249. 0.696428571428571\n",
       "250. 0.448275862068965\n",
       "251. 0.696428571428571\n",
       "252. 0.6\n",
       "253. 0.212121212121212\n",
       "254. 0.6\n",
       "255. 0.815789473684211\n",
       "256. 0.6\n",
       "257. 0.696428571428571\n",
       "258. 0.212121212121212\n",
       "259. 0.212121212121212\n",
       "260. 0.212121212121212\n",
       "261. 0.212121212121212\n",
       "262. 0.212121212121212\n",
       "263. 0.212121212121212\n",
       "264. 0.212121212121212\n",
       "265. 0.212121212121212\n",
       "266. 0.6\n",
       "267. 0.696428571428571\n",
       "268. 0.696428571428571\n",
       "269. 0.24\n",
       "270. 0.448275862068965\n",
       "271. 0.448275862068965\n",
       "272. 0.696428571428571\n",
       "273. 0.696428571428571\n",
       "274. 0.696428571428571\n",
       "275. 0.815789473684211\n",
       "276. 0.696428571428571\n",
       "277. 0.815789473684211\n",
       "278. 0.696428571428571\n",
       "279. 0.696428571428571\n",
       "280. 0.6\n",
       "281. 0.6\n",
       "282. 0.448275862068965\n",
       "283. 0.696428571428571\n",
       "284. 0.696428571428571\n",
       "285. 0.6\n",
       "286. 0.815789473684211\n",
       "287. 0.696428571428571\n",
       "288. 0.815789473684211\n",
       "289. 0.696428571428571\n",
       "290. 0.6\n",
       "291. 0.696428571428571\n",
       "292. 0.212121212121212\n",
       "293. 0.6\n",
       "294. 0.212121212121212\n",
       "295. 0.696428571428571\n",
       "296. 0.696428571428571\n",
       "297. 0.6\n",
       "298. 0.24\n",
       "299. 0.924528301886792\n",
       "300. 0.208955223880597\n",
       "301. 0.924528301886792\n",
       "302. 0.208955223880597\n",
       "303. 0.924528301886792\n",
       "304. 0.924528301886792\n",
       "305. 0.924528301886792\n",
       "306. 0.924528301886792\n",
       "307. 0.208955223880597\n",
       "308. 0.924528301886792\n",
       "309. 0.924528301886792\n",
       "310. 0.924528301886792\n",
       "311. 0.924528301886792\n",
       "312. 0.924528301886792\n",
       "313. 0.924528301886792\n",
       "314. 0.924528301886792\n",
       "315. 0.924528301886792\n",
       "316. 0.924528301886792\n",
       "317. 0.924528301886792\n",
       "318. 0.924528301886792\n",
       "319. 0.924528301886792\n",
       "320. 0.924528301886792\n",
       "321. 0.924528301886792\n",
       "322. 0.924528301886792\n",
       "323. 0.208955223880597\n",
       "324. 0.815789473684211\n",
       "325. 0.6\n",
       "326. 0.6\n",
       "327. 0.24\n",
       "328. 0.6\n",
       "329. 0.6\n",
       "330. 0.6\n",
       "331. 0.24\n",
       "332. 0.815789473684211\n",
       "333. 0.6\n",
       "334. 0.24\n",
       "335. 0.6\n",
       "336. 0.208955223880597\n",
       "337. 0.208955223880597\n",
       "338. 0.208955223880597\n",
       "339. 0.6\n",
       "340. 0.815789473684211\n",
       "\n",
       "\n"
      ],
      "text/plain": [
       "    0                    1                  \n",
       "1   \"0.303571428571429\"  \"0.696428571428571\"\n",
       "3   \"0.303571428571429\"  \"0.696428571428571\"\n",
       "4   \"0.4\"                \"0.6\"              \n",
       "6   \"0.4\"                \"0.6\"              \n",
       "8   \"0.4\"                \"0.6\"              \n",
       "21  \"0.303571428571429\"  \"0.696428571428571\"\n",
       "32  \"0.551724137931034\"  \"0.448275862068965\"\n",
       "36  \"0.551724137931034\"  \"0.448275862068965\"\n",
       "40  \"0.303571428571429\"  \"0.696428571428571\"\n",
       "42  \"0.551724137931034\"  \"0.448275862068965\"\n",
       "46  \"0.551724137931034\"  \"0.448275862068965\"\n",
       "47  \"0.4\"                \"0.6\"              \n",
       "53  \"0.551724137931034\"  \"0.448275862068965\"\n",
       "55  \"0.303571428571429\"  \"0.696428571428571\"\n",
       "59  \"0.184210526315789\"  \"0.815789473684211\"\n",
       "60  \"0.4\"                \"0.6\"              \n",
       "66  \"0.4\"                \"0.6\"              \n",
       "67  \"0.4\"                \"0.6\"              \n",
       "68  \"0.184210526315789\"  \"0.815789473684211\"\n",
       "72  \"0.303571428571429\"  \"0.696428571428571\"\n",
       "79  \"0.303571428571429\"  \"0.696428571428571\"\n",
       "80  \"0.551724137931034\"  \"0.448275862068965\"\n",
       "87  \"0.76\"               \"0.24\"             \n",
       "88  \"0.184210526315789\"  \"0.815789473684211\"\n",
       "92  \"0.791044776119403\"  \"0.208955223880597\"\n",
       "95  \"0.791044776119403\"  \"0.208955223880597\"\n",
       "102 \"0.791044776119403\"  \"0.208955223880597\"\n",
       "106 \"0.791044776119403\"  \"0.208955223880597\"\n",
       "110 \"0.791044776119403\"  \"0.208955223880597\"\n",
       "112 \"0.791044776119403\"  \"0.208955223880597\"\n",
       "... \"...\"                \"...\"              \n",
       "462 \"0.0754716981132075\" \"0.924528301886792\"\n",
       "464 \"0.0754716981132075\" \"0.924528301886792\"\n",
       "467 \"0.0754716981132075\" \"0.924528301886792\"\n",
       "468 \"0.0754716981132075\" \"0.924528301886792\"\n",
       "470 \"0.0754716981132075\" \"0.924528301886792\"\n",
       "473 \"0.0754716981132075\" \"0.924528301886792\"\n",
       "476 \"0.0754716981132075\" \"0.924528301886792\"\n",
       "478 \"0.0754716981132075\" \"0.924528301886792\"\n",
       "480 \"0.0754716981132075\" \"0.924528301886792\"\n",
       "482 \"0.0754716981132075\" \"0.924528301886792\"\n",
       "483 \"0.0754716981132075\" \"0.924528301886792\"\n",
       "484 \"0.0754716981132075\" \"0.924528301886792\"\n",
       "494 \"0.791044776119403\"  \"0.208955223880597\"\n",
       "498 \"0.184210526315789\"  \"0.815789473684211\"\n",
       "504 \"0.4\"                \"0.6\"              \n",
       "509 \"0.4\"                \"0.6\"              \n",
       "521 \"0.76\"               \"0.24\"             \n",
       "527 \"0.4\"                \"0.6\"              \n",
       "531 \"0.4\"                \"0.6\"              \n",
       "535 \"0.4\"                \"0.6\"              \n",
       "538 \"0.76\"               \"0.24\"             \n",
       "539 \"0.184210526315789\"  \"0.815789473684211\"\n",
       "540 \"0.4\"                \"0.6\"              \n",
       "543 \"0.76\"               \"0.24\"             \n",
       "545 \"0.4\"                \"0.6\"              \n",
       "546 \"0.791044776119403\"  \"0.208955223880597\"\n",
       "551 \"0.791044776119403\"  \"0.208955223880597\"\n",
       "552 \"0.791044776119403\"  \"0.208955223880597\"\n",
       "556 \"0.4\"                \"0.6\"              \n",
       "558 \"0.184210526315789\"  \"0.815789473684211\""
      ]
     },
     "metadata": {},
     "output_type": "display_data"
    }
   ],
   "source": [
    "PredictROC"
   ]
  },
  {
   "cell_type": "code",
   "execution_count": 16,
   "metadata": {
    "collapsed": false
   },
   "outputs": [
    {
     "data": {
      "image/png": "[encoded data removed]",
      "text/plain": [
       "plot without title"
      ]
     },
     "metadata": {},
     "output_type": "display_data"
    }
   ],
   "source": [
    "pred <- prediction(PredictROC[,2], Test$Reverse)\n",
    "perf <- performance(pred, \"tpr\", \"fpr\")\n",
    "plot(perf)"
   ]
  },
  {
   "cell_type": "code",
   "execution_count": 17,
   "metadata": {
    "collapsed": false
   },
   "outputs": [
    {
     "data": {
      "text/html": [
       "0.69271051529116"
      ],
      "text/latex": [
       "0.69271051529116"
      ],
      "text/markdown": [
       "0.69271051529116"
      ],
      "text/plain": [
       "[1] 0.6927105"
      ]
     },
     "metadata": {},
     "output_type": "display_data"
    }
   ],
   "source": [
    "as.numeric(performance(pred, \"auc\")@y.values)"
   ]
  },
  {
   "cell_type": "code",
   "execution_count": 18,
   "metadata": {
    "collapsed": false
   },
   "outputs": [
    {
     "data": {
      "image/png": "[encoded data removed]",
      "text/plain": [
       "plot without title"
      ]
     },
     "metadata": {},
     "output_type": "display_data"
    }
   ],
   "source": [
    "StevensTree2 <- rpart(\n",
    "    Reverse ~ Circuit + Issue + Petitioner + Respondent + LowerCourt + Unconst, data=Train, \n",
    "    method=\"class\", minbucket=5\n",
    ")\n",
    "prp(StevensTree2)"
   ]
  },
  {
   "cell_type": "code",
   "execution_count": 19,
   "metadata": {
    "collapsed": false
   },
   "outputs": [
    {
     "data": {
      "image/png": "[encoded data removed]",
      "text/plain": [
       "plot without title"
      ]
     },
     "metadata": {},
     "output_type": "display_data"
    }
   ],
   "source": [
    "StevensTree3 <- rpart(\n",
    "    Reverse ~ Circuit + Issue + Petitioner + Respondent + LowerCourt + Unconst, data=Train, \n",
    "    method=\"class\", minbucket=100\n",
    ")\n",
    "prp(StevensTree3)"
   ]
  },
  {
   "cell_type": "code",
   "execution_count": 20,
   "metadata": {
    "collapsed": false
   },
   "outputs": [
    {
     "name": "stderr",
     "output_type": "stream",
     "text": [
      "randomForest 4.6-12\n",
      "Type rfNews() to see new features/changes/bug fixes.\n"
     ]
    }
   ],
   "source": [
    "library(randomForest)"
   ]
  },
  {
   "cell_type": "code",
   "execution_count": 63,
   "metadata": {
    "collapsed": false
   },
   "outputs": [],
   "source": [
    "StevensForest <- randomForest(\n",
    "    Reverse ~ Circuit + Issue + Petitioner + Respondent + LowerCourt + Unconst,\n",
    "    data=Train, nodesize=25, ntree=200\n",
    ")"
   ]
  },
  {
   "cell_type": "code",
   "execution_count": 74,
   "metadata": {
    "collapsed": true
   },
   "outputs": [],
   "source": [
    "Train$Reverse <- na.omit(as.factor(Train$Reverse))\n",
    "Test$Reverse <- na.omit(as.factor(Test$Reverse))"
   ]
  },
  {
   "cell_type": "code",
   "execution_count": 75,
   "metadata": {
    "collapsed": false
   },
   "outputs": [
    {
     "data": {
      "text/plain": [
       "     Docket         Term         Circuit                  Issue   \n",
       " 00-1011:  1   Min.   :1994   9th    : 89   CriminalProcedure:90  \n",
       " 00-1045:  1   1st Qu.:1995   5th    : 38   EconomicActivity :72  \n",
       " 00-1072:  1   Median :1997   7th    : 35   JudicialPower    :67  \n",
       " 00-1089:  1   Mean   :1997   11th   : 34   CivilRights      :53  \n",
       " 00-121 :  1   3rd Qu.:1999   6th    : 31   DueProcess       :31  \n",
       " 00-1260:  1   Max.   :2001   2nd    : 28   FirstAmendment   :26  \n",
       " (Other):390                  (Other):141   (Other)          :57  \n",
       "               Petitioner               Respondent    LowerCourt \n",
       " OTHER              :123   OTHER             :129   conser :204  \n",
       " CRIMINAL.DEFENDENT : 62   BUSINESS          : 55   liberal:192  \n",
       " BUSINESS           : 52   US                : 48                \n",
       " US                 : 39   CRIMINAL.DEFENDENT: 42                \n",
       " STATE              : 32   STATE             : 37                \n",
       " GOVERNMENT.OFFICIAL: 25   EMPLOYEE          : 19                \n",
       " (Other)            : 63   (Other)           : 66                \n",
       "    Unconst       Reverse\n",
       " Min.   :0.0000   0:180  \n",
       " 1st Qu.:0.0000   1:216  \n",
       " Median :0.0000          \n",
       " Mean   :0.2323          \n",
       " 3rd Qu.:0.0000          \n",
       " Max.   :1.0000          \n",
       "                         "
      ]
     },
     "metadata": {},
     "output_type": "display_data"
    },
    {
     "data": {
      "text/plain": [
       "     Docket         Term         Circuit                 Issue   \n",
       " 00-1073:  1   Min.   :1994   9th    :33   CriminalProcedure:42  \n",
       " 00-1249:  1   1st Qu.:1995   4th    :20   JudicialPower    :35  \n",
       " 00-151 :  1   Median :1997   8th    :17   EconomicActivity :26  \n",
       " 00-152 :  1   Mean   :1997   11th   :15   CivilRights      :21  \n",
       " 00-1567:  1   3rd Qu.:1999   5th    :15   FirstAmendment   :13  \n",
       " 00-189 :  1   Max.   :2001   DC     :14   DueProcess       :12  \n",
       " (Other):164                  (Other):56   (Other)          :21  \n",
       "               Petitioner              Respondent   LowerCourt    Unconst      \n",
       " OTHER              :52   OTHER             :48   conser :89   Min.   :0.0000  \n",
       " BUSINESS           :27   BUSINESS          :25   liberal:81   1st Qu.:0.0000  \n",
       " CRIMINAL.DEFENDENT :27   US                :21                Median :0.0000  \n",
       " STATE              :16   STATE             :19                Mean   :0.2824  \n",
       " GOVERNMENT.OFFICIAL:13   CRIMINAL.DEFENDENT:16                3rd Qu.:1.0000  \n",
       " EMPLOYEE           :11   EMPLOYEE          : 9                Max.   :1.0000  \n",
       " (Other)            :24   (Other)           :32                                \n",
       " Reverse\n",
       " 0:77   \n",
       " 1:93   \n",
       "        \n",
       "        \n",
       "        \n",
       "        \n",
       "        "
      ]
     },
     "metadata": {},
     "output_type": "display_data"
    }
   ],
   "source": [
    "summary(Train)\n",
    "summary(Test)"
   ]
  },
  {
   "cell_type": "code",
   "execution_count": 76,
   "metadata": {
    "collapsed": true
   },
   "outputs": [],
   "source": [
    "StevensForest <- randomForest(\n",
    "    Reverse ~ Circuit + Issue + Petitioner + Respondent + LowerCourt + Unconst,\n",
    "    data=Train, nodesize=25, ntree=200\n",
    ")"
   ]
  },
  {
   "cell_type": "code",
   "execution_count": 77,
   "metadata": {
    "collapsed": true
   },
   "outputs": [],
   "source": [
    "PredictForest <- predict(StevensForest, newData=Test)"
   ]
  },
  {
   "cell_type": "code",
   "execution_count": 78,
   "metadata": {
    "collapsed": false
   },
   "outputs": [
    {
     "ename": "ERROR",
     "evalue": "Error in table(Test$Reverse, PredictForest): all arguments must have the same length\n",
     "output_type": "error",
     "traceback": [
      "Error in table(Test$Reverse, PredictForest): all arguments must have the same length\nTraceback:\n",
      "1. table(Test$Reverse, PredictForest)",
      "2. stop(\"all arguments must have the same length\")"
     ]
    }
   ],
   "source": [
    "table(Test$Reverse, PredictForest)"
   ]
  },
  {
   "cell_type": "code",
   "execution_count": 79,
   "metadata": {
    "collapsed": false
   },
   "outputs": [
    {
     "data": {
      "text/html": [
       "170"
      ],
      "text/latex": [
       "170"
      ],
      "text/markdown": [
       "170"
      ],
      "text/plain": [
       "[1] 170"
      ]
     },
     "metadata": {},
     "output_type": "display_data"
    },
    {
     "data": {
      "text/html": [
       "396"
      ],
      "text/latex": [
       "396"
      ],
      "text/markdown": [
       "396"
      ],
      "text/plain": [
       "[1] 396"
      ]
     },
     "metadata": {},
     "output_type": "display_data"
    }
   ],
   "source": [
    "length(Test$Reverse)\n",
    "length(PredictForest)"
   ]
  },
  {
   "cell_type": "code",
   "execution_count": 80,
   "metadata": {
    "collapsed": false
   },
   "outputs": [
    {
     "data": {
      "text/html": [
       "396"
      ],
      "text/latex": [
       "396"
      ],
      "text/markdown": [
       "396"
      ],
      "text/plain": [
       "[1] 396"
      ]
     },
     "metadata": {},
     "output_type": "display_data"
    }
   ],
   "source": [
    "length(PredictForest)"
   ]
  },
  {
   "cell_type": "code",
   "execution_count": null,
   "metadata": {
    "collapsed": true
   },
   "outputs": [],
   "source": []
  }
 ],
 "metadata": {
  "anaconda-cloud": {},
  "kernelspec": {
   "display_name": "R",
   "language": "R",
   "name": "ir"
  },
  "language_info": {
   "codemirror_mode": "r",
   "file_extension": ".r",
   "mimetype": "text/x-r-source",
   "name": "R",
   "pygments_lexer": "r",
   "version": "3.3.1"
  },
  "latex_envs": {
   "bibliofile": "biblio.bib",
   "cite_by": "apalike",
   "current_citInitial": 1,
   "eqLabelWithNumbers": true,
   "eqNumInitial": 0
  },
  "toc": {
   "toc_cell": true,
   "toc_number_sections": true,
   "toc_threshold": 6,
   "toc_window_display": false
  }
 },
 "nbformat": 4,
 "nbformat_minor": 1
}
